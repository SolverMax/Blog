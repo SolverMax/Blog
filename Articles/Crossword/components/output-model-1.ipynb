{
 "cells": [
  {
   "cell_type": "code",
   "execution_count": null,
   "id": "e7c51632-972c-4475-9775-cf3e6cd62d62",
   "metadata": {},
   "outputs": [],
   "source": [
    "def WriteOutput(Model, Results):\n",
    "    Obj = pyo.value(Model.Obj())\n",
    "    print(f'Objective: {Obj:,.2f}')\n",
    "    print('Intersections: ', len(Model.Crossover))   # Number of across/down word intersections\n",
    "    print('\\nWords:')\n",
    "    for g in Model.GridWords:\n",
    "        for c in Model.Candidate:\n",
    "            if np.isclose(pyo.value(Model.Allocation[c, g]), 1):   # Allow for small deviations from binary values\n",
    "                CurrWord = \"\"\n",
    "                for i in range(0, pyo.value(Model.Length[c])):\n",
    "                    CurrWord += chr(pyo.value(Model.Word[c, i]))   # Get characters of allocated words\n",
    "                print(g + 1, \": \", CurrWord)"
   ]
  }
 ],
 "metadata": {
  "kernelspec": {
   "display_name": "Python 3 (ipykernel)",
   "language": "python",
   "name": "python3"
  },
  "language_info": {
   "codemirror_mode": {
    "name": "ipython",
    "version": 3
   },
   "file_extension": ".py",
   "mimetype": "text/x-python",
   "name": "python",
   "nbconvert_exporter": "python",
   "pygments_lexer": "ipython3",
   "version": "3.9.13"
  }
 },
 "nbformat": 4,
 "nbformat_minor": 5
}
