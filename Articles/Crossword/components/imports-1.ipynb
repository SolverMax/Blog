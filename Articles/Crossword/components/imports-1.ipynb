{
 "cells": [
  {
   "cell_type": "code",
   "execution_count": null,
   "id": "7ae23084-887a-4777-a63c-aecfbb663992",
   "metadata": {
    "editable": true,
    "slideshow": {
     "slide_type": ""
    },
    "tags": []
   },
   "outputs": [],
   "source": [
    "# Import dependencies\n",
    "import pyomo.environ as pyo\n",
    "import pandas as pd\n",
    "import numpy as np\n",
    "import time as tm\n",
    "import os.path\n",
    "from openpyxl import load_workbook\n",
    "from openpyxl.utils.cell import range_boundaries\n",
    "import random as rnd"
   ]
  }
 ],
 "metadata": {
  "kernelspec": {
   "display_name": "Python 3 (ipykernel)",
   "language": "python",
   "name": "python3"
  },
  "language_info": {
   "codemirror_mode": {
    "name": "ipython",
    "version": 3
   },
   "file_extension": ".py",
   "mimetype": "text/x-python",
   "name": "python",
   "nbconvert_exporter": "python",
   "pygments_lexer": "ipython3",
   "version": "3.9.13"
  }
 },
 "nbformat": 4,
 "nbformat_minor": 5
}
