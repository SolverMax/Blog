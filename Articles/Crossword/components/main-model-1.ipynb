{
 "cells": [
  {
   "cell_type": "code",
   "execution_count": 1,
   "id": "4cfff072-8d5c-4e76-9072-3887ec111953",
   "metadata": {},
   "outputs": [],
   "source": [
    "def Main():\n",
    "    Timer('Start');\n",
    "    Finished = False\n",
    "    Iteration = 0\n",
    "    Seed = RandomSeed\n",
    "\n",
    "    while not Finished:\n",
    "        rnd.seed(Seed)\n",
    "        Model = pyo.ConcreteModel(name = ModelName)\n",
    "        Model.Engine = SolverName\n",
    "        Model.TimeLimit = TimeLimit\n",
    "        if Iteration == 0:\n",
    "            print(Model.name)   # Print the model name only once\n",
    "            print('Grid:    ', GridFile.rsplit('\\\\', 1)[-1])\n",
    "            print('Lexicon: ', WordFile.rsplit('\\\\', 1)[-1])\n",
    "        print('\\nIteration: ', Iteration + 1, ' of ', MaxIterations)\n",
    "        Rank, Frequency, Word, GridWords, AcrossRef, AcrossPos, DownRef, DownPos = GetData(WordFile, WordWorksheet, GridFile, GridWorksheet)\n",
    "        DefineModelData(Model, Rank, Frequency, Word, GridWords, AcrossRef, AcrossPos, DownRef, DownPos)\n",
    "        Solver, Model = SetUpSolver(Model)\n",
    "        Timer('Setup');\n",
    "        DefineModel(Model)\n",
    "        WriteModelToFile(WriteFile, Model)   # Write model to file, if required\n",
    "        Timer('Create model');\n",
    "        print('Calling solver...')\n",
    "        Results, Model = CallSolver(Solver, Model)\n",
    "        Timer('Solved');\n",
    "        \n",
    "        if (Results.solver.status == pyo.SolverStatus.ok) or (Solver._solver_model.SolCount >= 1):   # Feasible/optimal or found at least one feasible solution\n",
    "            print('Solution for random seed:', Seed, '\\n')\n",
    "            Model.solutions.load_from(Results)   # Defer loading results until now, in case there is no solution to load\n",
    "            WriteOutput(Model, Results)\n",
    "            if StopOnFirst:   # Ignore iteration count and stop on first solution\n",
    "                Finished = True\n",
    "        else:\n",
    "            print('No solution for random seed:', Seed, '(', Results.solver.termination_condition, ')', '\\n')\n",
    "        Iteration += 1        \n",
    "        Seed += 1\n",
    "        if Iteration >= MaxIterations:   # If not stopping on first iteration, then stop after specified number of iterations\n",
    "            Finished = True\n",
    "    Timer('Finish')\n",
    "    WriteCheckpoints()"
   ]
  }
 ],
 "metadata": {
  "kernelspec": {
   "display_name": "Python 3 (ipykernel)",
   "language": "python",
   "name": "python3"
  },
  "language_info": {
   "codemirror_mode": {
    "name": "ipython",
    "version": 3
   },
   "file_extension": ".py",
   "mimetype": "text/x-python",
   "name": "python",
   "nbconvert_exporter": "python",
   "pygments_lexer": "ipython3",
   "version": "3.9.13"
  }
 },
 "nbformat": 4,
 "nbformat_minor": 5
}
