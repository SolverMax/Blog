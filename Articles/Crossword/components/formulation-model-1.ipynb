{
 "cells": [
  {
   "cell_type": "code",
   "execution_count": 1,
   "id": "1ab9c709-a751-4942-9f89-622fe70a09bb",
   "metadata": {
    "editable": true,
    "slideshow": {
     "slide_type": ""
    },
    "tags": []
   },
   "outputs": [],
   "source": [
    "# Define model\n",
    "def DefineModel(Model):\n",
    "    Model.Allocation = pyo.Var(Model.Candidate, Model.GridWords, within = pyo.Binary, initialize = 0)   # Allocate candidate words to grid\n",
    "\n",
    "    def rule_PosOnce(Model, g):   # Allocate exactly one candidate to each grid word position\n",
    "        return sum(Model.Allocation[c, g] for c in Model.Candidate) == 1\n",
    "    Model.EachPositionOnce = pyo.Constraint(Model.GridWords, rule = rule_PosOnce)\n",
    "    \n",
    "    def rule_WordOnce(Model, c):   # Allocate each word to a grid position at most once. Optional constraint\n",
    "        return sum(Model.Allocation[c, g] for g in Model.GridWords) <= 1\n",
    "    Model.EachWordOnce = pyo.Constraint(Model.Candidate, rule = rule_WordOnce)\n",
    "\n",
    "    def rule_Fit(Model, g):   # Ensure word exactly fills its allocated grid space\n",
    "        return sum(Model.Allocation[c, g] * Model.Length[c] for c in Model.Candidate) == Model.GridLengths[g]\n",
    "    Model.WordsFit = pyo.Constraint(Model.GridWords, rule = rule_Fit)\n",
    "\n",
    "    def rule_Intersection(Model, g1, g2, w, h):   # The intersection of grid words must have the same letter\n",
    "        if pyo.value(Model.AcrossRef[w, h]) != 0 and pyo.value(Model.DownRef[w, h]) != 0 and g1 == pyo.value(Model.AcrossRef[w, h]) - 1 \\\n",
    "                and g2 == pyo.value(Model.DownRef[w, h]) - 1:\n",
    "            return sum(Model.Allocation[c, g1] * Model.Word[c, pyo.value(Model.AcrossPos[w, h]) - 1] for c in Model.Candidate) == \\\n",
    "                sum(Model.Allocation[c, g2] * Model.Word[c, pyo.value(Model.DownPos[w, h]) - 1] for c in Model.Candidate)\n",
    "        else:\n",
    "            return pyo.Constraint.Skip\n",
    "    Model.Crossover = pyo.Constraint(Model.GridWords, Model.GridWords, Model.GridWidth, Model.GridHeight, rule = rule_Intersection)\n",
    "\n",
    "    def rule_Obj(Model):\n",
    "        return sum(sum(Model.Allocation[c, g] for g in Model.GridWords) * Model.Frequency[c] for c in Model.Candidate)\n",
    "    Model.Obj = pyo.Objective(rule = rule_Obj, sense = pyo.maximize)"
   ]
  }
 ],
 "metadata": {
  "kernelspec": {
   "display_name": "Python 3 (ipykernel)",
   "language": "python",
   "name": "python3"
  },
  "language_info": {
   "codemirror_mode": {
    "name": "ipython",
    "version": 3
   },
   "file_extension": ".py",
   "mimetype": "text/x-python",
   "name": "python",
   "nbconvert_exporter": "python",
   "pygments_lexer": "ipython3",
   "version": "3.9.13"
  }
 },
 "nbformat": 4,
 "nbformat_minor": 5
}
