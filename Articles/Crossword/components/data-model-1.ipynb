{
 "cells": [
  {
   "cell_type": "code",
   "execution_count": 1,
   "id": "fb79d6af-fe90-4ec7-b077-a3eb57db0eeb",
   "metadata": {
    "editable": true,
    "slideshow": {
     "slide_type": ""
    },
    "tags": []
   },
   "outputs": [],
   "source": [
    "# Load data from Excel file\n",
    "def GetData(WordFile, WordWorksheet, GridFile, GridWorksheet):\n",
    "    Rank = LoadFromExcel(WordFile, WordWorksheet, 'rank')\n",
    "    Frequency = LoadFromExcel(WordFile, WordWorksheet, 'frequency')\n",
    "    Word = LoadFromExcel(WordFile, WordWorksheet, 'word')\n",
    "    Rank.columns = ['Candidate']\n",
    "    Frequency.columns = ['Candidate']\n",
    "    Word.columns = ['Candidate']\n",
    "    \n",
    "    GridWords = LoadFromExcel(GridFile, GridWorksheet, 'NumWords')\n",
    "    AcrossRef = LoadFromExcel(GridFile, GridWorksheet, 'AcrossRef')\n",
    "    AcrossPos = LoadFromExcel(GridFile, GridWorksheet, 'AcrossPos')\n",
    "    DownRef = LoadFromExcel(GridFile, GridWorksheet, 'DownRef')\n",
    "    DownPos = LoadFromExcel(GridFile, GridWorksheet, 'DownPos')\n",
    "    \n",
    "    return Rank, Frequency, Word, GridWords, AcrossRef, AcrossPos, DownRef, DownPos"
   ]
  },
  {
   "cell_type": "code",
   "execution_count": 2,
   "id": "c4db48f3-4884-446c-935a-644acba77432",
   "metadata": {
    "editable": true,
    "slideshow": {
     "slide_type": ""
    },
    "tags": []
   },
   "outputs": [],
   "source": [
    "# Define model data, assigning all data to the Model\n",
    "def DefineModelData(Model, Rank, Frequency, Word, GridWords, AcrossRef, AcrossPos, DownRef, DownPos):\n",
    "    Size = SampleSize\n",
    "    if Size == 0:\n",
    "        Size = len(Rank)\n",
    "    else:\n",
    "        Size = min(SampleSize, len(Rank))\n",
    "    print(f'Lexicon size: {Size:,.0f}')\n",
    "    \n",
    "    Model.Candidate = pyo.Set(initialize = range(0, Size))   # Set of candidate words \n",
    "    Model.Ascii = pyo.Set(initialize = range(0, MaxWordLength))   # Set of ASCII character codes in a word\n",
    "    Model.Rank = pyo.Param(Model.Candidate, within = pyo.NonNegativeIntegers, mutable = True)   # Lexicon rank\n",
    "    Model.Frequency = pyo.Param(Model.Candidate, within = pyo.NonNegativeReals, mutable = True)   # Lexicon frequency\n",
    "    Model.Length = pyo.Param(Model.Candidate, within = pyo.NonNegativeIntegers, mutable = True)   # Number of characters in each candidate word\n",
    "    Model.Word = pyo.Param(Model.Candidate, Model.Ascii, within = pyo.NonNegativeIntegers, mutable = True)   # Each candidate word, split into ASCII codes\n",
    "\n",
    "    List = [i for i in range(0, len(Rank))]   # Row numbers for whole lexicon\n",
    "    if Size == len(Rank):\n",
    "        Sample = List   # Use whole lexicon\n",
    "    else:\n",
    "        Sample = rnd.sample(List, Size)   # Use sample of lexicon\n",
    "    CandidateNum = 0\n",
    "    for c in range(0, len(Rank)):   # Populate data for selected sample words\n",
    "        if c in Sample:\n",
    "            Model.Rank[CandidateNum] = Rank['Candidate'][c]\n",
    "            Model.Frequency[CandidateNum] = Frequency['Candidate'][c]\n",
    "            Model.Length[CandidateNum] = len(Word['Candidate'][c])\n",
    "            LettersAscii = list(bytes(Word['Candidate'][c], 'ascii'))   # ASCII codes for word's characters\n",
    "            for a in Model.Ascii:   # list of ASCII codes for each letter of a word, padded with zeroes beyond the word's length\n",
    "                if a >= len(LettersAscii):\n",
    "                    Model.Word[CandidateNum, a] = 0\n",
    "                else:\n",
    "                    Model.Word[CandidateNum, a] = LettersAscii[a]\n",
    "            CandidateNum += 1\n",
    "                \n",
    "    Grid_rows, Grid_cols = np.shape(AcrossRef)   # Note: Model defined as h, w while data accessed via w, h\n",
    "        \n",
    "    Model.GridWords = pyo.Set(initialize = range(0, GridWords.iloc[0][0]))   # Set for number of words in the grid\n",
    "    Model.GridWidth = pyo.Set(initialize = range(0, Grid_cols))   # Set width of the grid\n",
    "    Model.GridHeight = pyo.Set(initialize = range(0, Grid_rows))   # Set for the height of the grid\n",
    "    Model.AcrossRef = pyo.Param(Model.GridHeight, Model.GridWidth, within = pyo.NonNegativeIntegers, mutable = True)\n",
    "    Model.AcrossPos = pyo.Param(Model.GridHeight, Model.GridWidth, within = pyo.NonNegativeIntegers, mutable = True)\n",
    "    Model.DownRef = pyo.Param(Model.GridHeight, Model.GridWidth, within = pyo.NonNegativeIntegers, mutable = True)\n",
    "    Model.DownPos = pyo.Param(Model.GridHeight, Model.GridWidth, within = pyo.NonNegativeIntegers, mutable = True)\n",
    "    Model.GridLengths = pyo.Param(Model.GridWords, within = pyo.NonNegativeIntegers, mutable = True, initialize = 0)\n",
    "\n",
    "    for w in Model.GridWidth:\n",
    "        for h in Model.GridHeight:\n",
    "            Model.AcrossRef[h, w] = AcrossRef[w][h]   # Populate grid encoding\n",
    "            Model.AcrossPos[h, w] = AcrossPos[w][h]\n",
    "            Model.DownRef[h, w] = DownRef[w][h]\n",
    "            Model.DownPos[h, w] = DownPos[w][h]\n",
    "            if AcrossRef[w][h] >= 1:   # Get length of \"across\" words by looking at maximum position of each word\n",
    "                Model.GridLengths[AcrossRef[w][h] - 1] = max(pyo.value(Model.GridLengths[AcrossRef[w][h] - 1]), AcrossPos[w][h])\n",
    "            if DownRef[w][h] >= 1:   # Get length of \"down\" words by looking at maximum position of each word\n",
    "                Model.GridLengths[DownRef[w][h] - 1] = max(pyo.value(Model.GridLengths[DownRef[w][h] - 1]), DownPos[w][h])"
   ]
  }
 ],
 "metadata": {
  "kernelspec": {
   "display_name": "Python 3 (ipykernel)",
   "language": "python",
   "name": "python3"
  },
  "language_info": {
   "codemirror_mode": {
    "name": "ipython",
    "version": 3
   },
   "file_extension": ".py",
   "mimetype": "text/x-python",
   "name": "python",
   "nbconvert_exporter": "python",
   "pygments_lexer": "ipython3",
   "version": "3.9.13"
  }
 },
 "nbformat": 4,
 "nbformat_minor": 5
}
