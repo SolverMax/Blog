{
 "cells": [
  {
   "cell_type": "markdown",
   "id": "498043e7-560b-46f5-be2a-656b720984e2",
   "metadata": {},
   "source": [
    "# Crossword creator, Model 1\n",
    "\n",
    "## Purpose\n",
    "The purpose of this model is to generate a crossword grid using Mixed Integer Linear Programming (MILP).\n",
    "\n",
    "This model is inspired by \"Generating Crossword Grids Using Constraint Programming\" by Philippe Olivier, https://pedtsr.ca/2023/generating-crossword-grids-using-constraint-programming.html\n",
    "\n",
    "## Usage:\n",
    "- Define a crossword grid in an Excel file. See the examples for a guide. The \"Use fix words\" and \"Fix words\" values are not used in Model 1.\n",
    "- Specify the grid file name in <code>Grid</code>.\n",
    "- Specify a word lexicon file to use as <code>Lexicon</code>. The lexicon is a list of words in Excel. Each word has a frequency. The grid will be populated using a random sample, of specified size, from the list.\n",
    "- Specify global assumptions, as defined below.\n",
    "\n",
    "## Model 1 features:\n",
    "- The crossword grid does not need to be square; retangular grids can be specified.\n",
    "- A different random set of words can be selected by specifying a different value for <code>RandomSeed</code>.\n",
    "- The objective function is the total frequency from the lexicon, which can be minimized or maximized according to the <code>Direction</code> assumption.\n",
    "- If <code>StopOnFirst = True</code> then the solver will stop when the MIP gap is <= <code>MipGap</code>.\n",
    "- The model can be iterated over multiple random seeds. Specifing <code>MaxIterations</code> of 2 or more will produce that many iterations, with the random seed starting at value <code>RandomSeed</code> and incrementing by 1 each iteration."
   ]
  },
  {
   "cell_type": "code",
   "execution_count": null,
   "id": "7c789501-5273-446c-a69c-3f0d48e2eed0",
   "metadata": {},
   "outputs": [],
   "source": [
    "# Include other notebooks\n",
    "\n",
    "%run ./components/imports-1.ipynb\n",
    "%run ./components/utilities-1.ipynb\n",
    "%run ./components/solver-1.ipynb\n",
    "%run ./components/data-model-1.ipynb\n",
    "%run ./components/formulation-model-1.ipynb\n",
    "%run ./components/output-model-1.ipynb\n",
    "%run ./components/main-model-1.ipynb"
   ]
  },
  {
   "cell_type": "code",
   "execution_count": null,
   "id": "6e2292d2-da8e-466a-8d61-55412c78c818",
   "metadata": {},
   "outputs": [],
   "source": [
    "# Globals\n",
    "\n",
    "# Data assumptions\n",
    "Lexicon = 'gutenberg.xlsx'   # large.xlsx\n",
    "Grid = 'grid-7-1.xlsx'\n",
    "SampleSize = 5000   # Number of words to randomly select from WordFile. 0 means select all words\n",
    "\n",
    "# Run options\n",
    "MipGap = 100   # Highs: 100 (10000%) = stop on first feasible solution, or thereabouts; 0 = find optimum; CPLEX: 1 = first feasible, 0 = optimal; Gurobi: 100\n",
    "SolutionLimit = 1   # Gurobi only, 1 = stop on first MIP solution\n",
    "MaxIterations = 3   # Iterate random seeds, starting with RandomSeed and incrementing by 1 each iteration\n",
    "StopOnFirst = False   # Stop on first solution, even if < MaxIterations\n",
    "RandomSeed = 1\n",
    "Direction = 1   # 1 = maximize, -1 = minimize\n",
    "\n",
    "# Solver options\n",
    "Neos = False\n",
    "SolverName = 'gurobi_direct'\n",
    "os.environ['NEOS_EMAIL'] = 'your.email@example.com'\n",
    "Verbose = True\n",
    "LoadSolution = False\n",
    "TimeLimit = 1*3600   # seconds\n",
    "\n",
    "# Model file\n",
    "WriteFile = False\n",
    "ModelFile = 'model-1.nl'   # Extensions: .gams .lp .nl\n",
    "\n",
    "# Fixed\n",
    "ModelName = 'Crossword creator - Model 1'\n",
    "Checkpoints = []   # List of time checkpoints\n",
    "WordWorksheet = 'Data'\n",
    "GridWorksheet = 'Grid'\n",
    "WordFile = os.path.join(os.getcwd() + '\\lexicon', Lexicon)\n",
    "GridFile = os.path.join(os.getcwd() + '\\grid', Grid)\n",
    "MaxWordLength = 15"
   ]
  },
  {
   "cell_type": "code",
   "execution_count": null,
   "id": "410333d1-6110-4aaa-a05f-4e60eb112d2f",
   "metadata": {
    "editable": true,
    "raw_mimetype": "",
    "slideshow": {
     "slide_type": ""
    },
    "tags": []
   },
   "outputs": [],
   "source": [
    "Main()"
   ]
  }
 ],
 "metadata": {
  "kernelspec": {
   "display_name": "Python 3 (ipykernel)",
   "language": "python",
   "name": "python3"
  },
  "language_info": {
   "codemirror_mode": {
    "name": "ipython",
    "version": 3
   },
   "file_extension": ".py",
   "mimetype": "text/x-python",
   "name": "python",
   "nbconvert_exporter": "python",
   "pygments_lexer": "ipython3",
   "version": "3.9.13"
  }
 },
 "nbformat": 4,
 "nbformat_minor": 5
}
