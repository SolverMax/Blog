{
 "cells": [
  {
   "cell_type": "markdown",
   "id": "498043e7-560b-46f5-be2a-656b720984e2",
   "metadata": {},
   "source": [
    "# Crossword creator, Model 2\n",
    "\n",
    "## Purpose\n",
    "The purpose of this model is to generate a crossword grid using Mixed Integer Linear Programming (MILP).\n",
    "\n",
    "This model is inspired by \"Generating Crossword Grids Using Constraint Programming\" by Philippe Olivier, https://pedtsr.ca/2023/generating-crossword-grids-using-constraint-programming.html\n",
    "\n",
    "## Usage:\n",
    "- Define a crossword grid in an Excel file. See the examples for a guide.\n",
    "- Specify the grid file name in <code>Grid</code>.\n",
    "- Specify a word lexicon file to use as <code>Lexicon</code>. The lexicon is a list of words in Excel. Each word has a frequency. The grid will be populated using a random sample, of specified size, from the list.\n",
    "- In the grid file, define a list (\"Fix words\") of grid positions to fix, meaning that words of the approriate length will be randomly selected for those position. Turn this feature on/off with \"Use fix words\".\n",
    "- Specify global assumptions, as defined below.\n",
    "\n",
    "## Model 2 features, in addition to the Model 1 features:\n",
    "- Specified grid positions can be pre-populated with fixed values, using words randomly selected from the lexicon. Use this feature sparingly, as it is easy to make the model infeasible. It is tyically best to fix only a few. Avoid grid positions that intersect.\n",
    "- The constraints are constructed by excluding terms that are clearly infeasible. This feature materially reduces the model size and reduces solve time.\n",
    "- Variables are fixed at zero if a candidate word length doesn't match grid word length. This feature substantially reduces solve time.\n",
    "- Alternative objective functions are available, selected via <code>ObjectiveChoice</code>."
   ]
  },
  {
   "cell_type": "code",
   "execution_count": null,
   "id": "7c789501-5273-446c-a69c-3f0d48e2eed0",
   "metadata": {},
   "outputs": [],
   "source": [
    "# Include other notebooks\n",
    "\n",
    "%run ./components/imports-1.ipynb\n",
    "%run ./components/utilities-1.ipynb\n",
    "%run ./components/solver-1.ipynb\n",
    "%run ./components/data-model-2.ipynb\n",
    "%run ./components/formulation-model-2.ipynb\n",
    "%run ./components/output-model-1.ipynb\n",
    "%run ./components/main-model-2.ipynb"
   ]
  },
  {
   "cell_type": "code",
   "execution_count": null,
   "id": "6e2292d2-da8e-466a-8d61-55412c78c818",
   "metadata": {},
   "outputs": [],
   "source": [
    "# Globals\n",
    "\n",
    "# Data assumptions\n",
    "Lexicon = 'large.xlsx'   # gutenberg.xlsx\n",
    "Grid = 'grid-x-1.xlsx'\n",
    "SampleSize = 50000   # Number of words to randomly select from WordFile. 0 means select all words\n",
    "SingleWordSquare = False   # Use True only for 100% dense square grids, otherwise must be False\n",
    "\n",
    "# Run options\n",
    "MipGap = 100   # Highs: 100 (10000%) = stop on first feasible solution, or thereabouts; 0 = find optimum; CPLEX: 1 = first feasible, 0 = optimal; Gurobi: 100\n",
    "SolutionLimit = 1   # Gurobi only, 1 = stop on first MIP solution\n",
    "MaxIterations = 10   # Iterate random seeds, starting with RandomSeed and incrementing by 1 each iteration\n",
    "StopOnFirst = False   # Stop on first solution, even if < MaxIterations\n",
    "RandomSeed = 1   # Starting value\n",
    "Direction = 1   # 1 = maximize, -1 = minimize\n",
    "ObjectiveChoice = 3   # 1 = Allocated words weighted by frequency; 2 = Allocated words; 3 = Number of intersections with same letter (requires maximize)\n",
    "\n",
    "# Solver options\n",
    "Neos = False\n",
    "SolverName = 'gurobi_direct'   #'appsi_highs'   'gurobi_direct'\n",
    "os.environ['NEOS_EMAIL'] = 'your.email@example.com'\n",
    "Verbose = True\n",
    "LoadSolution = False\n",
    "TimeLimit = 4*3600   # seconds\n",
    "\n",
    "# Model file\n",
    "WriteFile = False\n",
    "ModelFile = 'model-2.gams'   # Extensions: .gams .lp .nl\n",
    "\n",
    "# Fixed\n",
    "ModelName = 'Crossword creator - Model 2'\n",
    "Checkpoints = []   # List of time checkpoints\n",
    "WordWorksheet = 'Data'\n",
    "GridWorksheet = 'Grid'\n",
    "WordFile = os.path.join(os.getcwd() + '\\lexicon', Lexicon)\n",
    "GridFile = os.path.join(os.getcwd() + '\\grid', Grid)\n",
    "MaxWordLength = 15"
   ]
  },
  {
   "cell_type": "code",
   "execution_count": null,
   "id": "fc5a90e0-9d28-479f-b5cc-ef9c73de715f",
   "metadata": {
    "editable": true,
    "raw_mimetype": "",
    "slideshow": {
     "slide_type": ""
    },
    "tags": []
   },
   "outputs": [],
   "source": [
    "Main()"
   ]
  }
 ],
 "metadata": {
  "kernelspec": {
   "display_name": "Python 3 (ipykernel)",
   "language": "python",
   "name": "python3"
  },
  "language_info": {
   "codemirror_mode": {
    "name": "ipython",
    "version": 3
   },
   "file_extension": ".py",
   "mimetype": "text/x-python",
   "name": "python",
   "nbconvert_exporter": "python",
   "pygments_lexer": "ipython3",
   "version": "3.9.13"
  }
 },
 "nbformat": 4,
 "nbformat_minor": 5
}
