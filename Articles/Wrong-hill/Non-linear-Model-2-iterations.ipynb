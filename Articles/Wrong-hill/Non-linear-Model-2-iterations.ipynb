{
 "cells": [
  {
   "attachments": {},
   "cell_type": "markdown",
   "id": "9cd8b16e-0306-4575-a8ed-4d28cd47faa8",
   "metadata": {},
   "source": [
    "# Non-linear example, Model 2\n",
    "\n",
    "This model uses an external options file to control the number of iterations the solver does. We increment the allowed number of iterations, to show how the solver progrsses towards a solution.\n",
    "\n",
    "This model works only with the Ipopt solver."
   ]
  },
  {
   "cell_type": "code",
   "execution_count": 1,
   "id": "4b16cb5f-9346-41db-b57c-120a49e668ae",
   "metadata": {},
   "outputs": [],
   "source": [
    "# Import modules\n",
    "\n",
    "%run ./components/imports.ipynb\n",
    "%run ./components/objective-functions.ipynb\n",
    "%run ./components/solver.ipynb"
   ]
  },
  {
   "cell_type": "code",
   "execution_count": 2,
   "id": "d120abf8-5902-4f1e-a10f-e4eb6d79d272",
   "metadata": {},
   "outputs": [],
   "source": [
    "# Global assumptions\n",
    "\n",
    "Model = pyo.ConcreteModel(name = 'Non-linear example - Model 2')\n",
    "Function = 2   # 1, 2, or 3\n",
    "Model = DefineFunction(Model, Function)\n",
    "Model.TimeLimit = 60   # seconds\n",
    "Model.Engine = 'ipopt'   # Only works with ipopt\n",
    "OptionsFile = Model.Engine + '.opt'"
   ]
  },
  {
   "cell_type": "code",
   "execution_count": 3,
   "id": "0f69238c-c0b1-4489-a0f6-cde9f0ff9111",
   "metadata": {},
   "outputs": [
    {
     "name": "stdout",
     "output_type": "stream",
     "text": [
      "Non-linear example - Model 2, objective function = 2, solver = ipopt \n",
      "\n",
      "Iterations        x    Objective    Condition\n",
      "-------------------------------------------------\n",
      "         0   0.0100       0.0191    maxIterations\n",
      "         1   0.1108       0.0282    maxIterations\n",
      "         2   0.4863       0.1011    maxIterations\n",
      "         3   0.6399       0.1572    maxIterations\n",
      "         4   2.4615       0.8082    maxIterations\n",
      "         5   1.6658       0.8943    maxIterations\n",
      "         6   2.1004       0.9900    maxIterations\n",
      "         7   1.9986       1.0000    maxIterations\n",
      "         8   2.0000       1.0000    maxIterations\n",
      "         9   2.0000       1.0000    maxIterations\n",
      "        10   2.0000       1.0000    optimal\n",
      "\n",
      "Obj : Size=1, Index=None, Active=True\n",
      "    Key  : Active : Sense    : Expression\n",
      "    None :   True : maximize : exp(- (x - 2)**2)\n"
     ]
    }
   ],
   "source": [
    "# Main\n",
    "\n",
    "Initialx = 0   # Must be within the bounds on x\n",
    "MaxIter = 30   # The solver will stop at this number of iterations, or earlier if it finds an optimal solution\n",
    "print(Model.name + ', objective function = ' + str(Function) + ', solver = ' + Model.Engine, '\\n')\n",
    "\n",
    "print('Iterations        x    Objective    Condition')\n",
    "print('-------------------------------------------------')\n",
    "for i in range(0, MaxIter):\n",
    "    Model.x = Initialx\n",
    "    fd = os.open(OptionsFile, os.O_RDWR|os.O_CREAT) \n",
    "    os.write(fd, str.encode('max_iter ' + str(i))) \n",
    "    os.close(fd) \n",
    "    Solver, Model = SetUpSolver(Model)\n",
    "    Results, Model = CallSolver(Solver, Model)\n",
    "    Condition = Results.solver.termination_condition\n",
    "    print(f'   {i:7.0f}  {Model.x():7.4f}      {Model.Obj():7.4f}    {Condition}')\n",
    "    os.remove(OptionsFile)\n",
    "    if Condition == 'optimal':\n",
    "        print()\n",
    "        break\n",
    "\n",
    "Model.Obj.pprint()"
   ]
  }
 ],
 "metadata": {
  "kernelspec": {
   "display_name": "Python 3 (ipykernel)",
   "language": "python",
   "name": "python3"
  },
  "language_info": {
   "codemirror_mode": {
    "name": "ipython",
    "version": 3
   },
   "file_extension": ".py",
   "mimetype": "text/x-python",
   "name": "python",
   "nbconvert_exporter": "python",
   "pygments_lexer": "ipython3",
   "version": "3.9.13"
  }
 },
 "nbformat": 4,
 "nbformat_minor": 5
}
