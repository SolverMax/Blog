{
 "cells": [
  {
   "attachments": {},
   "cell_type": "markdown",
   "id": "9cd8b16e-0306-4575-a8ed-4d28cd47faa8",
   "metadata": {},
   "source": [
    "# Non-linear example, Model 4\n",
    "\n",
    "This model uses Pyomo's multistart feature to improve the odds of finding good solutions.\n",
    "\n",
    "The number of restarts is specified by <code>Model.Repeats</code>.\n",
    "\n",
    "Note that we import a different solver functions file."
   ]
  },
  {
   "cell_type": "code",
   "execution_count": 1,
   "id": "4b16cb5f-9346-41db-b57c-120a49e668ae",
   "metadata": {},
   "outputs": [],
   "source": [
    "# Import modules\n",
    "\n",
    "%run ./components/imports.ipynb\n",
    "%run ./components/objective-functions.ipynb\n",
    "%run ./components/solver-4.ipynb"
   ]
  },
  {
   "cell_type": "code",
   "execution_count": 2,
   "id": "b92c7e96-ff01-4fac-b5cc-0c387000e6ab",
   "metadata": {},
   "outputs": [],
   "source": [
    "# Global assumptions\n",
    "\n",
    "Model = pyo.ConcreteModel(name = 'Non-linear example - Model 4')\n",
    "Function = 3   # 1, 2, or 3\n",
    "Model = DefineFunction(Model, Function)\n",
    "Model.TimeLimit = 60   # seconds\n",
    "Model.Engine = 'bonmin'\n",
    "Model.Repeats = 10   # 0 means no multi-start; n means do n re-starts"
   ]
  },
  {
   "cell_type": "code",
   "execution_count": 3,
   "id": "2be43852-e457-4bd4-bfe5-c2ea27afc781",
   "metadata": {},
   "outputs": [
    {
     "name": "stdout",
     "output_type": "stream",
     "text": [
      "Non-linear example - Model 4, objective function = 3, solver = bonmin \n",
      "\n",
      "Initial           x    Objective    Condition\n",
      "----------------------------------------------\n",
      "      0      2.8317       1.9328    optimal\n",
      "\n",
      "Obj : Size=1, Index=None, Active=True\n",
      "    Key  : Active : Sense    : Expression\n",
      "    None :   True : maximize : -2.0*exp(- (x - 1.0)**2) + 2.0*exp(- (x - 2.75)**2) + 1.75*exp(- (x - 5.0)**2) - exp(- (x - 7.0)**2)\n"
     ]
    }
   ],
   "source": [
    "# Main\n",
    "\n",
    "print(Model.name + ', objective function = ' + str(Function) + ', solver = ' + Model.Engine, '\\n')\n",
    "print('Initial           x    Objective    Condition')\n",
    "print('----------------------------------------------')\n",
    "Initialx = 0   # Must be within the bounds on x\n",
    "Model.x = Initialx\n",
    "Solver = SetUpSolver()\n",
    "Results, Model = CallSolver(Solver, Model)\n",
    "Condition = Results.solver.termination_condition\n",
    "print(f'{Initialx:7.0f}     {Model.x():7.4f}      {Model.Obj():7.4f}    {Condition}\\n')\n",
    "Model.Obj.pprint()"
   ]
  }
 ],
 "metadata": {
  "kernelspec": {
   "display_name": "Python 3 (ipykernel)",
   "language": "python",
   "name": "python3"
  },
  "language_info": {
   "codemirror_mode": {
    "name": "ipython",
    "version": 3
   },
   "file_extension": ".py",
   "mimetype": "text/x-python",
   "name": "python",
   "nbconvert_exporter": "python",
   "pygments_lexer": "ipython3",
   "version": "3.9.13"
  }
 },
 "nbformat": 4,
 "nbformat_minor": 5
}
