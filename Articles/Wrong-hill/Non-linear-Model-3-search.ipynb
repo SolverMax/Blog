{
 "cells": [
  {
   "attachments": {},
   "cell_type": "markdown",
   "id": "9cd8b16e-0306-4575-a8ed-4d28cd47faa8",
   "metadata": {},
   "source": [
    "# Non-linear example, Model 3\n",
    "\n",
    "To see how the \"optimal\" solution depends on the starting point, we do a grid search of initial values for the variable."
   ]
  },
  {
   "cell_type": "code",
   "execution_count": 1,
   "id": "4b16cb5f-9346-41db-b57c-120a49e668ae",
   "metadata": {},
   "outputs": [],
   "source": [
    "# Import modules\n",
    "\n",
    "%run ./components/imports.ipynb\n",
    "%run ./components/objective-functions.ipynb\n",
    "%run ./components/solver.ipynb"
   ]
  },
  {
   "cell_type": "code",
   "execution_count": 2,
   "id": "e2cd37b0-0378-4edc-b7c7-15e667bafe55",
   "metadata": {},
   "outputs": [],
   "source": [
    "# Global assumptions\n",
    "\n",
    "Model = pyo.ConcreteModel(name = 'Non-linear example - Model 3')\n",
    "Function = 3   # 1, 2, or 3\n",
    "Model = DefineFunction(Model, Function)\n",
    "Model.TimeLimit = 60   # seconds\n",
    "Model.Engine = 'ipopt'"
   ]
  },
  {
   "cell_type": "code",
   "execution_count": 3,
   "id": "b9a9f50e-0da1-4422-9c31-62f6fae055b7",
   "metadata": {},
   "outputs": [
    {
     "name": "stdout",
     "output_type": "stream",
     "text": [
      "Non-linear example - Model 3, objective function = 3, solver = ipopt \n",
      "\n",
      "Initialx           x    Objective    Condition\n",
      "----------------------------------------------\n",
      "  0.0000      0.0000      -0.7347    optimal\n",
      "  1.0000      2.8317       1.9328    optimal\n",
      "  2.0000      2.8317       1.9328    optimal\n",
      "  3.0000      2.8317       1.9328    optimal\n",
      "  4.0000      4.9627       1.7468    optimal\n",
      "  5.0000      4.9627       1.7468    optimal\n",
      "  6.0000      2.8317       1.9328    optimal\n",
      "  7.0000      2.8317       1.9328    optimal\n",
      "  8.0000      8.0000      -0.3677    optimal\n",
      "\n",
      "Best objective =  1.9328 at x =  2.8317\n",
      "\n",
      "Obj : Size=1, Index=None, Active=True\n",
      "    Key  : Active : Sense    : Expression\n",
      "    None :   True : maximize : -2.0*exp(- (x - 1.0)**2) + 2.0*exp(- (x - 2.75)**2) + 1.75*exp(- (x - 5.0)**2) - exp(- (x - 7.0)**2)\n"
     ]
    }
   ],
   "source": [
    "# Main\n",
    "\n",
    "print(Model.name + ', objective function = ' + str(Function) + ', solver = ' + Model.Engine, '\\n')\n",
    "print('Initialx           x    Objective    Condition')\n",
    "print('----------------------------------------------')\n",
    "Bestx = -np.inf\n",
    "for Initialx in np.arange(Model.xMin, Model.xMax + 1, 1.0):\n",
    "    Model.x = Initialx\n",
    "    Solver, Model = SetUpSolver(Model)\n",
    "    Results, Model = CallSolver(Solver, Model)\n",
    "    Condition = Results.solver.termination_condition\n",
    "    print(f'{Initialx:8.4f}     {Model.x():7.4f}      {Model.Obj():7.4f}    {Condition}')\n",
    "    if Model.Obj.sense == 1:   # Minimize, 1\n",
    "        if Model.Obj() < Model.BestObj:\n",
    "            Model.BestObj = Model.Obj()\n",
    "            Bestx = Model.x()\n",
    "    else:   # Maximize, -1\n",
    "        if Model.Obj() > Model.BestObj:\n",
    "            Model.BestObj = Model.Obj()\n",
    "            Bestx = Model.x()\n",
    "\n",
    "print(f'\\nBest objective = {Model.BestObj:7.4f} at x = {Bestx:7.4f}\\n')\n",
    "Model.Obj.pprint()"
   ]
  }
 ],
 "metadata": {
  "kernelspec": {
   "display_name": "Python 3 (ipykernel)",
   "language": "python",
   "name": "python3"
  },
  "language_info": {
   "codemirror_mode": {
    "name": "ipython",
    "version": 3
   },
   "file_extension": ".py",
   "mimetype": "text/x-python",
   "name": "python",
   "nbconvert_exporter": "python",
   "pygments_lexer": "ipython3",
   "version": "3.9.13"
  }
 },
 "nbformat": 4,
 "nbformat_minor": 5
}
