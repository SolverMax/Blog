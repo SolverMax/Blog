{
 "cells": [
  {
   "cell_type": "code",
   "execution_count": null,
   "id": "d4f1b8cb-83b6-48e8-b4e7-f902d7b0bb4a",
   "metadata": {},
   "outputs": [],
   "source": [
    "# Define variable and the objective function choices\n",
    "\n",
    "def DefineFunction(Model, Function):\n",
    "    # Set bounds on x\n",
    "    Model.xMin = 0\n",
    "    Model.xMax = 8\n",
    "\n",
    "    Model.x = pyo.Var(domain = pyo.Reals, bounds = (Model.xMin, Model.xMax),  initialize = 0)\n",
    "\n",
    "    # Define objective function choices\n",
    "    if Function == 1:\n",
    "        z = 1.5 * Model.x + 1  # Linear\n",
    "    elif Function == 2:\n",
    "        z = 1 * pyo.exp(-((Model.x - 2)**2))   # Non-linear bump\n",
    "    else:\n",
    "        Height =   [-2.000,  2.000,  1.750, -1.000]   # Negative height indicates a dip\n",
    "        Position = [ 1.000,  2.750,  5.000,  7.000]\n",
    "        z = 0\n",
    "        for t in range(0, len(Position)):\n",
    "            z += Height[t] * pyo.exp(-((Model.x - Position[t])**2))   # Non-linear bumps and dips\n",
    "    \n",
    "    Model.Obj = pyo.Objective(expr = z, sense = pyo.maximize)\n",
    "    \n",
    "    if Model.Obj.sense == 1:   # Minimize\n",
    "        Model.BestObj = np.inf   # Initialize best objective function value found\n",
    "    else:   # Maximize\n",
    "        Model.BestObj = -np.inf\n",
    "\n",
    "    return Model        "
   ]
  }
 ],
 "metadata": {
  "kernelspec": {
   "display_name": "Python 3 (ipykernel)",
   "language": "python",
   "name": "python3"
  },
  "language_info": {
   "codemirror_mode": {
    "name": "ipython",
    "version": 3
   },
   "file_extension": ".py",
   "mimetype": "text/x-python",
   "name": "python",
   "nbconvert_exporter": "python",
   "pygments_lexer": "ipython3",
   "version": "3.9.13"
  }
 },
 "nbformat": 4,
 "nbformat_minor": 5
}
