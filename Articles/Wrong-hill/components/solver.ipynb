{
 "cells": [
  {
   "cell_type": "code",
   "execution_count": 1,
   "id": "526984e9-cf4e-4916-90ab-bcebdc58af50",
   "metadata": {
    "editable": true,
    "slideshow": {
     "slide_type": ""
    },
    "tags": []
   },
   "outputs": [],
   "source": [
    "# Create the Solver object for a local solver\n",
    "def SetUpSolver(Model):\n",
    "    Solver = pyo.SolverFactory(pyo.value(Model.Engine))   # Local solver installed\n",
    "    return Solver, Model"
   ]
  },
  {
   "cell_type": "code",
   "execution_count": 2,
   "id": "f6d847fb-073f-446b-9bd8-085117c49067",
   "metadata": {
    "editable": true,
    "slideshow": {
     "slide_type": ""
    },
    "tags": []
   },
   "outputs": [],
   "source": [
    "# Call a local solver\n",
    "def CallSolver(Solver, Model):\n",
    "    Results = Solver.solve(Model, load_solutions = True, tee = False)\n",
    "    return Results, Model"
   ]
  }
 ],
 "metadata": {
  "kernelspec": {
   "display_name": "Python 3 (ipykernel)",
   "language": "python",
   "name": "python3"
  },
  "language_info": {
   "codemirror_mode": {
    "name": "ipython",
    "version": 3
   },
   "file_extension": ".py",
   "mimetype": "text/x-python",
   "name": "python",
   "nbconvert_exporter": "python",
   "pygments_lexer": "ipython3",
   "version": "3.9.13"
  }
 },
 "nbformat": 4,
 "nbformat_minor": 5
}
