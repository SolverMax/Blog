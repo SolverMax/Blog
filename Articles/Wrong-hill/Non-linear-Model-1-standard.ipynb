{
 "cells": [
  {
   "attachments": {},
   "cell_type": "markdown",
   "id": "9cd8b16e-0306-4575-a8ed-4d28cd47faa8",
   "metadata": {},
   "source": [
    "# Non-linear example, Model 1\n",
    "\n",
    "We solve an optimization of one variable, with a choice of functions:\n",
    "- Linear objective function.\n",
    "- Simple non-linear objective function.\n",
    "- More complex non-linear objective function.\n",
    "\n",
    "The only constraints are bounds on the variable.\n",
    "\n",
    "To see how the \"optimal\" solution depends on the starting point, we can specify an initial value for the variable.\n",
    "\n",
    "We can also change the solver, to see how they behave differently."
   ]
  },
  {
   "cell_type": "code",
   "execution_count": 1,
   "id": "4b16cb5f-9346-41db-b57c-120a49e668ae",
   "metadata": {},
   "outputs": [],
   "source": [
    "# Import modules\n",
    "\n",
    "%run ./components/imports.ipynb\n",
    "%run ./components/objective-functions.ipynb\n",
    "%run ./components/solver.ipynb"
   ]
  },
  {
   "cell_type": "code",
   "execution_count": 2,
   "id": "08369495-d865-44e1-b580-4acf132ac540",
   "metadata": {},
   "outputs": [],
   "source": [
    "# Global assumptions\n",
    "\n",
    "Model = pyo.ConcreteModel(name = \"Non-linear example - Model 1\")\n",
    "Function = 3   # 1, 2, or 3\n",
    "Model = DefineFunction(Model, Function)\n",
    "Model.TimeLimit = 60   # seconds\n",
    "Model.Engine = 'bonmin'"
   ]
  },
  {
   "cell_type": "code",
   "execution_count": 3,
   "id": "7d6a31fb-2e84-48d1-93cc-38440dfdd391",
   "metadata": {},
   "outputs": [
    {
     "name": "stdout",
     "output_type": "stream",
     "text": [
      "Non-linear example - Model 1, objective function = 3, solver = bonmin \n",
      "\n",
      "Initial           x    Objective    Condition\n",
      "----------------------------------------------\n",
      "      7      8.0000      -0.3677    optimal\n",
      "\n",
      "Obj : Size=1, Index=None, Active=True\n",
      "    Key  : Active : Sense    : Expression\n",
      "    None :   True : maximize : -2.0*exp(- (x - 1.0)**2) + 2.0*exp(- (x - 2.75)**2) + 1.75*exp(- (x - 5.0)**2) - exp(- (x - 7.0)**2)\n"
     ]
    }
   ],
   "source": [
    "# Main\n",
    "\n",
    "print(Model.name + ', objective function = ' + str(Function) + ', solver = ' + Model.Engine, '\\n')\n",
    "print('Initial           x    Objective    Condition')\n",
    "print('----------------------------------------------')\n",
    "Initialx = 0   # Must be within the bounds on x\n",
    "Model.x = Initialx\n",
    "Solver, Model = SetUpSolver(Model)\n",
    "Model.Options = {'MAX_SOLVER_TIME': Model.TimeLimit, 'MILP_SOLVER': 'HIGHS'}\n",
    "Results, Model = CallSolver(Solver, Model)\n",
    "Condition = Results.solver.termination_condition\n",
    "print(f'{Initialx:7.0f}     {Model.x():7.4f}      {Model.Obj():7.4f}    {Condition}\\n')\n",
    "Model.Obj.pprint()"
   ]
  }
 ],
 "metadata": {
  "kernelspec": {
   "display_name": "Python 3 (ipykernel)",
   "language": "python",
   "name": "python3"
  },
  "language_info": {
   "codemirror_mode": {
    "name": "ipython",
    "version": 3
   },
   "file_extension": ".py",
   "mimetype": "text/x-python",
   "name": "python",
   "nbconvert_exporter": "python",
   "pygments_lexer": "ipython3",
   "version": "3.9.13"
  }
 },
 "nbformat": 4,
 "nbformat_minor": 5
}
