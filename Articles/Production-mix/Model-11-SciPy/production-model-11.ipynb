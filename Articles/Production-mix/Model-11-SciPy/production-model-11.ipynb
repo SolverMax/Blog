{
 "cells": [
  {
   "cell_type": "markdown",
   "id": "7737ae5a-95ea-404a-ab6f-64d192f45cd8",
   "metadata": {},
   "source": [
    "# Production mix - Model 11\n",
    "\n",
    "## Situation\n",
    "\n",
    "You own a boutique pottery business, making and selling two types of large ornamental products called Lunar Orb and Solar Disc. Given constraints on staff hours, available materials, and product sales, your objective is to maximize the total profit margin from the shop.\n",
    "\n",
    "## Implementation\n",
    "\n",
    "Linear Program (LP), using SciPy. The data is loaded from an external json file.\n",
    "\n",
    "Note: In Jupyter Lab a json file is opened, by default, in json format. To make changes to the file, open the file with the Editor (right-click > Open with > Editor).\n",
    "\n",
    "## Source\n",
    "\n",
    "Replicates an Excel model described in article \"Production mix via graphical LP\" at https://www.solvermax.com/blog/production-mix."
   ]
  },
  {
   "cell_type": "code",
   "execution_count": 1,
   "id": "d441d5b8-6f12-4a52-b386-de0f0167e042",
   "metadata": {},
   "outputs": [],
   "source": [
    "# Import dependencies\n",
    "\n",
    "from scipy.optimize import linprog\n",
    "import pandas as pd\n",
    "import numpy as np\n",
    "import os.path\n",
    "import json"
   ]
  },
  {
   "cell_type": "code",
   "execution_count": 2,
   "id": "2a2ee883-d4d0-496e-851b-6aa253c778a3",
   "metadata": {},
   "outputs": [],
   "source": [
    "# Get data\n",
    "\n",
    "DataFilename = os.path.join('.', 'productiondata11.json')\n",
    "with open(DataFilename, 'r') as f:\n",
    "    Data = json.load(f)"
   ]
  },
  {
   "cell_type": "code",
   "execution_count": 3,
   "id": "5c6e71aa-2429-4d3f-9e55-268f23fd49d9",
   "metadata": {},
   "outputs": [],
   "source": [
    "# Declarations\n",
    "\n",
    "Name = Data['Name']\n",
    "Hours = Data['Hours']\n",
    "kg = Data['kg']\n",
    "SalesLimit = Data['SalesLimit']\n",
    "VarInitial = Data['VarInitial']   # Not used\n",
    "VarLBounds = Data['VarLBounds']\n",
    "VarUBounds = Data['VarUBounds']\n",
    "Engine = Data['Engine']\n",
    "TimeLimit = Data['TimeLimit']\n",
    "\n",
    "Coefficients = Data['Coefficients']\n",
    "Products = list(Coefficients.keys())\n",
    "NumProducts = len(Products)"
   ]
  },
  {
   "cell_type": "code",
   "execution_count": 4,
   "id": "610c0566-6b5c-4d45-a139-801f896478ad",
   "metadata": {},
   "outputs": [],
   "source": [
    "# Define model\n",
    "\n",
    "Margin = np.zeros(NumProducts)\n",
    "People = np.zeros(NumProducts)\n",
    "Materials = np.zeros(NumProducts)\n",
    "Sales = np.zeros(NumProducts)\n",
    "for p in Products:\n",
    "    i = int(p)-1\n",
    "    Margin[i]    = -Coefficients[p]['Margin']  # Need to negate, as SciPy always minimizes, but we want to maximize\n",
    "    People[i]    =  Coefficients[p]['People']\n",
    "    Materials[i] =  Coefficients[p]['Materials']\n",
    "    Sales[i]     =  Coefficients[p]['Sales']\n",
    "    \n",
    "ObJCoeff = Margin\n",
    "Constraints = [People, Materials, Sales]\n",
    "rhs = [Hours, kg, SalesLimit];"
   ]
  },
  {
   "cell_type": "code",
   "execution_count": 5,
   "id": "333ce103-342b-4851-9bd9-920572bd5abf",
   "metadata": {},
   "outputs": [],
   "source": [
    "# Solve model\n",
    "\n",
    "Model = linprog(c = ObJCoeff, A_ub = Constraints, b_ub = rhs, bounds = [(VarLBounds, VarUBounds)], method = Engine, options = {'time_limit': TimeLimit})"
   ]
  },
  {
   "cell_type": "code",
   "execution_count": 6,
   "id": "85706f5f-f5e7-44fb-bc2d-8699a344b6e5",
   "metadata": {},
   "outputs": [],
   "source": [
    "# Process results\n",
    "\n",
    "WriteSolution = False\n",
    "Optimal = False\n",
    "Condition = Model.success\n",
    "\n",
    "if Condition:\n",
    "    Optimal = True\n",
    "    WriteSolution = True"
   ]
  },
  {
   "cell_type": "code",
   "execution_count": 7,
   "id": "a5d34fee-2191-4778-8aa9-08d030402d8d",
   "metadata": {},
   "outputs": [
    {
     "name": "stdout",
     "output_type": "stream",
     "text": [
      "Boutique pottery shop - Model 11 \n",
      "\n",
      "Status:  True \n",
      "\n",
      "Total margin = $3,076.92\n",
      "\n"
     ]
    },
    {
     "data": {
      "text/html": [
       "<div>\n",
       "<style scoped>\n",
       "    .dataframe tbody tr th:only-of-type {\n",
       "        vertical-align: middle;\n",
       "    }\n",
       "\n",
       "    .dataframe tbody tr th {\n",
       "        vertical-align: top;\n",
       "    }\n",
       "\n",
       "    .dataframe thead th {\n",
       "        text-align: right;\n",
       "    }\n",
       "</style>\n",
       "<table border=\"1\" class=\"dataframe\">\n",
       "  <thead>\n",
       "    <tr style=\"text-align: right;\">\n",
       "      <th></th>\n",
       "      <th>Production</th>\n",
       "    </tr>\n",
       "  </thead>\n",
       "  <tbody>\n",
       "    <tr>\n",
       "      <th>1</th>\n",
       "      <td>6.4103</td>\n",
       "    </tr>\n",
       "    <tr>\n",
       "      <th>2</th>\n",
       "      <td>12.8205</td>\n",
       "    </tr>\n",
       "  </tbody>\n",
       "</table>\n",
       "</div>"
      ],
      "text/plain": [
       "   Production\n",
       "1      6.4103\n",
       "2     12.8205"
      ]
     },
     "metadata": {},
     "output_type": "display_data"
    },
    {
     "data": {
      "text/html": [
       "<div>\n",
       "<style scoped>\n",
       "    .dataframe tbody tr th:only-of-type {\n",
       "        vertical-align: middle;\n",
       "    }\n",
       "\n",
       "    .dataframe tbody tr th {\n",
       "        vertical-align: top;\n",
       "    }\n",
       "\n",
       "    .dataframe thead th {\n",
       "        text-align: right;\n",
       "    }\n",
       "</style>\n",
       "<table border=\"1\" class=\"dataframe\">\n",
       "  <thead>\n",
       "    <tr style=\"text-align: right;\">\n",
       "      <th></th>\n",
       "      <th>Slack</th>\n",
       "      <th>Dual</th>\n",
       "    </tr>\n",
       "  </thead>\n",
       "  <tbody>\n",
       "    <tr>\n",
       "      <th>0</th>\n",
       "      <td>41.6667</td>\n",
       "      <td>-0.0000</td>\n",
       "    </tr>\n",
       "    <tr>\n",
       "      <th>1</th>\n",
       "      <td>0.0000</td>\n",
       "      <td>-6.1538</td>\n",
       "    </tr>\n",
       "    <tr>\n",
       "      <th>2</th>\n",
       "      <td>0.0000</td>\n",
       "      <td>-15.3846</td>\n",
       "    </tr>\n",
       "  </tbody>\n",
       "</table>\n",
       "</div>"
      ],
      "text/plain": [
       "    Slack     Dual\n",
       "0 41.6667  -0.0000\n",
       "1  0.0000  -6.1538\n",
       "2  0.0000 -15.3846"
      ]
     },
     "metadata": {},
     "output_type": "display_data"
    }
   ],
   "source": [
    "# Write output\n",
    "\n",
    "print(Name, '\\n')\n",
    "print('Status: ', Model.success, '\\n')\n",
    "\n",
    "if WriteSolution:\n",
    "    print(f\"Total margin = ${-Model.fun:,.2f}\\n\")  # Need to negate, as we're maximizing\n",
    "    pd.options.display.float_format = \"{:,.4f}\".format\n",
    "    ProductResults = pd.DataFrame()\n",
    "    for p in Products:\n",
    "        ProductResults.loc[p, 'Production'] = Model.x[int(p)-1]\n",
    "    display(ProductResults)\n",
    "    ConstraintStatus = pd.DataFrame(columns=['Slack', 'Dual'])\n",
    "    for c in range(len(Constraints)):\n",
    "        ConstraintStatus.loc[c] = [Model.slack[c], Model['ineqlin']['marginals'][c]]\n",
    "    display(ConstraintStatus)\n",
    "else:\n",
    "    print('No solution loaded\\n')\n",
    "    print('Model:')\n",
    "    print(Model)"
   ]
  },
  {
   "cell_type": "code",
   "execution_count": null,
   "id": "45b0a8aa-0bd2-41e5-b11d-b61c475c7290",
   "metadata": {},
   "outputs": [],
   "source": []
  }
 ],
 "metadata": {
  "kernelspec": {
   "display_name": "Python 3 (ipykernel)",
   "language": "python",
   "name": "python3"
  },
  "language_info": {
   "codemirror_mode": {
    "name": "ipython",
    "version": 3
   },
   "file_extension": ".py",
   "mimetype": "text/x-python",
   "name": "python",
   "nbconvert_exporter": "python",
   "pygments_lexer": "ipython3",
   "version": "3.9.7"
  }
 },
 "nbformat": 4,
 "nbformat_minor": 5
}
