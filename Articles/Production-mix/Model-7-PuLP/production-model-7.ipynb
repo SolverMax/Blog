{
 "cells": [
  {
   "cell_type": "markdown",
   "id": "7737ae5a-95ea-404a-ab6f-64d192f45cd8",
   "metadata": {},
   "source": [
    "# Production mix - Model 7\n",
    "\n",
    "## Situation\n",
    "You own a boutique pottery business, making and selling two types of large ornamental products called Lunar Orb and Solar Disc. Given constraints on staff hours, available materials, and product sales, your objective is to maximize the total profit margin from the shop.\n",
    "\n",
    "## Implementation\n",
    "Linear Program (LP), using PuLP. The data is loaded from an external json file.\n",
    "\n",
    "Note: In Jupyter Lab a json file is opened, by default, in json format. To make changes to the file, open the file with the Editor (right-click > Open with > Editor).\n",
    "\n",
    "## Source\n",
    "Replicates an Excel model described in article \"Production mix via graphical LP\" at https://www.solvermax.com/blog/production-mix."
   ]
  },
  {
   "cell_type": "code",
   "execution_count": 1,
   "id": "d441d5b8-6f12-4a52-b386-de0f0167e042",
   "metadata": {},
   "outputs": [],
   "source": [
    "# Import dependencies\n",
    "\n",
    "import pulp as pu\n",
    "import pandas as pd\n",
    "import os.path\n",
    "import json"
   ]
  },
  {
   "cell_type": "code",
   "execution_count": 2,
   "id": "2a2ee883-d4d0-496e-851b-6aa253c778a3",
   "metadata": {},
   "outputs": [],
   "source": [
    "# Get data\n",
    "\n",
    "DataFilename = os.path.join('.', 'productiondata7.json')\n",
    "with open(DataFilename, 'r') as f:\n",
    "    Data = json.load(f)"
   ]
  },
  {
   "cell_type": "code",
   "execution_count": 3,
   "id": "5c6e71aa-2429-4d3f-9e55-268f23fd49d9",
   "metadata": {},
   "outputs": [],
   "source": [
    "# Declarations\n",
    "\n",
    "Model = pu.LpProblem(Data['Name'], pu.LpMaximize)\n",
    "\n",
    "Model.Hours = Data['Hours']\n",
    "Model.kg = Data['kg']\n",
    "Model.SalesLimit = Data['SalesLimit']\n",
    "Model.VarInitial = Data['VarInitial']\n",
    "Model.VarLBounds = Data['VarLBounds']\n",
    "Model.VarUBounds = Data['VarUBounds']\n",
    "Model.Engine = Data['Engine']\n",
    "Model.TimeLimit = Data['TimeLimit']\n",
    "\n",
    "Coefficients = Data['Coefficients']\n",
    "Model.Products = list(Coefficients.keys())\n",
    "\n",
    "Model.People = {}\n",
    "Model.Materials = {}\n",
    "Model.Sales = {}\n",
    "Model.Margin = {}\n",
    "\n",
    "for p in Model.Products:    \n",
    "    Model.People[p] = Coefficients[p]['People']\n",
    "    Model.Materials[p] = Coefficients[p]['Materials']\n",
    "    Model.Sales[p] = Coefficients[p]['Sales']\n",
    "    Model.Margin[p] = Coefficients[p]['Margin']"
   ]
  },
  {
   "cell_type": "code",
   "execution_count": 4,
   "id": "f78d08da-f5c4-4232-a38d-39bc777174b9",
   "metadata": {},
   "outputs": [],
   "source": [
    "# Define model\n",
    "\n",
    "Model.Production = pu.LpVariable.dicts(\"Products\", Model.Products, lowBound=Model.VarLBounds, upBound=Model.VarUBounds, cat=pu.LpContinuous)\n",
    "for p in Model.Products:\n",
    "    Model.Production[p].setInitialValue(Model.VarInitial)\n",
    "\n",
    "def constraint_hours():\n",
    "    return pu.lpSum([Model.People[p] * Model.Production[p] for p in Model.Products]) <= Model.Hours, 'PeopleHours'\n",
    "Model += constraint_hours()\n",
    "\n",
    "def constraint_usage():\n",
    "    return pu.lpSum([Model.Materials[p] * Model.Production[p] for p in Model.Products]) <= Model.kg, 'MaterialUsage'\n",
    "Model += constraint_usage()\n",
    "\n",
    "def constraint_sales():\n",
    "    return pu.lpSum([Model.Sales[p] * Model.Production[p] for p in Model.Products]) <= Model.SalesLimit, 'SalesRelationship'\n",
    "Model += constraint_sales()\n",
    "\n",
    "def objective_margin():\n",
    "    return pu.lpSum([Model.Margin[p] * Model.Production[p] for p in Model.Products])\n",
    "Model.setObjective(objective_margin())"
   ]
  },
  {
   "cell_type": "code",
   "execution_count": 5,
   "id": "65cf9f18-0684-42e7-85a7-2a6521f74d0c",
   "metadata": {},
   "outputs": [
    {
     "name": "stdout",
     "output_type": "stream",
     "text": [
      "1\n"
     ]
    }
   ],
   "source": [
    "# Solve model\n",
    "\n",
    "if Model.Engine == 'cbc':\n",
    "    Solver = pu.PULP_CBC_CMD(timeLimit = Model.TimeLimit)\n",
    "elif Model.Engine == 'glpk':\n",
    "    Solver = pu.GLPK_CMD(timeLimit = Model.TimeLimit)\n",
    "\n",
    "Status = Model.solve(Solver)"
   ]
  },
  {
   "cell_type": "code",
   "execution_count": 6,
   "id": "2413b7f4-9fd8-4292-867e-a4e5c1e99beb",
   "metadata": {},
   "outputs": [],
   "source": [
    "# Process results\n",
    "\n",
    "WriteSolution = False\n",
    "Optimal = False\n",
    "Condition = pu.LpStatus[Model.status]\n",
    "\n",
    "if Condition == 'Optimal':\n",
    "    Optimal = True\n",
    "    WriteSolution = True"
   ]
  },
  {
   "cell_type": "code",
   "execution_count": 7,
   "id": "a5d34fee-2191-4778-8aa9-08d030402d8d",
   "metadata": {},
   "outputs": [
    {
     "name": "stdout",
     "output_type": "stream",
     "text": [
      "Boutique_pottery_shop_Model_7 \n",
      "\n",
      "Status: Optimal\n",
      "Solver: cbc \n",
      "\n",
      "Total margin = $3,076.92\n",
      "\n"
     ]
    },
    {
     "data": {
      "text/html": [
       "<div>\n",
       "<style scoped>\n",
       "    .dataframe tbody tr th:only-of-type {\n",
       "        vertical-align: middle;\n",
       "    }\n",
       "\n",
       "    .dataframe tbody tr th {\n",
       "        vertical-align: top;\n",
       "    }\n",
       "\n",
       "    .dataframe thead th {\n",
       "        text-align: right;\n",
       "    }\n",
       "</style>\n",
       "<table border=\"1\" class=\"dataframe\">\n",
       "  <thead>\n",
       "    <tr style=\"text-align: right;\">\n",
       "      <th></th>\n",
       "      <th>Production</th>\n",
       "    </tr>\n",
       "  </thead>\n",
       "  <tbody>\n",
       "    <tr>\n",
       "      <th>Discs</th>\n",
       "      <td>6.4103</td>\n",
       "    </tr>\n",
       "    <tr>\n",
       "      <th>Orbs</th>\n",
       "      <td>12.8205</td>\n",
       "    </tr>\n",
       "  </tbody>\n",
       "</table>\n",
       "</div>"
      ],
      "text/plain": [
       "       Production\n",
       "Discs      6.4103\n",
       "Orbs      12.8205"
      ]
     },
     "metadata": {},
     "output_type": "display_data"
    },
    {
     "data": {
      "text/html": [
       "<div>\n",
       "<style scoped>\n",
       "    .dataframe tbody tr th:only-of-type {\n",
       "        vertical-align: middle;\n",
       "    }\n",
       "\n",
       "    .dataframe tbody tr th {\n",
       "        vertical-align: top;\n",
       "    }\n",
       "\n",
       "    .dataframe thead th {\n",
       "        text-align: right;\n",
       "    }\n",
       "</style>\n",
       "<table border=\"1\" class=\"dataframe\">\n",
       "  <thead>\n",
       "    <tr style=\"text-align: right;\">\n",
       "      <th></th>\n",
       "      <th>Slack</th>\n",
       "      <th>Dual</th>\n",
       "    </tr>\n",
       "  </thead>\n",
       "  <tbody>\n",
       "    <tr>\n",
       "      <th>PeopleHours</th>\n",
       "      <td>41.6667</td>\n",
       "      <td>-0.0000</td>\n",
       "    </tr>\n",
       "    <tr>\n",
       "      <th>MaterialUsage</th>\n",
       "      <td>-0.0000</td>\n",
       "      <td>6.1538</td>\n",
       "    </tr>\n",
       "    <tr>\n",
       "      <th>SalesRelationship</th>\n",
       "      <td>-0.0000</td>\n",
       "      <td>15.3846</td>\n",
       "    </tr>\n",
       "  </tbody>\n",
       "</table>\n",
       "</div>"
      ],
      "text/plain": [
       "                    Slack    Dual\n",
       "PeopleHours       41.6667 -0.0000\n",
       "MaterialUsage     -0.0000  6.1538\n",
       "SalesRelationship -0.0000 15.3846"
      ]
     },
     "metadata": {},
     "output_type": "display_data"
    }
   ],
   "source": [
    "# Write output\n",
    "\n",
    "print(Model.name, '\\n')\n",
    "print('Status:', pu.LpStatus[Model.status])\n",
    "print('Solver:', Model.Engine, '\\n')\n",
    "\n",
    "if WriteSolution:\n",
    "    print(f\"Total margin = ${Model.objective.value():,.2f}\\n\")\n",
    "    pd.options.display.float_format = \"{:,.4f}\".format\n",
    "    ProductResults = pd.DataFrame()\n",
    "    for p in Model.Products:\n",
    "        ProductResults.loc[p, 'Production'] = pu.value(Model.Production[p])\n",
    "    display(ProductResults)\n",
    "\n",
    "    ConstraintStatus = pd.DataFrame(columns=['Slack', 'Dual'])\n",
    "    for name, c in list(Model.constraints.items()):\n",
    "        ConstraintStatus.loc[name] = [c.slack, c.pi]\n",
    "    display(ConstraintStatus)\n",
    "else:\n",
    "    print('No solution loaded\\n')\n",
    "    print('Model:')\n",
    "    print(Model)"
   ]
  },
  {
   "cell_type": "code",
   "execution_count": null,
   "id": "c1c66f6b-c5ba-4c1c-bd6c-99d492095c8e",
   "metadata": {},
   "outputs": [],
   "source": []
  }
 ],
 "metadata": {
  "kernelspec": {
   "display_name": "Python 3 (ipykernel)",
   "language": "python",
   "name": "python3"
  },
  "language_info": {
   "codemirror_mode": {
    "name": "ipython",
    "version": 3
   },
   "file_extension": ".py",
   "mimetype": "text/x-python",
   "name": "python",
   "nbconvert_exporter": "python",
   "pygments_lexer": "ipython3",
   "version": "3.9.7"
  }
 },
 "nbformat": 4,
 "nbformat_minor": 5
}
