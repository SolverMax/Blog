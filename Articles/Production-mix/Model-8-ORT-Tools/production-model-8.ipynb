{
 "cells": [
  {
   "cell_type": "markdown",
   "id": "7737ae5a-95ea-404a-ab6f-64d192f45cd8",
   "metadata": {},
   "source": [
    "# Production mix - Model 8\n",
    "\n",
    "## Situation\n",
    "You own a boutique pottery business, making and selling two types of large ornamental products called Lunar Orb and Solar Disc. Given constraints on staff hours, available materials, and product sales, your objective is to maximize the total profit margin from the shop.\n",
    "\n",
    "## Implementation\n",
    "Linear Program (LP), using OR-Tools. The data is loaded from an external json file.\n",
    "\n",
    "Note: In Jupyter Lab a json file is opened, by default, in json format. To make changes to the file, open the file with the Editor (right-click > Open with > Editor).\n",
    "\n",
    "## Source\n",
    "Replicates an Excel model described in article \"Production mix via graphical LP\" at https://www.solvermax.com/blog/production-mix."
   ]
  },
  {
   "cell_type": "code",
   "execution_count": 1,
   "id": "d441d5b8-6f12-4a52-b386-de0f0167e042",
   "metadata": {},
   "outputs": [],
   "source": [
    "# Import dependencies\n",
    "\n",
    "from ortools.linear_solver import pywraplp\n",
    "import pandas as pd\n",
    "import os.path\n",
    "import json"
   ]
  },
  {
   "cell_type": "code",
   "execution_count": 2,
   "id": "2a2ee883-d4d0-496e-851b-6aa253c778a3",
   "metadata": {},
   "outputs": [],
   "source": [
    "# Get data\n",
    "\n",
    "DataFilename = os.path.join('.', 'productiondata8.json')\n",
    "with open(DataFilename, 'r') as f:\n",
    "    Data = json.load(f)"
   ]
  },
  {
   "cell_type": "code",
   "execution_count": 3,
   "id": "73548f0c-0c1d-45e0-bfd8-933c73e7275a",
   "metadata": {},
   "outputs": [],
   "source": [
    "# Declarations\n",
    "\n",
    "Model = pywraplp.Solver.CreateSolver(Data['Engine'])\n",
    "\n",
    "Model.Name = Data['Name']\n",
    "Model.Hours = Data['Hours']\n",
    "Model.kg = Data['kg']\n",
    "Model.VarInitial = Data['VarInitial']   # Not used\n",
    "Model.VarLBounds = Data['VarLBounds']\n",
    "Model.VarUBounds = Data['VarUBounds']\n",
    "Model.Engine = Data['Engine']\n",
    "Model.TimeLimit = Data['TimeLimit']\n",
    "\n",
    "Model.SalesLimit = Data['SalesLimit']\n",
    "Coefficients = Data['Coefficients']\n",
    "Model.Products = list(Coefficients.keys())\n",
    "Model.Production = {}\n",
    "\n",
    "Model.People = {}\n",
    "Model.Materials = {}\n",
    "Model.Sales = {}\n",
    "Model.Margin = {}\n",
    "\n",
    "for p in Model.Products:    \n",
    "    Model.People[p] = Coefficients[p]['People']\n",
    "    Model.Materials[p] = Coefficients[p]['Materials']\n",
    "    Model.Sales[p] = Coefficients[p]['Sales']\n",
    "    Model.Margin[p] = Coefficients[p]['Margin']"
   ]
  },
  {
   "cell_type": "code",
   "execution_count": 4,
   "id": "6bb0c653-77bc-4495-b2b6-08122ee94321",
   "metadata": {},
   "outputs": [],
   "source": [
    "# Define model\n",
    "\n",
    "for p in Model.Products:\n",
    "    Model.Production[p] = Model.NumVar(Model.VarLBounds, Model.VarUBounds, p)\n",
    "\n",
    "Model.PeopleHours = Model.Add(sum(Model.People[p] * Model.Production[p] for p in Model.Products) <= Model.Hours, 'PeopleHours')\n",
    "Model.MaterialUsage = Model.Add(sum(Model.Materials[p] * Model.Production[p] for p in Model.Products) <= Model.kg, 'MaterialUsage')\n",
    "Model.SalesRelationship = Model.Add(sum(Model.Sales[p] * Model.Production[p] for p in Model.Products) <= Model.SalesLimit, 'SalesRelationship')\n",
    "    \n",
    "Model.TotalMargin = sum(Model.Margin[p] * Model.Production[p] for p in Model.Products)\n",
    "Model.Maximize(Model.TotalMargin)"
   ]
  },
  {
   "cell_type": "code",
   "execution_count": 5,
   "id": "e78dc494-0542-491c-9cac-670ac00020a2",
   "metadata": {},
   "outputs": [],
   "source": [
    "# Solve model\n",
    "\n",
    "Model.set_time_limit(Model.TimeLimit)\n",
    "Status = Model.Solve()"
   ]
  },
  {
   "cell_type": "code",
   "execution_count": 6,
   "id": "ec0cc40f-94f7-441c-ab15-b7c438e0744c",
   "metadata": {},
   "outputs": [],
   "source": [
    "# Process results\n",
    "\n",
    "WriteSolution = False\n",
    "Optimal = False\n",
    "\n",
    "if Status == pywraplp.Solver.OPTIMAL:\n",
    "    Optimal = True\n",
    "    WriteSolution = True\n",
    "    StatusText = 'Optimal'\n",
    "elif (Status == pywraplp.Solver.INFEASIBLE):\n",
    "    StatusText = 'Infeasible'\n",
    "elif (Status == pywraplp.Solver.UNBOUNDED):\n",
    "    StatusText = 'Unbounded'\n",
    "elif (Status == pywraplp.Solver.ABNORMAL): \n",
    "    StatusText = 'Abnormal'\n",
    "elif (Status == pywraplp.Solver.NOT_SOLVED): \n",
    "    StatusText = 'Not solved'"
   ]
  },
  {
   "cell_type": "code",
   "execution_count": 7,
   "id": "a5d34fee-2191-4778-8aa9-08d030402d8d",
   "metadata": {},
   "outputs": [
    {
     "name": "stdout",
     "output_type": "stream",
     "text": [
      "Boutique pottery shop - Model 8 \n",
      "\n",
      "Status: Optimal\n",
      "Solver: GLOP \n",
      "\n",
      "Total margin = $3,076.92\n",
      "\n"
     ]
    },
    {
     "data": {
      "text/html": [
       "<div>\n",
       "<style scoped>\n",
       "    .dataframe tbody tr th:only-of-type {\n",
       "        vertical-align: middle;\n",
       "    }\n",
       "\n",
       "    .dataframe tbody tr th {\n",
       "        vertical-align: top;\n",
       "    }\n",
       "\n",
       "    .dataframe thead th {\n",
       "        text-align: right;\n",
       "    }\n",
       "</style>\n",
       "<table border=\"1\" class=\"dataframe\">\n",
       "  <thead>\n",
       "    <tr style=\"text-align: right;\">\n",
       "      <th></th>\n",
       "      <th>Production</th>\n",
       "    </tr>\n",
       "  </thead>\n",
       "  <tbody>\n",
       "    <tr>\n",
       "      <th>Discs</th>\n",
       "      <td>6.4103</td>\n",
       "    </tr>\n",
       "    <tr>\n",
       "      <th>Orbs</th>\n",
       "      <td>12.8205</td>\n",
       "    </tr>\n",
       "  </tbody>\n",
       "</table>\n",
       "</div>"
      ],
      "text/plain": [
       "       Production\n",
       "Discs      6.4103\n",
       "Orbs      12.8205"
      ]
     },
     "metadata": {},
     "output_type": "display_data"
    },
    {
     "data": {
      "text/html": [
       "<div>\n",
       "<style scoped>\n",
       "    .dataframe tbody tr th:only-of-type {\n",
       "        vertical-align: middle;\n",
       "    }\n",
       "\n",
       "    .dataframe tbody tr th {\n",
       "        vertical-align: top;\n",
       "    }\n",
       "\n",
       "    .dataframe thead th {\n",
       "        text-align: right;\n",
       "    }\n",
       "</style>\n",
       "<table border=\"1\" class=\"dataframe\">\n",
       "  <thead>\n",
       "    <tr style=\"text-align: right;\">\n",
       "      <th></th>\n",
       "      <th>Slack</th>\n",
       "      <th>Dual</th>\n",
       "    </tr>\n",
       "  </thead>\n",
       "  <tbody>\n",
       "    <tr>\n",
       "      <th>PeopleHours</th>\n",
       "      <td>41.6667</td>\n",
       "      <td>-0.0000</td>\n",
       "    </tr>\n",
       "    <tr>\n",
       "      <th>MaterialUsage</th>\n",
       "      <td>0.0000</td>\n",
       "      <td>6.1538</td>\n",
       "    </tr>\n",
       "    <tr>\n",
       "      <th>SalesRelationship</th>\n",
       "      <td>0.0000</td>\n",
       "      <td>15.3846</td>\n",
       "    </tr>\n",
       "  </tbody>\n",
       "</table>\n",
       "</div>"
      ],
      "text/plain": [
       "                    Slack    Dual\n",
       "PeopleHours       41.6667 -0.0000\n",
       "MaterialUsage      0.0000  6.1538\n",
       "SalesRelationship  0.0000 15.3846"
      ]
     },
     "metadata": {},
     "output_type": "display_data"
    }
   ],
   "source": [
    "# Write output\n",
    "\n",
    "print(Model.Name, '\\n')\n",
    "print('Status:', StatusText)\n",
    "print('Solver:', Model.Engine, '\\n')\n",
    "\n",
    "if WriteSolution:\n",
    "    print(f\"Total margin = ${Model.Objective().Value():,.2f}\\n\")\n",
    "    pd.options.display.float_format = \"{:,.4f}\".format\n",
    "    ProductResults = pd.DataFrame()\n",
    "    for p in Model.Products:\n",
    "        ProductResults.loc[p, 'Production'] = Model.Production[p].solution_value()\n",
    "    display(ProductResults)\n",
    "\n",
    "    ConstraintStatus = pd.DataFrame(columns=['Slack', 'Dual'])\n",
    "    activities = Model.ComputeConstraintActivities()\n",
    "    for i, constraint in enumerate(Model.constraints()):\n",
    "        ConstraintStatus.loc[constraint.name()] = [constraint.ub() - activities[constraint.index()], constraint.dual_value()]\n",
    "    display(ConstraintStatus)\n",
    "else:\n",
    "    print('No solution loaded\\n')\n",
    "    print('Model:')\n",
    "    print(Model.ExportModelAsLpFormat(False).replace('\\\\', ' '))"
   ]
  },
  {
   "cell_type": "code",
   "execution_count": null,
   "id": "31ead590-d582-496b-af8f-4f12c2eb704e",
   "metadata": {},
   "outputs": [],
   "source": []
  }
 ],
 "metadata": {
  "kernelspec": {
   "display_name": "Python 3 (ipykernel)",
   "language": "python",
   "name": "python3"
  },
  "language_info": {
   "codemirror_mode": {
    "name": "ipython",
    "version": 3
   },
   "file_extension": ".py",
   "mimetype": "text/x-python",
   "name": "python",
   "nbconvert_exporter": "python",
   "pygments_lexer": "ipython3",
   "version": "3.9.7"
  }
 },
 "nbformat": 4,
 "nbformat_minor": 5
}
