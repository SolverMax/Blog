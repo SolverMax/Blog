{
 "cells": [
  {
   "cell_type": "markdown",
   "id": "8624bcce-d403-4a73-875e-042d136458fe",
   "metadata": {},
   "source": [
    "# Production mix - Model 9\n",
    "\n",
    "## Situation\n",
    "You own a boutique pottery business, making and selling two types of large ornamental products called Lunar Orb and Solar Disc. Given constraints on staff hours, available materials, and product sales, your objective is to maximize the total profit margin from the shop.\n",
    "\n",
    "## Implementation\n",
    "Linear Program (LP), using Gekko. The data is loaded from an external json file.\n",
    "\n",
    "Note: In Jupyter Lab a json file is opened, by default, in json format. To make changes to the file, open the file with the Editor (right-click > Open with > Editor).\n",
    "\n",
    "## Source\n",
    "Replicates an Excel model described in article \"Production mix via graphical LP\" at https://www.solvermax.com/blog/production-mix."
   ]
  },
  {
   "cell_type": "code",
   "execution_count": null,
   "id": "443ea5a8-6450-4d63-a4f7-d8e9fc9666b8",
   "metadata": {},
   "outputs": [],
   "source": [
    "# Import dependencies\n",
    "\n",
    "from gekko import GEKKO\n",
    "import pandas as pd\n",
    "import os.path\n",
    "import json\n",
    "import numpy as np"
   ]
  },
  {
   "cell_type": "code",
   "execution_count": null,
   "id": "27113ee0-6dc5-4c80-a462-9d0b3db18690",
   "metadata": {},
   "outputs": [],
   "source": [
    "# Get data\n",
    "\n",
    "DataFilename = os.path.join('.', 'productiondata9.json')\n",
    "with open(DataFilename, 'r') as f:\n",
    "    Data = json.load(f)"
   ]
  },
  {
   "cell_type": "code",
   "execution_count": null,
   "id": "a650b269-67aa-4bf2-ad00-ffeb5c7bede3",
   "metadata": {},
   "outputs": [],
   "source": [
    "# Declarations\n",
    "\n",
    "Model = GEKKO(name=Data['Name'], remote=False)\n",
    "\n",
    "Model.Hours = Data['Hours']\n",
    "Model.kg = Data['kg']\n",
    "Model.SalesLimit = Data['SalesLimit']\n",
    "Model.VarInitial = Data['VarInitial']   # Not used\n",
    "Model.VarLBounds = Data['VarLBounds']\n",
    "Model.VarUBounds = Data['VarUBounds']\n",
    "Model.Engine = Data['Engine']\n",
    "Model.TimeLimit = Data['TimeLimit']\n",
    "\n",
    "Coefficients = Data['Coefficients']\n",
    "Model.Products = Coefficients.keys()\n",
    "\n",
    "Model.People = {}\n",
    "Model.Materials = {}\n",
    "Model.Sales = {}\n",
    "Model.Margin = {}\n",
    "\n",
    "for p in Model.Products:    \n",
    "    Model.People[p] = Coefficients[p]['People']\n",
    "    Model.Materials[p] = Coefficients[p]['Materials']\n",
    "    Model.Sales[p] = Coefficients[p]['Sales']\n",
    "    Model.Margin[p] = Coefficients[p]['Margin']"
   ]
  },
  {
   "cell_type": "code",
   "execution_count": null,
   "id": "e7762f77-4b24-4bd0-8de2-dcd15bb50b80",
   "metadata": {},
   "outputs": [],
   "source": [
    "# Define model\n",
    "\n",
    "Model.TotalMargin = Model.Var()\n",
    "Model.Production  = dict(map(lambda p: (p, Model.Var(lb=Model.VarLBounds, ub=Model.VarUBounds)), Model.Products))\n",
    "\n",
    "Model.PeopleHours = Model.Equation(sum(Model.People[p] * Model.Production[p] for p in Model.Products) <= Model.Hours)\n",
    "Model.MaterialUsage = Model.Equation(sum(Model.Materials[p] * Model.Production[p] for p in Model.Products) <= Model.kg)\n",
    "Model.SalesRelationship = Model.Equation(sum(Model.Sales[p] * Model.Production[p] for p in Model.Products) <= Model.SalesLimit)\n",
    "\n",
    "Model.Equation(Model.TotalMargin == sum(Model.Margin[p] * Model.Production[p] for p in Model.Products))\n",
    "Model.Maximize(Model.TotalMargin)"
   ]
  },
  {
   "cell_type": "code",
   "execution_count": null,
   "id": "c4ae3c22-398e-4380-9dc4-072eabe683db",
   "metadata": {},
   "outputs": [],
   "source": [
    "# Solve model\n",
    "\n",
    "Model.options.MAX_TIME = Model.TimeLimit\n",
    "Model.options.DIAGLEVEL = 2      # Enable extraction of dual prices\n",
    "\n",
    "if Model.Engine == 'apopt':\n",
    "    EngineNum = 1\n",
    "elif Model.Engine == 'bpopt':\n",
    "    EngineNum = 2\n",
    "elif Model.Engine == 'ipopt':  # ipopt will be used if other solvers are not available\n",
    "    EngineNum = 3\n",
    "\n",
    "try:\n",
    "    Success = True\n",
    "    Model.solve(solver=EngineNum, linear=1, disp=True, debug=True)\n",
    "except:\n",
    "    Success = False"
   ]
  },
  {
   "cell_type": "code",
   "execution_count": null,
   "id": "4ac88d45-e410-4caa-80cd-f23e160c3d61",
   "metadata": {},
   "outputs": [],
   "source": [
    "# Process results\n",
    "\n",
    "WriteSolution = False\n",
    "Optimal = False\n",
    "\n",
    "if Success:\n",
    "    Optimal = True\n",
    "    WriteSolution = True\n",
    "    StatusText = 'Optimal'\n",
    "else:\n",
    "    StatusText = 'Unsuccessful'"
   ]
  },
  {
   "cell_type": "code",
   "execution_count": null,
   "id": "fbfeffce-a830-406e-902e-8712ca9e8cd8",
   "metadata": {},
   "outputs": [],
   "source": [
    "# Write output\n",
    "\n",
    "print(Data['Name'],'\\n')\n",
    "print('Status:', StatusText)\n",
    "print('Solver:', Model.Engine, '\\n')\n",
    "\n",
    "if WriteSolution:\n",
    "    print(f\"Total margin = ${Model.TotalMargin.value[0]:,.2f}\\n\")\n",
    "    pd.options.display.float_format = \"{:,.4f}\".format\n",
    "    ProductResults = pd.DataFrame()\n",
    "    for p in Model.Products:\n",
    "        ProductResults.loc[p, 'Production'] = Model.Production[p].value[0]\n",
    "    display(ProductResults)\n",
    "    \n",
    "    ConstraintStatus = pd.DataFrame(columns=['Slack', 'Dual'])\n",
    "    Duals = np.loadtxt(Model.path+'/apm_lam.txt')                       # Read dual prices from temporary folder\n",
    "    ResultFilename = os.path.join(Model.path, 'results.json')\n",
    "    with open(ResultFilename, 'r') as f:\n",
    "        Results = json.load(f)                                          # Read slack values from temporary folder    \n",
    "    for c in range(3):\n",
    "        ConstraintStatus.loc[c] = [Results['slk_'+str(c+1)][0], Duals[c]]\n",
    "    display(ConstraintStatus)    \n",
    "else:\n",
    "    print('No solution loaded\\n')"
   ]
  },
  {
   "cell_type": "code",
   "execution_count": null,
   "id": "6a13f8e6-009e-43f6-8bac-a8d0cf5a30de",
   "metadata": {},
   "outputs": [],
   "source": [
    "Model.cleanup()          # Delete temporary folder"
   ]
  }
 ],
 "metadata": {
  "kernelspec": {
   "display_name": "Python 3 (ipykernel)",
   "language": "python",
   "name": "python3"
  },
  "language_info": {
   "codemirror_mode": {
    "name": "ipython",
    "version": 3
   },
   "file_extension": ".py",
   "mimetype": "text/x-python",
   "name": "python",
   "nbconvert_exporter": "python",
   "pygments_lexer": "ipython3",
   "version": "3.9.7"
  }
 },
 "nbformat": 4,
 "nbformat_minor": 5
}
