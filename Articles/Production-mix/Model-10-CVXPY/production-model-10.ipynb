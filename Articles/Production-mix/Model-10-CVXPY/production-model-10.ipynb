{
 "cells": [
  {
   "cell_type": "markdown",
   "id": "7737ae5a-95ea-404a-ab6f-64d192f45cd8",
   "metadata": {},
   "source": [
    "# Production mix - Model 10\n",
    "\n",
    "## Situation\n",
    "You own a boutique pottery business, making and selling two types of large ornamental products called Lunar Orb and Solar Disc. Given constraints on staff hours, available materials, and product sales, your objective is to maximize the total profit margin from the shop.\n",
    "\n",
    "## Implementation\n",
    "Linear Program (LP), using CVXPY. The data is loaded from an external json file.\n",
    "\n",
    "Note: In Jupyter Lab a json file is opened, by default, in json format. To make changes to the file, open the file with the Editor (right-click > Open with > Editor).\n",
    "\n",
    "## Source\n",
    "Replicates an Excel model described in article \"Production mix via graphical LP\" at https://www.solvermax.com/blog/production-mix."
   ]
  },
  {
   "cell_type": "code",
   "execution_count": 1,
   "id": "d441d5b8-6f12-4a52-b386-de0f0167e042",
   "metadata": {},
   "outputs": [],
   "source": [
    "# Import dependencies\n",
    "\n",
    "import cvxpy as cp\n",
    "import pandas as pd\n",
    "import numpy as np\n",
    "import os.path\n",
    "import json"
   ]
  },
  {
   "cell_type": "code",
   "execution_count": 2,
   "id": "2a2ee883-d4d0-496e-851b-6aa253c778a3",
   "metadata": {},
   "outputs": [],
   "source": [
    "# Get data\n",
    "\n",
    "DataFilename = os.path.join('.', 'productiondata10.json')\n",
    "with open(DataFilename, 'r') as f:\n",
    "    Data = json.load(f)"
   ]
  },
  {
   "cell_type": "code",
   "execution_count": 3,
   "id": "5c6e71aa-2429-4d3f-9e55-268f23fd49d9",
   "metadata": {},
   "outputs": [],
   "source": [
    "# Declarations\n",
    "\n",
    "Name = Data['Name']\n",
    "Hours = Data['Hours']\n",
    "kg = Data['kg']\n",
    "SalesLimit = Data['SalesLimit']\n",
    "VarInitial = Data['VarInitial']   # Not used\n",
    "VarLBounds = Data['VarLBounds']\n",
    "VarUBounds = Data['VarUBounds']\n",
    "Engine = Data['Engine']\n",
    "TimeLimit = Data['TimeLimit']\n",
    "\n",
    "Coefficients = Data['Coefficients']\n",
    "Products = list(Coefficients.keys())\n",
    "NumProducts = len(Products)\n",
    "\n",
    "Margin = np.zeros(NumProducts)\n",
    "People = np.zeros(NumProducts)\n",
    "Materials = np.zeros(NumProducts)\n",
    "Sales = np.zeros(NumProducts)\n",
    "for p in Products:\n",
    "    i = int(p)\n",
    "    Margin[i]    = Coefficients[p]['Margin']\n",
    "    People[i]    = Coefficients[p]['People']\n",
    "    Materials[i] = Coefficients[p]['Materials']\n",
    "    Sales[i]     = Coefficients[p]['Sales']"
   ]
  },
  {
   "cell_type": "code",
   "execution_count": 4,
   "id": "2a59c059-3608-498e-9e08-d6583cd49759",
   "metadata": {},
   "outputs": [],
   "source": [
    "# Define model\n",
    "\n",
    "Production = cp.Variable(NumProducts)   # Variables\n",
    "\n",
    "objective = cp.Maximize(cp.sum(Margin @ Production))   # Objectve function\n",
    "constraints = []   # Constraints\n",
    "constraints += [cp.sum(People @ Production) <= Hours]\n",
    "constraints += [cp.sum(Materials @ Production) <= kg]\n",
    "constraints += [cp.sum(Sales @ Production) <= SalesLimit]\n",
    "\n",
    "constraints += [Production >= VarLBounds]   # Bounds on variables\n",
    "constraints += [Production <= VarUBounds]"
   ]
  },
  {
   "cell_type": "code",
   "execution_count": 5,
   "id": "ba9236bc-93cb-4161-ba6d-8de19dac9304",
   "metadata": {},
   "outputs": [
    {
     "name": "stdout",
     "output_type": "stream",
     "text": [
      "===============================================================================\n",
      "                                     CVXPY                                     \n",
      "                                     v1.2.1                                    \n",
      "===============================================================================\n",
      "(CVXPY) Dec 13 11:02:27 AM: Your problem has 2 variables, 5 constraints, and 0 parameters.\n",
      "(CVXPY) Dec 13 11:02:27 AM: It is compliant with the following grammars: DCP, DQCP\n",
      "(CVXPY) Dec 13 11:02:27 AM: (If you need to solve this problem multiple times, but with different data, consider using parameters.)\n",
      "(CVXPY) Dec 13 11:02:27 AM: CVXPY will first compile your problem; then, it will invoke a numerical solver to obtain a solution.\n",
      "-------------------------------------------------------------------------------\n",
      "                                  Compilation                                  \n",
      "-------------------------------------------------------------------------------\n",
      "(CVXPY) Dec 13 11:02:27 AM: Compiling problem (target solver=CVXOPT).\n",
      "(CVXPY) Dec 13 11:02:27 AM: Reduction chain: FlipObjective -> Dcp2Cone -> CvxAttr2Constr -> ConeMatrixStuffing -> CVXOPT\n",
      "(CVXPY) Dec 13 11:02:27 AM: Applying reduction FlipObjective\n",
      "(CVXPY) Dec 13 11:02:27 AM: Applying reduction Dcp2Cone\n",
      "(CVXPY) Dec 13 11:02:27 AM: Applying reduction CvxAttr2Constr\n",
      "(CVXPY) Dec 13 11:02:27 AM: Applying reduction ConeMatrixStuffing\n",
      "(CVXPY) Dec 13 11:02:27 AM: Applying reduction CVXOPT\n",
      "(CVXPY) Dec 13 11:02:27 AM: Finished problem compilation (took 2.199e-02 seconds).\n",
      "-------------------------------------------------------------------------------\n",
      "                                Numerical solver                               \n",
      "-------------------------------------------------------------------------------\n",
      "(CVXPY) Dec 13 11:02:27 AM: Invoking solver CVXOPT  to obtain a solution.\n",
      "     pcost       dcost       gap    pres   dres   k/t\n",
      " 0: -2.8665e+03 -8.0081e+03  1e+03  2e-02  1e+00  1e+00\n",
      " 1: -3.1508e+03 -7.9718e+03  1e+03  2e-02  1e+00  4e+01\n",
      " 2: -3.0754e+03 -3.1804e+03  3e+01  5e-04  3e-02  9e-01\n",
      " 3: -3.0769e+03 -3.0780e+03  3e-01  5e-06  3e-04  9e-03\n",
      " 4: -3.0769e+03 -3.0769e+03  3e-03  5e-08  3e-06  9e-05\n",
      " 5: -3.0769e+03 -3.0769e+03  3e-05  5e-10  3e-08  9e-07\n",
      "Optimal solution found.\n",
      "-------------------------------------------------------------------------------\n",
      "                                    Summary                                    \n",
      "-------------------------------------------------------------------------------\n",
      "(CVXPY) Dec 13 11:02:27 AM: Problem status: optimal\n",
      "(CVXPY) Dec 13 11:02:27 AM: Optimal value: 3.077e+03\n",
      "(CVXPY) Dec 13 11:02:27 AM: Compilation took 2.199e-02 seconds\n",
      "(CVXPY) Dec 13 11:02:27 AM: Solver (including time spent in interface) took 8.997e-03 seconds\n"
     ]
    }
   ],
   "source": [
    "# Solve model\n",
    "\n",
    "Model = cp.Problem(objective, constraints)\n",
    "\n",
    "if Engine == 'cbc':\n",
    "    EngineObj = cp.CBC\n",
    "elif Engine == 'glop':\n",
    "    EngineObj = cp.GLOP\n",
    "elif Engine == 'glpk':\n",
    "    EngineObj = cp.GLPK\n",
    "elif Engine == 'cvxopt':\n",
    "    EngineObj = cp.CVXOPT\n",
    "\n",
    "Result = Model.solve(solver=EngineObj, verbose=True, max_seconds=TimeLimit)"
   ]
  },
  {
   "cell_type": "code",
   "execution_count": 6,
   "id": "40f8b499-47fd-4a2c-8150-a42b2fa77a26",
   "metadata": {},
   "outputs": [],
   "source": [
    "# Process results\n",
    "\n",
    "WriteSolution = False\n",
    "Optimal = False\n",
    "Condition = Model.status\n",
    "\n",
    "if Condition == 'optimal':\n",
    "    Optimal = True\n",
    "    WriteSolution = True"
   ]
  },
  {
   "cell_type": "code",
   "execution_count": 7,
   "id": "a5d34fee-2191-4778-8aa9-08d030402d8d",
   "metadata": {},
   "outputs": [
    {
     "name": "stdout",
     "output_type": "stream",
     "text": [
      "Boutique pottery shop - Model 10 \n",
      "\n",
      "Status: optimal\n",
      "Solver: cvxopt \n",
      "\n",
      "Total margin = $3,076.92\n",
      "\n"
     ]
    },
    {
     "data": {
      "text/html": [
       "<div>\n",
       "<style scoped>\n",
       "    .dataframe tbody tr th:only-of-type {\n",
       "        vertical-align: middle;\n",
       "    }\n",
       "\n",
       "    .dataframe tbody tr th {\n",
       "        vertical-align: top;\n",
       "    }\n",
       "\n",
       "    .dataframe thead th {\n",
       "        text-align: right;\n",
       "    }\n",
       "</style>\n",
       "<table border=\"1\" class=\"dataframe\">\n",
       "  <thead>\n",
       "    <tr style=\"text-align: right;\">\n",
       "      <th></th>\n",
       "      <th>Production</th>\n",
       "    </tr>\n",
       "  </thead>\n",
       "  <tbody>\n",
       "    <tr>\n",
       "      <th>0</th>\n",
       "      <td>6.4103</td>\n",
       "    </tr>\n",
       "    <tr>\n",
       "      <th>1</th>\n",
       "      <td>12.8205</td>\n",
       "    </tr>\n",
       "  </tbody>\n",
       "</table>\n",
       "</div>"
      ],
      "text/plain": [
       "   Production\n",
       "0      6.4103\n",
       "1     12.8205"
      ]
     },
     "metadata": {},
     "output_type": "display_data"
    },
    {
     "data": {
      "text/html": [
       "<div>\n",
       "<style scoped>\n",
       "    .dataframe tbody tr th:only-of-type {\n",
       "        vertical-align: middle;\n",
       "    }\n",
       "\n",
       "    .dataframe tbody tr th {\n",
       "        vertical-align: top;\n",
       "    }\n",
       "\n",
       "    .dataframe thead th {\n",
       "        text-align: right;\n",
       "    }\n",
       "</style>\n",
       "<table border=\"1\" class=\"dataframe\">\n",
       "  <thead>\n",
       "    <tr style=\"text-align: right;\">\n",
       "      <th></th>\n",
       "      <th>Slack</th>\n",
       "      <th>Dual</th>\n",
       "    </tr>\n",
       "  </thead>\n",
       "  <tbody>\n",
       "    <tr>\n",
       "      <th>0</th>\n",
       "      <td>-41.6667</td>\n",
       "      <td>0.0000</td>\n",
       "    </tr>\n",
       "    <tr>\n",
       "      <th>1</th>\n",
       "      <td>-0.0000</td>\n",
       "      <td>6.1538</td>\n",
       "    </tr>\n",
       "    <tr>\n",
       "      <th>2</th>\n",
       "      <td>0.0000</td>\n",
       "      <td>15.3846</td>\n",
       "    </tr>\n",
       "  </tbody>\n",
       "</table>\n",
       "</div>"
      ],
      "text/plain": [
       "     Slack    Dual\n",
       "0 -41.6667  0.0000\n",
       "1  -0.0000  6.1538\n",
       "2   0.0000 15.3846"
      ]
     },
     "metadata": {},
     "output_type": "display_data"
    }
   ],
   "source": [
    "# Write output\n",
    "\n",
    "print(Name, '\\n')\n",
    "print('Status:', Model.status)\n",
    "print('Solver:', Engine, '\\n')\n",
    "\n",
    "if WriteSolution:\n",
    "    print(f\"Total margin = ${objective.value:,.2f}\\n\")\n",
    "    pd.options.display.float_format = \"{:,.4f}\".format\n",
    "    ProductResults = pd.DataFrame()\n",
    "    for p in Products:\n",
    "        ProductResults.loc[p, 'Production'] = Production[int(p)].value\n",
    "    display(ProductResults)\n",
    "    \n",
    "    ConstraintStatus = pd.DataFrame(columns=['Slack', 'Dual'])\n",
    "    for c in range(3):\n",
    "        ConstraintStatus.loc[c] = [constraints[c].expr.value, constraints[c].dual_value]\n",
    "    display(ConstraintStatus)\n",
    "else:\n",
    "    print('No solution loaded\\n')\n",
    "    print('Model:')\n",
    "    print(Model)"
   ]
  },
  {
   "cell_type": "code",
   "execution_count": null,
   "id": "0f27865f-2345-46b4-aaa7-d7e90720fa6d",
   "metadata": {},
   "outputs": [],
   "source": []
  }
 ],
 "metadata": {
  "kernelspec": {
   "display_name": "Python 3 (ipykernel)",
   "language": "python",
   "name": "python3"
  },
  "language_info": {
   "codemirror_mode": {
    "name": "ipython",
    "version": 3
   },
   "file_extension": ".py",
   "mimetype": "text/x-python",
   "name": "python",
   "nbconvert_exporter": "python",
   "pygments_lexer": "ipython3",
   "version": "3.9.7"
  }
 },
 "nbformat": 4,
 "nbformat_minor": 5
}
