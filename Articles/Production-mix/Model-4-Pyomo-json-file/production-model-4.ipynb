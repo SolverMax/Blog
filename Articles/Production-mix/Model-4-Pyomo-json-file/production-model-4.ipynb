{
 "cells": [
  {
   "cell_type": "markdown",
   "id": "7737ae5a-95ea-404a-ab6f-64d192f45cd8",
   "metadata": {},
   "source": [
    "# Production mix - Model 4\n",
    "\n",
    "## Situation\n",
    "You own a boutique pottery business, making and selling two types of large ornamental products called Lunar Orb and Solar Disc. Given constraints on staff hours, available materials, and product sales, your objective is to maximize the total profit margin from the shop.\n",
    "\n",
    "## Implementation\n",
    "Linear Program (LP), using a Pyomo concrete model. The data is loaded from an external json file and assigned to the Pyomo Model object. Model definitions are more consistent.\n",
    "\n",
    "Note: In Jupyter Lab a json file is opened, by default, in json format. To make changes to the file, open the file with the Editor (right-click > Open with > Editor).\n",
    "\n",
    "## Source\n",
    "Replicates an Excel model described in article \"Production mix via graphical LP\" at https://www.solvermax.com/blog/production-mix."
   ]
  },
  {
   "cell_type": "code",
   "execution_count": 1,
   "id": "d441d5b8-6f12-4a52-b386-de0f0167e042",
   "metadata": {},
   "outputs": [],
   "source": [
    "# Import dependencies\n",
    "\n",
    "import pyomo.environ as pyo\n",
    "import pandas as pd\n",
    "import os.path\n",
    "import json"
   ]
  },
  {
   "cell_type": "code",
   "execution_count": 2,
   "id": "2a2ee883-d4d0-496e-851b-6aa253c778a3",
   "metadata": {},
   "outputs": [],
   "source": [
    "# Get data\n",
    "\n",
    "DataFilename = os.path.join('.', 'productiondata4.json')\n",
    "with open(DataFilename, 'r') as f:\n",
    "    Data = json.load(f)"
   ]
  },
  {
   "cell_type": "code",
   "execution_count": 3,
   "id": "5c6e71aa-2429-4d3f-9e55-268f23fd49d9",
   "metadata": {},
   "outputs": [],
   "source": [
    "# Declarations\n",
    "\n",
    "Model = pyo.ConcreteModel(name = Data['Name'])\n",
    "\n",
    "Model.Hours = pyo.Param(within = pyo.NonNegativeReals, initialize = Data['Hours'])\n",
    "Model.kg = pyo.Param(within = pyo.NonNegativeReals, initialize = Data['kg'])\n",
    "Model.SalesLimit = pyo.Param(within = pyo.NonNegativeReals, initialize = Data['SalesLimit'])\n",
    "Model.VarInitial = pyo.Param(within = pyo.NonNegativeReals, initialize = Data['VarInitial'])\n",
    "Model.VarLBounds = pyo.Param(within = pyo.NonNegativeReals, initialize = Data['VarLBounds'])\n",
    "Model.VarUBounds = pyo.Param(within = pyo.NonNegativeReals, initialize = Data['VarUBounds'])\n",
    "Model.Engine = pyo.Param(within = pyo.Any, initialize = Data['Engine'])\n",
    "Model.TimeLimit = pyo.Param(within = pyo.NonNegativeReals, initialize = Data['TimeLimit'])\n",
    "\n",
    "Coefficients = Data['Coefficients']\n",
    "Model.Products = pyo.Set(initialize = list(Coefficients.keys()))                 # Pyomo Set rather than Python set\n",
    "\n",
    "Model.People = pyo.Param(Model.Products, within = pyo.NonNegativeReals, mutable = True)\n",
    "Model.Materials = pyo.Param(Model.Products, within = pyo.NonNegativeReals, mutable = True)\n",
    "Model.Sales = pyo.Param(Model.Products, within = pyo.Reals, mutable = True)\n",
    "Model.Margin = pyo.Param(Model.Products, within = pyo.Reals, mutable = True)\n",
    "\n",
    "for p in Model.Products:    \n",
    "    Model.People[p] = Coefficients[p]['People']\n",
    "    Model.Materials[p] = Coefficients[p]['Materials']\n",
    "    Model.Sales[p] = Coefficients[p]['Sales']\n",
    "    Model.Margin[p] = Coefficients[p]['Margin']"
   ]
  },
  {
   "cell_type": "code",
   "execution_count": 4,
   "id": "892eca06-44a1-44db-91f3-3f040440f634",
   "metadata": {},
   "outputs": [],
   "source": [
    "# Define model\n",
    "\n",
    "Model.Production = pyo.Var(Model.Products, domain = pyo.NonNegativeReals, initialize = Model.VarInitial, bounds = (Model.VarLBounds, Model.VarUBounds))\n",
    "\n",
    "Model.PeopleHours = pyo.Constraint(expr = sum(Model.People[p] * Model.Production[p] for p in Model.Products) <= Model.Hours)\n",
    "Model.MaterialUsage = pyo.Constraint(expr = sum(Model.Materials[p] * Model.Production[p] for p in Model.Products) <= Model.kg)\n",
    "Model.SalesRelationship = pyo.Constraint(expr = sum(Model.Sales[p] * Model.Production[p] for p in Model.Products) <= Model.SalesLimit)\n",
    "\n",
    "Model.TotalMargin = pyo.Objective(expr = sum(Model.Margin[p] * Model.Production[p] for p in Model.Products), sense = pyo.maximize)"
   ]
  },
  {
   "cell_type": "code",
   "execution_count": 5,
   "id": "51c248d3-4140-4f26-b3fc-94ab5e2e4f24",
   "metadata": {},
   "outputs": [],
   "source": [
    "# Solve model\n",
    "\n",
    "Solver = pyo.SolverFactory(pyo.value(Model.Engine))\n",
    "\n",
    "if pyo.value(Model.Engine) == 'cbc':\n",
    "    Solver.options['seconds'] = pyo.value(Model.TimeLimit)\n",
    "elif pyo.value(Model.Engine) == 'glpk':\n",
    "    Solver.options['tmlim'] = pyo.value(Model.TimeLimit)\n",
    "    \n",
    "Results = Solver.solve(Model, load_solutions = False, tee = False)"
   ]
  },
  {
   "cell_type": "code",
   "execution_count": 6,
   "id": "8416b8f8-41b4-4a62-ade7-e9beaaceadcb",
   "metadata": {},
   "outputs": [],
   "source": [
    "# Process results\n",
    "\n",
    "WriteSolution = False\n",
    "Optimal = False\n",
    "LimitStop = False\n",
    "Condition = Results.solver.termination_condition\n",
    "\n",
    "if Condition == pyo.TerminationCondition.optimal:\n",
    "    Optimal = True\n",
    "if Condition == pyo.TerminationCondition.maxTimeLimit or Condition == pyo.TerminationCondition.maxIterations:\n",
    "    LimitStop = True\n",
    "if Optimal or LimitStop:\n",
    "    try:\n",
    "        WriteSolution = True\n",
    "        Model.solutions.load_from(Results)                                     # Defer loading results until now, in case there is no solution to load\n",
    "        SolverData = Results.Problem._list\n",
    "        SolutionLB = SolverData[0].lower_bound\n",
    "        SolutionUB = SolverData[0].upper_bound\n",
    "    except:\n",
    "        WriteSolution = False"
   ]
  },
  {
   "cell_type": "code",
   "execution_count": 7,
   "id": "a5d34fee-2191-4778-8aa9-08d030402d8d",
   "metadata": {},
   "outputs": [
    {
     "name": "stdout",
     "output_type": "stream",
     "text": [
      "Boutique pottery shop - Model 4 \n",
      "\n",
      "Status: optimal\n",
      "Solver: cbc \n",
      "\n",
      "Total margin = $3,076.92\n",
      "\n"
     ]
    },
    {
     "data": {
      "text/html": [
       "<div>\n",
       "<style scoped>\n",
       "    .dataframe tbody tr th:only-of-type {\n",
       "        vertical-align: middle;\n",
       "    }\n",
       "\n",
       "    .dataframe tbody tr th {\n",
       "        vertical-align: top;\n",
       "    }\n",
       "\n",
       "    .dataframe thead th {\n",
       "        text-align: right;\n",
       "    }\n",
       "</style>\n",
       "<table border=\"1\" class=\"dataframe\">\n",
       "  <thead>\n",
       "    <tr style=\"text-align: right;\">\n",
       "      <th></th>\n",
       "      <th>Production</th>\n",
       "    </tr>\n",
       "  </thead>\n",
       "  <tbody>\n",
       "    <tr>\n",
       "      <th>Discs</th>\n",
       "      <td>6.41</td>\n",
       "    </tr>\n",
       "    <tr>\n",
       "      <th>Orbs</th>\n",
       "      <td>12.82</td>\n",
       "    </tr>\n",
       "  </tbody>\n",
       "</table>\n",
       "</div>"
      ],
      "text/plain": [
       "       Production\n",
       "Discs        6.41\n",
       "Orbs        12.82"
      ]
     },
     "metadata": {},
     "output_type": "display_data"
    }
   ],
   "source": [
    "# Write output\n",
    "\n",
    "print(Model.name, '\\n')\n",
    "print('Status:', Results.solver.termination_condition)\n",
    "print('Solver:', pyo.value(Model.Engine), '\\n')\n",
    "\n",
    "if LimitStop:                                                                  # Indicate how close we are to a solution\n",
    "    print('Objective bounds')\n",
    "    print('----------------')\n",
    "    if SolutionLB is None:\n",
    "        print('Lower:      None')\n",
    "    else:\n",
    "        print(f'Lower: {SolutionLB:9,.2f}')\n",
    "    if SolutionUB is None:\n",
    "        print('Upper:      None\\n')\n",
    "    else:\n",
    "        print(f'Upper: {SolutionUB:9,.2f}\\n')\n",
    "if WriteSolution:\n",
    "    print(f'Total margin = ${Model.TotalMargin():,.2f}\\n')\n",
    "    ProductResults = pd.DataFrame()\n",
    "    for p in Model.Products:\n",
    "        ProductResults.loc[p, 'Production'] = round(pyo.value(Model.Production[p]), 2)\n",
    "    display(ProductResults)\n",
    "else:\n",
    "    print('No solution loaded\\n')\n",
    "    print('Model:')\n",
    "    Model.pprint()"
   ]
  },
  {
   "cell_type": "code",
   "execution_count": null,
   "id": "0a949650-5d47-4cba-8a9c-e7c5ffb8f300",
   "metadata": {},
   "outputs": [],
   "source": []
  }
 ],
 "metadata": {
  "kernelspec": {
   "display_name": "Python 3 (ipykernel)",
   "language": "python",
   "name": "python3"
  },
  "language_info": {
   "codemirror_mode": {
    "name": "ipython",
    "version": 3
   },
   "file_extension": ".py",
   "mimetype": "text/x-python",
   "name": "python",
   "nbconvert_exporter": "python",
   "pygments_lexer": "ipython3",
   "version": "3.9.7"
  }
 },
 "nbformat": 4,
 "nbformat_minor": 5
}
