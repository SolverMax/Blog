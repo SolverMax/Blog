{
 "cells": [
  {
   "cell_type": "markdown",
   "id": "7737ae5a-95ea-404a-ab6f-64d192f45cd8",
   "metadata": {},
   "source": [
    "# Production mix - Model 2\n",
    "\n",
    "## Situation\n",
    "You own a boutique pottery business, making and selling two types of large ornamental products called Lunar Orb and Solar Disc.Given constraints on staff hours, available materials, and product sales, your objective is to maximize the total profit margin from the shop.\n",
    "\n",
    "## Implementation\n",
    "Linear Program (LP), using a Pyomo concrete model. Extracted previously hard-coded data into a dictionary and other data structures. Uses a DataFrame for output.\n",
    "\n",
    "## Source\n",
    "Replicates an Excel model described in article \"Production mix via graphical LP\" at https://www.solvermax.com/blog/production-mix."
   ]
  },
  {
   "cell_type": "code",
   "execution_count": 1,
   "id": "d441d5b8-6f12-4a52-b386-de0f0167e042",
   "metadata": {},
   "outputs": [],
   "source": [
    "# Import dependencies\n",
    "\n",
    "import pyomo.environ as pyo\n",
    "import pandas as pd"
   ]
  },
  {
   "cell_type": "code",
   "execution_count": 2,
   "id": "5c6e71aa-2429-4d3f-9e55-268f23fd49d9",
   "metadata": {},
   "outputs": [],
   "source": [
    "# Declarations\n",
    "\n",
    "Model = pyo.ConcreteModel(name = 'Boutique pottery shop - Model 2')\n",
    "\n",
    "Hours = 250\n",
    "kg = 500\n",
    "SalesLimit = 0\n",
    "\n",
    "Coefficients = {\n",
    "    'Discs' : {'People': 12.50, 'Materials': 18.00, 'Sales': -2.00, 'Margin':  80.00},  \n",
    "    'Orbs'  : {'People': 10.00, 'Materials': 30.00, 'Sales':  1.00, 'Margin': 200.00},\n",
    "}\n",
    "\n",
    "Products = Coefficients.keys()\n",
    "\n",
    "VarInitial = 0\n",
    "VarBounds = (0, 100)"
   ]
  },
  {
   "cell_type": "code",
   "execution_count": 3,
   "id": "892eca06-44a1-44db-91f3-3f040440f634",
   "metadata": {},
   "outputs": [],
   "source": [
    "# Define model\n",
    "\n",
    "Model.Production = pyo.Var(Products, domain = pyo.NonNegativeReals, initialize = VarInitial, bounds = VarBounds)\n",
    "\n",
    "Model.PeopleHours = pyo.Constraint(expr = sum(Coefficients[p]['People'] * Model.Production[p] for p in Products) <= Hours)\n",
    "Model.MaterialUsage = pyo.Constraint(expr = sum(Coefficients[p]['Materials'] * Model.Production[p] for p in Products) <= kg)\n",
    "Model.SalesRelationship = pyo.Constraint(expr = sum(Coefficients[p]['Sales'] * Model.Production[p] for p in Products) <= SalesLimit)\n",
    "\n",
    "Model.TotalMargin = pyo.Objective(expr = sum(Coefficients[p]['Margin'] * Model.Production[p] for p in Products), sense = pyo.maximize)"
   ]
  },
  {
   "cell_type": "code",
   "execution_count": 4,
   "id": "51c248d3-4140-4f26-b3fc-94ab5e2e4f24",
   "metadata": {},
   "outputs": [],
   "source": [
    "# Solve model\n",
    "\n",
    "Solver = pyo.SolverFactory('cbc')\n",
    "Results = Solver.solve(Model)"
   ]
  },
  {
   "cell_type": "code",
   "execution_count": 5,
   "id": "a5d34fee-2191-4778-8aa9-08d030402d8d",
   "metadata": {},
   "outputs": [
    {
     "name": "stdout",
     "output_type": "stream",
     "text": [
      "Boutique pottery shop - Model 2 \n",
      "\n",
      "Status:  ok \n",
      "\n",
      "Total margin = $3,076.92\n",
      "\n"
     ]
    },
    {
     "data": {
      "text/html": [
       "<div>\n",
       "<style scoped>\n",
       "    .dataframe tbody tr th:only-of-type {\n",
       "        vertical-align: middle;\n",
       "    }\n",
       "\n",
       "    .dataframe tbody tr th {\n",
       "        vertical-align: top;\n",
       "    }\n",
       "\n",
       "    .dataframe thead th {\n",
       "        text-align: right;\n",
       "    }\n",
       "</style>\n",
       "<table border=\"1\" class=\"dataframe\">\n",
       "  <thead>\n",
       "    <tr style=\"text-align: right;\">\n",
       "      <th></th>\n",
       "      <th>Production</th>\n",
       "    </tr>\n",
       "  </thead>\n",
       "  <tbody>\n",
       "    <tr>\n",
       "      <th>Discs</th>\n",
       "      <td>6.41</td>\n",
       "    </tr>\n",
       "    <tr>\n",
       "      <th>Orbs</th>\n",
       "      <td>12.82</td>\n",
       "    </tr>\n",
       "  </tbody>\n",
       "</table>\n",
       "</div>"
      ],
      "text/plain": [
       "       Production\n",
       "Discs        6.41\n",
       "Orbs        12.82"
      ]
     },
     "metadata": {},
     "output_type": "display_data"
    }
   ],
   "source": [
    "# Write output\n",
    "\n",
    "print(Model.name, '\\n')\n",
    "print('Status: ', Results.solver.status, '\\n')\n",
    "print(f'Total margin = ${Model.TotalMargin():,.2f}\\n')\n",
    "ProductResults = pd.DataFrame()\n",
    "for p in Products:\n",
    "    ProductResults.loc[p, 'Production'] = round(pyo.value(Model.Production[p]), 2)\n",
    "display(ProductResults)"
   ]
  },
  {
   "cell_type": "code",
   "execution_count": null,
   "id": "2ad71d10-1b7e-4369-95ea-fe125cc7615f",
   "metadata": {},
   "outputs": [],
   "source": []
  }
 ],
 "metadata": {
  "kernelspec": {
   "display_name": "Python 3 (ipykernel)",
   "language": "python",
   "name": "python3"
  },
  "language_info": {
   "codemirror_mode": {
    "name": "ipython",
    "version": 3
   },
   "file_extension": ".py",
   "mimetype": "text/x-python",
   "name": "python",
   "nbconvert_exporter": "python",
   "pygments_lexer": "ipython3",
   "version": "3.9.7"
  }
 },
 "nbformat": 4,
 "nbformat_minor": 5
}
