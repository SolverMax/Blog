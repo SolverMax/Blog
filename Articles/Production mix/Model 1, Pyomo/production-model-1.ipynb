{
 "cells": [
  {
   "cell_type": "markdown",
   "id": "7737ae5a-95ea-404a-ab6f-64d192f45cd8",
   "metadata": {},
   "source": [
    "# Production mix - Model 1\n",
    "\n",
    "## Situation\n",
    "You own a boutique pottery business, making and selling two types of large ornamental products called Lunar Orb and Solar Disc. Given constraints on staff hours, available materials, and product sales, your objective is to maximize the total profit margin from the shop.\n",
    "\n",
    "## Implementation\n",
    "Linear Program (LP), using a Pyomo concrete model. The data is embedded directly in the constraint and objective function definitions.\n",
    "\n",
    "## Model formulation\n",
    "\n",
    "$\n",
    "\\begin{alignat*}{1}\n",
    "&\\text{Objective} \\\\\n",
    "&\\quad \\text{Max}\\quad\\rlap{TotalMargin = 80.00 \\times Discs + 200.00 \\times Orbs} &&&&&&&\\quad (1)\\\\\n",
    "&\\text{Subject to} \\\\\n",
    "&\\quad \\phantom{-}12.50 \\times Discs&{}+{}&10.00 \\times Orbs&{} &\\;\\leq &\\;&250 \\quad \\text{People, hours} &\\quad (2)\\\\\n",
    "&\\quad\\phantom{-}18.00 \\times Discs&{}+{}&30.00 \\times Orbs&{} &\\;\\leq &\\;&500 \\quad \\text{Materials, kg} &\\quad (3)\\\\\n",
    "&\\quad-2.00 \\times Discs&{}+{}&\\phantom{0}1.00 \\times Orbs&{} &\\;\\leq &\\;&\\phantom{00}0 \\quad \\text{Sales} &\\quad (4)\\\\\n",
    "&\\quad \\rlap{Discs, Orbs \\geq 0} &&&&&&&\\quad (5)\n",
    "\\end{alignat*}\n",
    "$\n",
    "\n",
    "## Source\n",
    "Replicates an Excel model described in article \"Production mix via graphical LP\" at https://www.solvermax.com/blog/production-mix."
   ]
  },
  {
   "cell_type": "code",
   "execution_count": 1,
   "id": "d441d5b8-6f12-4a52-b386-de0f0167e042",
   "metadata": {},
   "outputs": [],
   "source": [
    "# Import dependencies\n",
    "\n",
    "import pyomo.environ as pyo"
   ]
  },
  {
   "cell_type": "code",
   "execution_count": 2,
   "id": "d2b8d3fe-5680-4796-b7f1-69f5a5662b8c",
   "metadata": {},
   "outputs": [],
   "source": [
    "# Declarations\n",
    "\n",
    "Model = pyo.ConcreteModel(name = 'Boutique pottery shop - Model 1')"
   ]
  },
  {
   "cell_type": "code",
   "execution_count": 3,
   "id": "5c6e71aa-2429-4d3f-9e55-268f23fd49d9",
   "metadata": {},
   "outputs": [],
   "source": [
    "# Define model\n",
    "\n",
    "Model.Discs = pyo.Var(domain = pyo.NonNegativeReals)\n",
    "Model.Orbs = pyo.Var(domain = pyo.NonNegativeReals)\n",
    "\n",
    "Model.PeopleHours = pyo.Constraint(expr = 12.50 * Model.Discs + 10.00 * Model.Orbs <= 250)\n",
    "Model.MaterialUsage = pyo.Constraint(expr = 18.00 * Model.Discs + 30.00 * Model.Orbs <= 500)\n",
    "Model.SalesRelationship = pyo.Constraint(expr = -2.00 * Model.Discs + 1.00 * Model.Orbs <= 0)\n",
    "\n",
    "Model.TotalMargin = pyo.Objective(expr = 80.00 * Model.Discs + 200.00 * Model.Orbs, sense = pyo.maximize)"
   ]
  },
  {
   "cell_type": "code",
   "execution_count": 4,
   "id": "c407d0fd-5df1-4c37-bf08-b6f0b394a185",
   "metadata": {},
   "outputs": [],
   "source": [
    "# Solve model\n",
    "\n",
    "Solver = pyo.SolverFactory('cbc')\n",
    "Results = Solver.solve(Model)"
   ]
  },
  {
   "cell_type": "code",
   "execution_count": 5,
   "id": "7c42097f-5913-4530-86d2-557ec56395ff",
   "metadata": {},
   "outputs": [
    {
     "name": "stdout",
     "output_type": "stream",
     "text": [
      "Boutique pottery shop - Model 1 \n",
      "\n",
      "Status:  ok \n",
      "\n",
      "Total margin = $3,076.92\n",
      "Production of discs =   6.41\n",
      "Production of orbs  =  12.82\n"
     ]
    }
   ],
   "source": [
    "# Write output\n",
    "\n",
    "print(Model.name, '\\n')\n",
    "print('Status: ', Results.solver.status, '\\n')\n",
    "print(f'Total margin = ${Model.TotalMargin():,.2f}')\n",
    "print(f'Production of discs = {Model.Discs():6.2f}')\n",
    "print(f'Production of orbs  = {Model.Orbs():6.2f}')"
   ]
  },
  {
   "cell_type": "code",
   "execution_count": null,
   "id": "2ad71d10-1b7e-4369-95ea-fe125cc7615f",
   "metadata": {},
   "outputs": [],
   "source": []
  }
 ],
 "metadata": {
  "kernelspec": {
   "display_name": "Python 3 (ipykernel)",
   "language": "python",
   "name": "python3"
  },
  "language_info": {
   "codemirror_mode": {
    "name": "ipython",
    "version": 3
   },
   "file_extension": ".py",
   "mimetype": "text/x-python",
   "name": "python",
   "nbconvert_exporter": "python",
   "pygments_lexer": "ipython3",
   "version": "3.9.7"
  }
 },
 "nbformat": 4,
 "nbformat_minor": 5
}
