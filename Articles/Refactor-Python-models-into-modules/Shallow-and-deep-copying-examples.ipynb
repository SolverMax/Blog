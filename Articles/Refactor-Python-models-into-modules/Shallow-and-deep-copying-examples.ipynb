{
 "cells": [
  {
   "cell_type": "markdown",
   "id": "a5064187-7ba6-4bc1-b242-cbd3e52869e2",
   "metadata": {},
   "source": [
    "# Illustration of shallow vs deep copying in Python\n",
    "\n",
    "## Author\n",
    "www.solvermax.com"
   ]
  },
  {
   "cell_type": "code",
   "execution_count": 1,
   "id": "4ded1868-475a-4d3e-b3c3-fb26dde907d1",
   "metadata": {},
   "outputs": [],
   "source": [
    "import copy"
   ]
  },
  {
   "cell_type": "markdown",
   "id": "81b1b86c-c067-4088-b073-fb501cde5d08",
   "metadata": {},
   "source": [
    "## Example 1: Variables containing simple types\n",
    "Variables $a$ and $b$ contain integers. The assignment $a = b$ copies the value of $b$ into $a$. If we change the value of $a$, then it has no effect on $b$, and vice verse."
   ]
  },
  {
   "cell_type": "code",
   "execution_count": 2,
   "id": "ddbe5ebe-16ec-41a6-9127-b45b63307a27",
   "metadata": {},
   "outputs": [
    {
     "name": "stdout",
     "output_type": "stream",
     "text": [
      "a = 3  b = 12\n",
      "Type of a is <class 'int'> Type of b is <class 'int'>\n"
     ]
    }
   ],
   "source": [
    "a = 3\n",
    "b = 12\n",
    "print('a =', a, ' b =', b)\n",
    "print('Type of a is', type(a), 'Type of b is', type(b))"
   ]
  },
  {
   "cell_type": "code",
   "execution_count": 3,
   "id": "e690daca-c33a-41f9-a637-c1aca4ad63d7",
   "metadata": {},
   "outputs": [
    {
     "name": "stdout",
     "output_type": "stream",
     "text": [
      "a = 12  b = 12\n"
     ]
    }
   ],
   "source": [
    "a = b\n",
    "print('a =', a, ' b =', b)"
   ]
  },
  {
   "cell_type": "code",
   "execution_count": 4,
   "id": "67416ea6-1809-4356-9a23-fe6e76ffe391",
   "metadata": {},
   "outputs": [
    {
     "name": "stdout",
     "output_type": "stream",
     "text": [
      "a = 20  b = 12\n"
     ]
    }
   ],
   "source": [
    "a = 20\n",
    "print('a =', a, ' b =', b)"
   ]
  },
  {
   "cell_type": "code",
   "execution_count": 5,
   "id": "fbc119eb-a562-4ef5-baab-1b3a4145bf3f",
   "metadata": {},
   "outputs": [
    {
     "name": "stdout",
     "output_type": "stream",
     "text": [
      "a = 20  b = 100\n"
     ]
    }
   ],
   "source": [
    "b = 100\n",
    "print('a =', a, ' b =', b)"
   ]
  },
  {
   "cell_type": "markdown",
   "id": "90e5beef-f46a-4333-a0a7-cb327f37e27f",
   "metadata": {},
   "source": [
    "## Example 2: Variables containing compound types\n",
    "Variables $c$ and $d$ contain lists. The assignment  $c = d$ makes $c$ and $d$ aliases, so they are the same object with the same values. If we change the value of $c$, then the value of $d$ also changes, and vice verse."
   ]
  },
  {
   "cell_type": "code",
   "execution_count": 6,
   "id": "9b118a95-d781-473f-9af8-5e2b88c01630",
   "metadata": {},
   "outputs": [
    {
     "name": "stdout",
     "output_type": "stream",
     "text": [
      "c = [1, 2, 3]  d = [10, 11, 12]\n",
      "Type of c is <class 'list'> Type of d is <class 'list'>\n"
     ]
    }
   ],
   "source": [
    "c = [1, 2, 3]\n",
    "d = [10, 11, 12]\n",
    "print('c =', c, ' d =', d)\n",
    "print('Type of c is', type(c), 'Type of d is', type(d))"
   ]
  },
  {
   "cell_type": "code",
   "execution_count": 7,
   "id": "0bf52335-eeab-48c5-9147-79060d4177a2",
   "metadata": {},
   "outputs": [
    {
     "name": "stdout",
     "output_type": "stream",
     "text": [
      "c = [10, 11, 12]  d = [10, 11, 12]\n"
     ]
    }
   ],
   "source": [
    "c = d\n",
    "print('c =', c, ' d =', d)"
   ]
  },
  {
   "cell_type": "code",
   "execution_count": 8,
   "id": "d8c5383d-d12a-44a6-89cd-d06d9033bf86",
   "metadata": {},
   "outputs": [
    {
     "name": "stdout",
     "output_type": "stream",
     "text": [
      "c = [10, 11, 20]  d = [10, 11, 20]\n"
     ]
    }
   ],
   "source": [
    "c[2] = 20\n",
    "print('c =', c, ' d =', d)"
   ]
  },
  {
   "cell_type": "code",
   "execution_count": 9,
   "id": "556ebb4b-2663-449a-a9c4-b469c611d0c8",
   "metadata": {},
   "outputs": [
    {
     "name": "stdout",
     "output_type": "stream",
     "text": [
      "c = [100, 11, 20]  d = [100, 11, 20]\n"
     ]
    }
   ],
   "source": [
    "d[0] = 100\n",
    "print('c =', c, ' d =', d)"
   ]
  },
  {
   "cell_type": "markdown",
   "id": "7c25d048-8100-4431-acd0-2996776acc01",
   "metadata": {},
   "source": [
    "## Example 3: Using deepcopy\n",
    "Variable $e$ contains lists. We do a deepcopy of $e$ to create $f$. $e$ and $f$ are separate objects, so changes to one of them has no effect on the other."
   ]
  },
  {
   "cell_type": "code",
   "execution_count": 10,
   "id": "e1018f60-7adf-4d1c-8226-d4176df259e4",
   "metadata": {},
   "outputs": [
    {
     "name": "stdout",
     "output_type": "stream",
     "text": [
      "e = [1, 2, 3]\n",
      "Type of e is <class 'list'>\n"
     ]
    }
   ],
   "source": [
    "e = [1, 2, 3]\n",
    "print('e =', e)\n",
    "print('Type of e is', type(e))"
   ]
  },
  {
   "cell_type": "code",
   "execution_count": 11,
   "id": "608eff4a-484e-4506-a0d4-8b331725b872",
   "metadata": {},
   "outputs": [
    {
     "name": "stdout",
     "output_type": "stream",
     "text": [
      "e = [1, 2, 3]  f = [1, 2, 3]\n"
     ]
    }
   ],
   "source": [
    "f = copy.deepcopy(e)\n",
    "print('e =', e, ' f =', f)"
   ]
  },
  {
   "cell_type": "code",
   "execution_count": 12,
   "id": "6552a433-50bc-4031-b65e-daec84ab764b",
   "metadata": {},
   "outputs": [
    {
     "name": "stdout",
     "output_type": "stream",
     "text": [
      "e = [1, 2, 20]  f = [1, 2, 3]\n"
     ]
    }
   ],
   "source": [
    "e[2] = 20\n",
    "print('e =', e, ' f =', f)"
   ]
  },
  {
   "cell_type": "code",
   "execution_count": 13,
   "id": "9786e187-7cd3-4332-a20b-11e2cdfa955d",
   "metadata": {},
   "outputs": [
    {
     "name": "stdout",
     "output_type": "stream",
     "text": [
      "e = [1, 2, 20]  f = [100, 2, 3]\n"
     ]
    }
   ],
   "source": [
    "f[0] = 100\n",
    "print('e =', e, ' f =', f)"
   ]
  }
 ],
 "metadata": {
  "kernelspec": {
   "display_name": "Python 3 (ipykernel)",
   "language": "python",
   "name": "python3"
  },
  "language_info": {
   "codemirror_mode": {
    "name": "ipython",
    "version": 3
   },
   "file_extension": ".py",
   "mimetype": "text/x-python",
   "name": "python",
   "nbconvert_exporter": "python",
   "pygments_lexer": "ipython3",
   "version": "3.9.7"
  }
 },
 "nbformat": 4,
 "nbformat_minor": 5
}
