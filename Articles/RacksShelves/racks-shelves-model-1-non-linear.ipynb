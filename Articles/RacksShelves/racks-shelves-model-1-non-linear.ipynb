{
 "cells": [
  {
   "cell_type": "markdown",
   "id": "6dac899b-30ae-43dd-972e-90e04d78bb65",
   "metadata": {},
   "source": [
    "# Racks and Shelves, Model 1, Non-linear formulation\n",
    "\n",
    "## Purpose\n",
    "Identify shelf heights that minimize the number of racks required to store given collection of pallets.\n",
    "\n",
    "## Usage:\n",
    "- Specify an Excel file containing a list of pallet heights.\n",
    "- Specify the other global assumptions, as defined below."
   ]
  },
  {
   "cell_type": "code",
   "execution_count": null,
   "id": "e8c701b3-11d6-4472-8c93-9269bb73062a",
   "metadata": {
    "editable": true,
    "slideshow": {
     "slide_type": ""
    },
    "tags": []
   },
   "outputs": [],
   "source": [
    "%run ./components/imports.ipynb\n",
    "%run ./components/utilities.ipynb\n",
    "%run ./components/solver.ipynb\n",
    "%run ./components/data-model-1.ipynb\n",
    "%run ./components/formulation-model-1.ipynb\n",
    "%run ./components/main-1.ipynb\n",
    "%run ./components/results-model-1.ipynb"
   ]
  },
  {
   "cell_type": "code",
   "execution_count": null,
   "id": "dd6f0e84-fed5-436e-96f1-7de29350853f",
   "metadata": {
    "editable": true,
    "slideshow": {
     "slide_type": ""
    },
    "tags": []
   },
   "outputs": [],
   "source": [
    "# Globals\n",
    "\n",
    "# User selections\n",
    "DataFile = os.path.join(os.getcwd() + '\\data', 'pallets-200.xlsx')\n",
    "DataWorksheet = 'Data'\n",
    "WeightedObj = True\n",
    "\n",
    "# Solver options\n",
    "SolverName = 'couenne'\n",
    "Verbose = True\n",
    "LoadSolution = False\n",
    "Neos = False\n",
    "os.environ['NEOS_EMAIL'] = 'your.email@sample.com'\n",
    "TimeLimit = 1*3600\n",
    "\n",
    "# Model file\n",
    "WriteFile = True\n",
    "ModelFile = 'model1.nl'\n",
    "\n",
    "# Fixed\n",
    "ModelName = 'Racks and shelves - Model 1'\n",
    "Checkpoints = []   # List of time checkpoints"
   ]
  },
  {
   "cell_type": "code",
   "execution_count": null,
   "id": "85e0ef37-ff3f-4eeb-8213-1ee2806b8cf5",
   "metadata": {
    "editable": true,
    "slideshow": {
     "slide_type": ""
    },
    "tags": []
   },
   "outputs": [],
   "source": [
    "main()"
   ]
  }
 ],
 "metadata": {
  "kernelspec": {
   "display_name": "Python 3 (ipykernel)",
   "language": "python",
   "name": "python3"
  },
  "language_info": {
   "codemirror_mode": {
    "name": "ipython",
    "version": 3
   },
   "file_extension": ".py",
   "mimetype": "text/x-python",
   "name": "python",
   "nbconvert_exporter": "python",
   "pygments_lexer": "ipython3",
   "version": "3.11.8"
  }
 },
 "nbformat": 4,
 "nbformat_minor": 5
}
