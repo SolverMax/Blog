{
 "cells": [
  {
   "cell_type": "code",
   "execution_count": null,
   "id": "b90954ba-eba0-4a80-9dc9-5fc90e9b7d37",
   "metadata": {},
   "outputs": [],
   "source": [
    "def main():\n",
    "    Timer('Start');\n",
    "    Model = pyo.ConcreteModel(name = ModelName)\n",
    "    Model.Engine = SolverName\n",
    "    Model.TimeLimit = TimeLimit\n",
    "    Solver, Model = SetUpSolver(Model)  \n",
    "    Pallets, MaxShelves, MinShelfSize, MaxShelfSize, RackHeight, Gap, PalletsPerShelf, WeightRacks, WeightShelves = GetData(DataFile, DataWorksheet)\n",
    "    DefineModelData(Model, Pallets, MaxShelves, MinShelfSize, MaxShelfSize, RackHeight, Gap, PalletsPerShelf, WeightRacks, WeightShelves)\n",
    "    DefineModel1(Model)\n",
    "    WriteModelToFile(WriteFile, Model)\n",
    "    Timer('Setup');\n",
    "    Results, Model = CallSolver(Solver, Model)\n",
    "    Timer('Solved');\n",
    "    WriteSolution, LimitStop, SolutionLB, SolutionUB = ProcessResults(Results, Model)\n",
    "    Output(Results, Model, WriteSolution, LimitStop, SolutionLB, SolutionUB)\n",
    "    Timer('Finish');\n",
    "    WriteCheckpoints()"
   ]
  }
 ],
 "metadata": {
  "kernelspec": {
   "display_name": "Python 3 (ipykernel)",
   "language": "python",
   "name": "python3"
  },
  "language_info": {
   "codemirror_mode": {
    "name": "ipython",
    "version": 3
   },
   "file_extension": ".py",
   "mimetype": "text/x-python",
   "name": "python",
   "nbconvert_exporter": "python",
   "pygments_lexer": "ipython3",
   "version": "3.9.13"
  }
 },
 "nbformat": 4,
 "nbformat_minor": 5
}
