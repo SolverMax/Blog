{
 "cells": [
  {
   "cell_type": "code",
   "execution_count": 1,
   "id": "f7f36caa-06d4-4d11-a663-b8284a655404",
   "metadata": {
    "editable": true,
    "slideshow": {
     "slide_type": ""
    },
    "tags": []
   },
   "outputs": [],
   "source": [
    "# Write model output\n",
    "def OutputAllocation(Model):\n",
    "    BestAllocation = '\\nAllocation\\n'   # Allocation of pallets to shelves\n",
    "    Header =  '           Shelf\\n'\n",
    "    Header += 'Pallet  '\n",
    "    for s in Model.S:\n",
    "        Header += '{:6.0f}'.format(s + 1)\n",
    "    Header += '\\n--------' + 6 * len(Model.S) * '-'\n",
    "    BestAllocation += Header\n",
    "    for p in Model.P:\n",
    "        Row = '{:6.0f}'.format(p + 1) + '  '\n",
    "        for s in Model.S:\n",
    "            if round(pyo.value(Model.Allocation[p, s]), 0) == 1:\n",
    "                Row += '     1'\n",
    "            else:\n",
    "                Row += '     -'\n",
    "        BestAllocation += '\\n' + Row\n",
    "    Footer = '\\n--------'  + 6 * len(Model.S) * '-' + '\\n'\n",
    "    TotalRow = 'Total    '   # Total pallets allocated to each shelf\n",
    "    for s in Model.S:\n",
    "        NumPallets = 0\n",
    "        for p in Model.P:\n",
    "            NumPallets += round(pyo.value(Model.Allocation[p, s]), 0)\n",
    "        if NumPallets == 0:\n",
    "            TotalRow += '    - '\n",
    "        else:\n",
    "            TotalRow += '{:5.0f}'.format(NumPallets) + ' '\n",
    "    Footer += TotalRow\n",
    "    BestAllocation += Footer\n",
    "    return BestAllocation"
   ]
  }
 ],
 "metadata": {
  "kernelspec": {
   "display_name": "Python 3 (ipykernel)",
   "language": "python",
   "name": "python3"
  },
  "language_info": {
   "codemirror_mode": {
    "name": "ipython",
    "version": 3
   },
   "file_extension": ".py",
   "mimetype": "text/x-python",
   "name": "python",
   "nbconvert_exporter": "python",
   "pygments_lexer": "ipython3",
   "version": "3.9.13"
  }
 },
 "nbformat": 4,
 "nbformat_minor": 5
}
