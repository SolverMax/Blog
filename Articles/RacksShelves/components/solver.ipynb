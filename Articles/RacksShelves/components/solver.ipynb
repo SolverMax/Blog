{
 "cells": [
  {
   "cell_type": "code",
   "execution_count": 1,
   "id": "526984e9-cf4e-4916-90ab-bcebdc58af50",
   "metadata": {
    "editable": true,
    "slideshow": {
     "slide_type": ""
    },
    "tags": []
   },
   "outputs": [],
   "source": [
    "# Create the Solver object for either NEOS or a local solver\n",
    "def SetUpSolver(Model):\n",
    "    if Neos:\n",
    "        Solver = pyo.SolverManagerFactory('neos')   # Solver on NEOS\n",
    "        if pyo.value(Model.Engine) == 'bonmin':   # Non-linear\n",
    "            Model.Options = {}   # Bonmin doesn't accept command line options\n",
    "        elif pyo.value(Model.Engine) == 'couenne':   # Non-linear\n",
    "            Model.Options = {}   # Couenne doesn't accept command line options\n",
    "        elif pyo.value(Model.Engine) == 'filmint':   # Non-linear\n",
    "            Model.Options = {}   # Time limit option is unknown\n",
    "        elif pyo.value(Model.Engine) == 'knitro':   # Non-linear\n",
    "            Model.Options = {'mip_maxtime_real': Model.TimeLimit, 'maxtime_real': Model.TimeLimit}\n",
    "        elif pyo.value(Model.Engine) == 'minlp':   # Non-linear\n",
    "            Model.Options = {}   # Time limit option is unknown\n",
    "        elif pyo.value(Model.Engine) == 'cbc':   # Linear\n",
    "            Model.Options = {'seconds': Model.TimeLimit}\n",
    "        elif pyo.value(Model.Engine) == 'minto':   # Linear\n",
    "            Model.Options = {'maxtime': Model.TimeLimit}\n",
    "        elif pyo.value(Model.Engine) == 'mosek':   # Linear\n",
    "            Model.Options = {'timelim': Model.TimeLimit}\n",
    "        elif pyo.value(Model.Engine) == 'cplex':   # Linear\n",
    "            Model.Options = {'timelimit': Model.TimeLimit}\n",
    "        elif pyo.value(Model.Engine) == 'octeract':   # Non-linear\n",
    "            Model.Options = {'MAX_SOLVER_TIME': Model.TimeLimit, 'MILP_SOLVER': 'HIGHS'}\n",
    "        else:\n",
    "            Model.Options = {}\n",
    "            print('Unknown NEOS solver when setting options')\n",
    "    else:\n",
    "        Solver = pyo.SolverFactory(pyo.value(Model.Engine))   # Local solver installed\n",
    "        if pyo.value(Model.Engine) == 'bonmin':   # Non-linear\n",
    "            Model.Options = {}   # Bonmin doesn't accept command line options, use bonmin.opt instead\n",
    "        elif pyo.value(Model.Engine) == 'couenne':   # Non-linear\n",
    "            Model.Options = {}   # Couenne doesn't accept command line options, use couenne.opt instead\n",
    "        elif pyo.value(Model.Engine) == 'cbc':   # Linear\n",
    "            Solver.options['seconds'] = pyo.value(Model.TimeLimit)\n",
    "        elif pyo.value(Model.Engine) == 'glpk':   # Linear\n",
    "            Solver.options['tmlim'] = pyo.value(Model.TimeLimit)\n",
    "        elif pyo.value(Model.Engine) == 'appsi_highs':   # Linear\n",
    "            Solver.options['time_limit'] = pyo.value(Model.TimeLimit)\n",
    "            Solver.options['log_file'] = 'highs.log'   # Sometimes HiGHS doesn't update the console as it solves, so write log file too\n",
    "        elif pyo.value(Model.Engine) == 'gurobi_direct':\n",
    "            Solver.options['timelimit'] = pyo.value(Model.TimeLimit)\n",
    "        else:\n",
    "            print('Unknown local solver when setting options')\n",
    "    \n",
    "    return Solver, Model"
   ]
  },
  {
   "cell_type": "code",
   "execution_count": 2,
   "id": "f6d847fb-073f-446b-9bd8-085117c49067",
   "metadata": {
    "editable": true,
    "slideshow": {
     "slide_type": ""
    },
    "tags": []
   },
   "outputs": [],
   "source": [
    "# Call either NEOS or a local solver\n",
    "def CallSolver(Solver, Model):\n",
    "    if Neos:\n",
    "        Results = Solver.solve(Model, load_solutions = LoadSolution, tee = Verbose, solver = Model.Engine, options = Model.Options)\n",
    "    else:\n",
    "        Results = Solver.solve(Model, load_solutions = LoadSolution, tee = Verbose)\n",
    "    \n",
    "    return Results, Model"
   ]
  }
 ],
 "metadata": {
  "kernelspec": {
   "display_name": "Python 3 (ipykernel)",
   "language": "python",
   "name": "python3"
  },
  "language_info": {
   "codemirror_mode": {
    "name": "ipython",
    "version": 3
   },
   "file_extension": ".py",
   "mimetype": "text/x-python",
   "name": "python",
   "nbconvert_exporter": "python",
   "pygments_lexer": "ipython3",
   "version": "3.9.13"
  }
 },
 "nbformat": 4,
 "nbformat_minor": 5
}
