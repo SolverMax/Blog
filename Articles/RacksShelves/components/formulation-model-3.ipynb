{
 "cells": [
  {
   "cell_type": "code",
   "execution_count": null,
   "id": "026ed2ff-22c3-444c-8e33-e8f5eb18b342",
   "metadata": {
    "editable": true,
    "slideshow": {
     "slide_type": ""
    },
    "tags": []
   },
   "outputs": [],
   "source": [
    "# Define model\n",
    "def DefineModel3(Model):\n",
    "    Model.Racks = pyo.Var(domain = pyo.NonNegativeIntegers, initialize = 0)   # Number of racks\n",
    "    Model.Allocation = pyo.Var(Model.P, Model.S, domain = pyo.Binary, initialize = 0)   # Allocation of pallets to shelves and racks\n",
    "\n",
    "    def rule_fit(Model, P):   # Each pallet must be allocated to a shelf that is at least the height of the pallet\n",
    "        return sum(Model.ShelfHeights[s] * Model.Allocation[P, s] for s in Model.S) >= Model.Pallets[P]\n",
    "    Model.PalletFits = pyo.Constraint(Model.P, rule = rule_fit)\n",
    "\n",
    "    def rule_use(Model, P):   # Each pallet must be allocated to exactly one shelf\n",
    "        return sum(Model.Allocation[P, s] for s in Model.S) == 1\n",
    "    Model.MustUse = pyo.Constraint(Model.P, rule = rule_use)\n",
    "\n",
    "    def rule_within(Model, S):   # Times each shelf size is allocated to a pallet must be no larger than the number of racks\n",
    "        return sum(Model.Allocation[p, S] for p in Model.P) <= Model.Racks * Model.PalletsPerShelf   # Some shelves may be empty (Allocation = 0)\n",
    "    Model.WithinRack = pyo.Constraint(Model.S, rule = rule_within)\n",
    "    \n",
    "    def rule_Obj(Model):   # Minimize the number of racks we need to allocate all pallets to a shelf\n",
    "        if WeightedObj:   # Weighted to also minimize number of shelves in a rack, if required\n",
    "            return Model.WeightRacks * Model.Racks + Model.WeightShelves * Model.NumShelves\n",
    "        else:\n",
    "            return Model.Racks\n",
    "    Model.Obj = pyo.Objective(rule = rule_Obj, sense = pyo.minimize)"
   ]
  }
 ],
 "metadata": {
  "kernelspec": {
   "display_name": "Python 3 (ipykernel)",
   "language": "python",
   "name": "python3"
  },
  "language_info": {
   "codemirror_mode": {
    "name": "ipython",
    "version": 3
   },
   "file_extension": ".py",
   "mimetype": "text/x-python",
   "name": "python",
   "nbconvert_exporter": "python",
   "pygments_lexer": "ipython3",
   "version": "3.11.8"
  }
 },
 "nbformat": 4,
 "nbformat_minor": 5
}
