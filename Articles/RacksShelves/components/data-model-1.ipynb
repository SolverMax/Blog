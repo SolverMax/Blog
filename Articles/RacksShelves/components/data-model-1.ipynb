{
 "cells": [
  {
   "cell_type": "code",
   "execution_count": 1,
   "id": "fb79d6af-fe90-4ec7-b077-a3eb57db0eeb",
   "metadata": {
    "editable": true,
    "slideshow": {
     "slide_type": ""
    },
    "tags": []
   },
   "outputs": [],
   "source": [
    "# Load data from Excel file\n",
    "def GetData(DataFile, DataWorksheet):\n",
    "    Pallets = LoadFromExcel(DataFile, DataWorksheet, 'Heights')   # List of all pallet sizes (decimetres) that we need to store os shelves\n",
    "    Pallets.columns = ['Sizes']   # Name the pallets column\n",
    "    MaxShelves = LoadFromExcel(DataFile, DataWorksheet, 'MaxShelves')   # Maximum number of shelves in a rack\n",
    "    WeightRacks = LoadFromExcel(DataFile, DataWorksheet, 'WeightRacks')   # Objective function weight on the variable for number of racks\n",
    "    WeightShelves = LoadFromExcel(DataFile, DataWorksheet, 'WeightShelves')   # Objective function weight on the variable for number of shelves\n",
    "    MinShelfSize = LoadFromExcel(DataFile, DataWorksheet, 'MinShelfSize')   # Minimum size of a shelf (decimetres)\n",
    "    MaxShelfSize = LoadFromExcel(DataFile, DataWorksheet, 'MaxShelfSize')   # Maximum size of a shelf (decimetres)\n",
    "    RackHeight = LoadFromExcel(DataFile, DataWorksheet, 'RackHeight')   # Height of a rack (decimetres)\n",
    "    Gap = LoadFromExcel(DataFile, DataWorksheet, 'Gap')   # Gap between shelves (decimetres) = rack height plus loading clearance\n",
    "    PalletsPerShelf = LoadFromExcel(DataFile, DataWorksheet, 'PalletsPerShelf')   # Number of pallets on each shelf\n",
    "    return Pallets, MaxShelves, MinShelfSize, MaxShelfSize, RackHeight, Gap, PalletsPerShelf, WeightRacks, WeightShelves"
   ]
  },
  {
   "cell_type": "code",
   "execution_count": 2,
   "id": "c4db48f3-4884-446c-935a-644acba77432",
   "metadata": {
    "editable": true,
    "slideshow": {
     "slide_type": ""
    },
    "tags": []
   },
   "outputs": [],
   "source": [
    "# Define model data, assigning all data to the Model\n",
    "def DefineModelData(Model, Pallets, MaxShelves, MinShelfSize, MaxShelfSize, RackHeight, Gap, PalletsPerShelf, WeightRacks, WeightShelves):\n",
    "    Model.MaxShelves = MaxShelves[0].item()\n",
    "    Model.MinShelfSize = MinShelfSize[0].item()\n",
    "    Model.MaxShelfSize = MaxShelfSize[0].item()\n",
    "    Model.RackHeight = RackHeight[0].item()\n",
    "    Model.Gap = Gap[0].item()\n",
    "    Model.WeightRacks = WeightRacks[0].item()\n",
    "    Model.WeightShelves = WeightShelves[0].item()\n",
    "    Model.PalletsPerShelf = PalletsPerShelf[0].item()\n",
    "    Model.P = pyo.Set(initialize = range(0, len(Pallets)))\n",
    "    Model.S = pyo.Set(initialize = range(0, Model.MaxShelves))\n",
    "    Model.Pallets = pyo.Param(Model.P, within = pyo.NonNegativeIntegers, mutable = True)\n",
    "    for p in Model.P:\n",
    "        Model.Pallets[p] = Pallets['Sizes'][p]"
   ]
  }
 ],
 "metadata": {
  "kernelspec": {
   "display_name": "Python 3 (ipykernel)",
   "language": "python",
   "name": "python3"
  },
  "language_info": {
   "codemirror_mode": {
    "name": "ipython",
    "version": 3
   },
   "file_extension": ".py",
   "mimetype": "text/x-python",
   "name": "python",
   "nbconvert_exporter": "python",
   "pygments_lexer": "ipython3",
   "version": "3.11.8"
  }
 },
 "nbformat": 4,
 "nbformat_minor": 5
}
