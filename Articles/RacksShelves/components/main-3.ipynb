{
 "cells": [
  {
   "cell_type": "code",
   "execution_count": null,
   "id": "873e4261-eaf5-427a-add0-b81d82a04a96",
   "metadata": {},
   "outputs": [],
   "source": [
    "def ModelCase(Case, Pallets, MaxShelves, ShelfHeights, PalletsPerShelf, WeightRacks, WeightShelves, BestObj, BestAllocation, BestCase):\n",
    "    Model = pyo.ConcreteModel(name = ModelName + ', Case ' + str(Case + 1))\n",
    "    Model.Engine = SolverName\n",
    "    Model.TimeLimit = TimeLimit\n",
    "    Solver, Model = SetUpSolver(Model) \n",
    "    DefineModelData(Model, Case, Pallets, MaxShelves, ShelfHeights, PalletsPerShelf, WeightRacks, WeightShelves)\n",
    "    DefineModel3(Model)\n",
    "    Results, Model = CallSolver(Solver, Model)\n",
    "    Output = f'Case {Case + 1:3,.0f}, shelves = '\n",
    "    for s in Model.S:\n",
    "        Output += f'{pyo.value(Model.ShelfHeights[s]):3,.0f}, '\n",
    "    Output += f'obj = {Model.Obj():7,.1f}'\n",
    "    ObjMarker = ''\n",
    "    if round(pyo.value(Model.Obj()), 4) < BestObj:\n",
    "        ObjMarker = ' *'\n",
    "        BestObj = round(pyo.value(Model.Obj()), 4)\n",
    "        BestAllocation = OutputAllocation(Model)\n",
    "        BestCase = Output\n",
    "        WriteModelToFile(WriteFile, Model)\n",
    "    Output += ObjMarker\n",
    "    print(Output)\n",
    "    return BestObj, BestAllocation, BestCase"
   ]
  },
  {
   "cell_type": "code",
   "execution_count": null,
   "id": "f5f6d2bf-09b2-4df5-999e-006183b1c747",
   "metadata": {},
   "outputs": [],
   "source": [
    "def main():\n",
    "    Timer('Start');\n",
    "    BestObj = np.inf\n",
    "    BestCase = ''\n",
    "    BestAllocation = None\n",
    "    Pallets, MaxShelves, ShelfHeights, WeightRacks, WeightShelves, PalletsPerShelf = GetData(DataFile, DataWorksheet, CasesFile, CasesWorksheet)\n",
    "    Timer('Setup');\n",
    "    for Case in range(0, ShelfHeights.shape[0]):\n",
    "        BestObj, BestAllocation, BestCase = ModelCase(Case, Pallets, MaxShelves, ShelfHeights, PalletsPerShelf, WeightRacks, WeightShelves, BestObj, BestAllocation, BestCase)\n",
    "    print('\\n')\n",
    "    print(f'Best objective = {BestObj:7,.1f}')\n",
    "    print(BestCase)\n",
    "    print(BestAllocation)\n",
    "    Timer('Finish');\n",
    "    WriteCheckpoints()"
   ]
  }
 ],
 "metadata": {
  "kernelspec": {
   "display_name": "Python 3 (ipykernel)",
   "language": "python",
   "name": "python3"
  },
  "language_info": {
   "codemirror_mode": {
    "name": "ipython",
    "version": 3
   },
   "file_extension": ".py",
   "mimetype": "text/x-python",
   "name": "python",
   "nbconvert_exporter": "python",
   "pygments_lexer": "ipython3",
   "version": "3.9.13"
  }
 },
 "nbformat": 4,
 "nbformat_minor": 5
}
