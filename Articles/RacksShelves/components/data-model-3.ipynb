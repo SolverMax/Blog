{
 "cells": [
  {
   "cell_type": "code",
   "execution_count": 1,
   "id": "e25bec47-ee83-4d54-bf9f-15c095e4aacd",
   "metadata": {
    "editable": true,
    "slideshow": {
     "slide_type": ""
    },
    "tags": []
   },
   "outputs": [],
   "source": [
    "# Load data from Excel file\n",
    "def GetData(DataFile, DataWorksheet, CasesFile, CasesWorksheet):\n",
    "    Pallets = LoadFromExcel(DataFile, DataWorksheet, 'Heights')   # List of all pallet sizes (decimetres) that we need to store os shelves\n",
    "    Pallets.columns = ['Sizes']   # Name the pallets column\n",
    "    MaxShelves = LoadFromExcel(DataFile, DataWorksheet, 'MaxShelves')   # Maximum number of shelves in a rack\n",
    "    WeightRacks = LoadFromExcel(DataFile, DataWorksheet, 'WeightRacks')   # Objective function weight on the variable for number of racks\n",
    "    WeightShelves = LoadFromExcel(DataFile, DataWorksheet, 'WeightShelves')   # Objective function weight on the variable for number of shelves\n",
    "    ShelfHeights = LoadFromExcel(CasesFile, CasesWorksheet, 'Cases')   # Height of each shelf in each case\n",
    "    ShelfHeights.columns = [str(n).zfill(1) for n in range(1, ShelfHeights.shape[1] + 1)]   # Label columns from '1' to 'n'\n",
    "    PalletsPerShelf = LoadFromExcel(DataFile, DataWorksheet, 'PalletsPerShelf')   # Number of pallets on each shelf\n",
    "    return Pallets, MaxShelves, ShelfHeights, WeightRacks, WeightShelves, PalletsPerShelf"
   ]
  },
  {
   "cell_type": "code",
   "execution_count": null,
   "id": "2a5ea3a6-34b0-43a7-9c35-d8e534f004f4",
   "metadata": {
    "editable": true,
    "slideshow": {
     "slide_type": ""
    },
    "tags": []
   },
   "outputs": [],
   "source": [
    "# Define model data, assigning all data to the Model\n",
    "def DefineModelData(Model, Case, Pallets, MaxShelves, ShelfHeights, PalletsPerShelf, WeightRacks, WeightShelves):\n",
    "    Model.MaxShelves = MaxShelves[0].item()\n",
    "    Model.WeightRacks = WeightRacks[0].item()\n",
    "    Model.WeightShelves = WeightShelves[0].item()\n",
    "    Model.PalletsPerShelf = PalletsPerShelf[0].item()\n",
    "    Model.P = pyo.Set(initialize = range(0, len(Pallets)))\n",
    "    Model.S = pyo.Set(initialize = range(0, Model.MaxShelves))\n",
    "    Model.Pallets = pyo.Param(Model.P, within = pyo.NonNegativeIntegers, mutable = True)\n",
    "    Model.ShelfHeights = pyo.Param(Model.S, within = pyo.NonNegativeIntegers, mutable = True)\n",
    "    Model.NumShelves = 0\n",
    "\n",
    "    for p in Model.P:\n",
    "        Model.Pallets[p] = Pallets['Sizes'][p]\n",
    "    for s in Model.S:\n",
    "        Model.ShelfHeights[s] = ShelfHeights[str(s+1)][Case]\n",
    "        if ShelfHeights[str(s+1)][Case] > 0:\n",
    "            Model.NumShelves += 1"
   ]
  }
 ],
 "metadata": {
  "kernelspec": {
   "display_name": "Python 3 (ipykernel)",
   "language": "python",
   "name": "python3"
  },
  "language_info": {
   "codemirror_mode": {
    "name": "ipython",
    "version": 3
   },
   "file_extension": ".py",
   "mimetype": "text/x-python",
   "name": "python",
   "nbconvert_exporter": "python",
   "pygments_lexer": "ipython3",
   "version": "3.9.13"
  }
 },
 "nbformat": 4,
 "nbformat_minor": 5
}
