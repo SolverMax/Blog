{
 "cells": [
  {
   "cell_type": "code",
   "execution_count": null,
   "id": "a4f7ad52-2fb1-4263-91a5-bb24e7cba005",
   "metadata": {
    "editable": true,
    "slideshow": {
     "slide_type": ""
    },
    "tags": []
   },
   "outputs": [],
   "source": [
    "# Define extra components of Model 2\n",
    "def DefineModel2(Model):\n",
    "    Model.PalletShelf = pyo.Var(Model.P, Model.S, within = pyo.NonNegativeIntegers, bounds = (0, Model.MaxShelfSize), initialize = Model.MaxShelfSize)\n",
    "\n",
    "    Model.PalletFits.deactivate()   # This constraint is replaced by the following constraints\n",
    "\n",
    "    # Bounds on ShelfHeights:\n",
    "    # - Lower bound is zero, to allow for unused shelf positions. We retain the \"0 *\" part for completeness.\n",
    "    # - Upper bound is maximum shelf size.\n",
    "    \n",
    "    def rule_fitlinear(Model, p):   # Each pallet must be allocated to a shelf that is at least the height of the pallet\n",
    "        return sum(Model.PalletShelf[p, s] for s in Model.S) >= Model.Pallets[p]\n",
    "    Model.PalletFitsLinear = pyo.Constraint(Model.P, rule = rule_fitlinear)\n",
    "\n",
    "    def rule_fitLB1(Model, p, s):   # Linearization of fit constraint, part 1\n",
    "        return 0 * Model.Allocation[p, s] <= Model.PalletShelf[p, s]\n",
    "    Model.PalletFitsLB1 = pyo.Constraint(Model.P, Model.S, rule = rule_fitLB1)\n",
    "\n",
    "    def rule_fitUB1(Model, p, s):   # Linearization of fit constraint, part 2\n",
    "        return Model.MaxShelfSize * Model.Allocation[p, s] >= Model.PalletShelf[p, s]\n",
    "    Model.PalletFitsUB1 = pyo.Constraint(Model.P, Model.S, rule = rule_fitUB1)\n",
    "\n",
    "    def rule_fitUB2(Model, p, s):   # Linearization of fit constraint, part 3\n",
    "        return Model.ShelfHeights[s] - Model.MaxShelfSize * (1 - Model.Allocation[p, s]) <= Model.PalletShelf[p, s]\n",
    "    Model.PalletFitsUB2 = pyo.Constraint(Model.P, Model.S, rule = rule_fitUB2)\n",
    "    \n",
    "    def rule_fitLB2(Model, p, s):   # Linearization of fit constraint, part 4\n",
    "        return Model.ShelfHeights[s] - 0 * (1 - Model.Allocation[p, s]) >= Model.PalletShelf[p, s]\n",
    "    Model.PalletFitsLB2 = pyo.Constraint(Model.P, Model.S, rule = rule_fitLB2)"
   ]
  }
 ],
 "metadata": {
  "kernelspec": {
   "display_name": "Python 3 (ipykernel)",
   "language": "python",
   "name": "python3"
  },
  "language_info": {
   "codemirror_mode": {
    "name": "ipython",
    "version": 3
   },
   "file_extension": ".py",
   "mimetype": "text/x-python",
   "name": "python",
   "nbconvert_exporter": "python",
   "pygments_lexer": "ipython3",
   "version": "3.9.13"
  }
 },
 "nbformat": 4,
 "nbformat_minor": 5
}
