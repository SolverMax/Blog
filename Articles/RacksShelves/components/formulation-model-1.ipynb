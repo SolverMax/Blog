{
 "cells": [
  {
   "cell_type": "code",
   "execution_count": null,
   "id": "1ab9c709-a751-4942-9f89-622fe70a09bb",
   "metadata": {
    "editable": true,
    "slideshow": {
     "slide_type": ""
    },
    "tags": []
   },
   "outputs": [],
   "source": [
    "# Define model\n",
    "def DefineModel1(Model):\n",
    "    Model.Racks = pyo.Var(domain = pyo.PositiveIntegers, initialize = int(len(Model.P)/(Model.MaxShelves / 2 / Model.PalletsPerShelf)))   # Number of racks\n",
    "    Model.Shelf = pyo.Var(Model.S, within = pyo.Binary, initialize = 0)   # Shelf is included in a rack\n",
    "    Model.ShelfHeights = pyo.Var(Model.S, within = pyo.NonNegativeIntegers, bounds=(0, Model.MaxShelfSize), initialize = Model.MaxShelfSize)   # Height of each shelf\n",
    "    Model.Allocation = pyo.Var(Model.P, Model.S, domain = pyo.Binary, initialize = 0)   # Allocation of pallets to shelves\n",
    "\n",
    "    def rule_fit(Model, P):   # Each pallet must be allocated to a shelf that is at least the height of the pallet\n",
    "        return sum(Model.ShelfHeights[s] * Model.Allocation[P, s] for s in Model.S) >= Model.Pallets[P]\n",
    "    Model.PalletFits = pyo.Constraint(Model.P, rule = rule_fit)\n",
    "    \n",
    "    def rule_use(Model, P):   # Each pallet must be allocated to exactly one shelf\n",
    "        return sum(Model.Allocation[P, s] for s in Model.S) == 1\n",
    "    Model.MustUse = pyo.Constraint(Model.P, rule = rule_use)\n",
    "\n",
    "    def rule_within(Model, S):   # For each shelf, the allocation must be within the number of available slots.\n",
    "        return sum(Model.Allocation[p, S] for p in Model.P) <= Model.PalletsPerShelf * Model.Racks   # Some shelves may be empty (Allocation = 0)\n",
    "    Model.WithinRack = pyo.Constraint(Model.S, rule = rule_within)\n",
    "\n",
    "    def rule_height(Model):   # Total height of shelves in a rack, plus gaps, must equal the rack height\n",
    "        return sum(Model.ShelfHeights[s] + Model.Shelf[s] * Model.Gap for s in Model.S) == Model.RackHeight\n",
    "    Model.RackTotalHeight = pyo.Constraint(rule = rule_height)\n",
    "\n",
    "    def rule_size(Model, S):   # Each shelf can be no higher than the maximum. Some heights may be zero\n",
    "        return Model.ShelfHeights[S] <= Model.Shelf[S] * Model.MaxShelfSize\n",
    "    Model.ShelfSize = pyo.Constraint(Model.S, rule = rule_size)\n",
    "\n",
    "    def rule_shelflink(Model, S):   # Indicate that we're using an available shelf slot only if we allocate a pallet to that slot\n",
    "        return sum(Model.Allocation[p, S] for p in Model.P) >= Model.Shelf[S]\n",
    "    Model.ShelfUB = pyo.Constraint(Model.S, rule = rule_shelflink)\n",
    "\n",
    "    def rule_shelfSymmetry(Model, S):   # Break symmetry by ordering shelf sizes\n",
    "        if S == Model.S.last():  # Skip for last shelf, since we're looking forward to the next shelf\n",
    "            return pyo.Constraint.Skip\n",
    "        else:\n",
    "            return Model.ShelfHeights[S] >= Model.ShelfHeights[Model.S.next(S)]   # [Model.S.next(S)] is equivalent to [S + 1]\n",
    "    Model.shelfSymmetry = pyo.Constraint(Model.S, rule = rule_shelfSymmetry)\n",
    "    \n",
    "    def rule_Obj(Model):   # Minimize the number of racks we need to allocate all pallets to a shelf\n",
    "        if WeightedObj:   # Weighted to also minimize number of shelves in a rack, if required\n",
    "            return Model.WeightRacks * Model.Racks + Model.WeightShelves * sum(Model.Shelf[s] for s in Model.S)\n",
    "        else:\n",
    "            return Model.Racks\n",
    "    Model.Obj = pyo.Objective(rule = rule_Obj, sense = pyo.minimize)"
   ]
  }
 ],
 "metadata": {
  "kernelspec": {
   "display_name": "Python 3 (ipykernel)",
   "language": "python",
   "name": "python3"
  },
  "language_info": {
   "codemirror_mode": {
    "name": "ipython",
    "version": 3
   },
   "file_extension": ".py",
   "mimetype": "text/x-python",
   "name": "python",
   "nbconvert_exporter": "python",
   "pygments_lexer": "ipython3",
   "version": "3.9.13"
  }
 },
 "nbformat": 4,
 "nbformat_minor": 5
}
