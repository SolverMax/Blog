{
 "cells": [
  {
   "cell_type": "markdown",
   "id": "b8f4a015-a6fe-4eda-b73a-5683e28d4066",
   "metadata": {
    "editable": true,
    "slideshow": {
     "slide_type": ""
    },
    "tags": []
   },
   "source": [
    "# Production mix - Julia/JuMP\n",
    "\n",
    "## Situation\n",
    "You own a boutique pottery business, making and selling two types of large ornamental products called Lunar Orb and Solar Disc. Given constraints on staff hours, available materials, and product sales, your objective is to maximize the total profit margin from the shop.\n",
    "\n",
    "## Implementation\n",
    "Linear Program (LP), using Julia/JuMP.\n",
    "\n",
    "## Source\n",
    "Replicates a Python model described in article \"Production mix - Model 5, Pyomo using def\" at https://www.solvermax.com/blog/production-mix-model-5-pyomo."
   ]
  },
  {
   "cell_type": "code",
   "execution_count": 1,
   "id": "48b513fe-9263-461d-b435-5b05adb28b32",
   "metadata": {},
   "outputs": [],
   "source": [
    "# Libraries\n",
    "\n",
    "using JuMP\n",
    "using Printf, DataFrames, PrettyTables\n",
    "using JSON\n",
    "using HiGHS, Cbc, GLPK"
   ]
  },
  {
   "cell_type": "code",
   "execution_count": 2,
   "id": "8f0c25f2-ecac-4fad-9221-f148a4928fac",
   "metadata": {},
   "outputs": [],
   "source": [
    "# Globals\n",
    "\n",
    "filename = \"productiondata.json\"\n",
    "\n",
    "struct ParsedData   # struct must be defined at global level\n",
    "    name::String\n",
    "    hours::Real\n",
    "    kg::Real\n",
    "    saleslimit::Real\n",
    "    varinitial::Real\n",
    "    varlbounds::Real\n",
    "    varubounds::Real\n",
    "    products::Vector\n",
    "    people::Dict\n",
    "    materials::Dict\n",
    "    sales::Dict\n",
    "    margin::Dict\n",
    "    engine::String\n",
    "    timelimit::Int64\n",
    "end"
   ]
  },
  {
   "cell_type": "code",
   "execution_count": 3,
   "id": "744cc82c-1489-4ba8-9263-eae419da01fe",
   "metadata": {},
   "outputs": [],
   "source": [
    "# Data\n",
    "\n",
    "function parsefiledata(filedata)   # Parse xml data file and return a struct containing all the data\n",
    "    name = filedata[\"Name\"]\n",
    "    hours = filedata[\"Hours\"]\n",
    "    kg = filedata[\"kg\"]\n",
    "    saleslimit = filedata[\"SalesLimit\"]\n",
    "    varinitial = filedata[\"VarInitial\"]\n",
    "    varlbounds = filedata[\"VarLBounds\"]\n",
    "    varubounds = filedata[\"VarUBounds\"]\n",
    "    products = sort(collect(keys(filedata[\"Coefficients\"])))\n",
    "    people = Dict()\n",
    "    materials = Dict()\n",
    "    sales = Dict()\n",
    "    margin = Dict()\n",
    "    for p in products\n",
    "        people[p] = filedata[\"Coefficients\"][p][\"People\"]\n",
    "        materials[p] = filedata[\"Coefficients\"][p][\"Materials\"]\n",
    "        sales[p] = filedata[\"Coefficients\"][p][\"Sales\"]\n",
    "        margin[p] = filedata[\"Coefficients\"][p][\"Margin\"]\n",
    "    end\n",
    "    engine = filedata[\"Engine\"]\n",
    "    timelimit = filedata[\"TimeLimit\"]\n",
    "    data = ParsedData(name, hours, kg, saleslimit, varinitial, varlbounds, varubounds, products, people, materials, sales, margin, engine, timelimit)\n",
    "    return data\n",
    "end;"
   ]
  },
  {
   "cell_type": "code",
   "execution_count": 4,
   "id": "9d20d2ea-3f8a-47d4-8f3e-20bc9e2fd23e",
   "metadata": {},
   "outputs": [],
   "source": [
    "# Model\n",
    "\n",
    "function definemodel(data)   # Define the model\n",
    "    model = Model()\n",
    "    @variable(model, data.varlbounds <= production[p in data.products] <= data.varubounds)\n",
    "    @constraint(model, cpeople, sum(data.people[p] * production[p] for p in data.products) <= data.hours)\n",
    "    @constraint(model, cmaterials, sum(data.materials[p] * production[p] for p in data.products) <= data.kg)\n",
    "    @constraint(model, csales, sum(data.sales[p] * production[p] for p in data.products) <= data.saleslimit)\n",
    "    @objective(model, Max, sum(data.margin[p] * production[p] for p in data.products))\n",
    "    return model\n",
    "end;\n",
    "\n",
    "function modeloptions!(model, data)   # Set model options. Function name includes ! to follow convention for functions that alter their arguments\n",
    "    unset_silent(model)   # Verbose output from the solver, c.f. set_silent()\n",
    "    set_optimizer_attribute(model, \"presolve\", \"on\")   # Presolve\n",
    "    set_optimizer_attribute(model, \"time_limit\", data.timelimit)  # Time limit, seconds\n",
    "    if data.engine == \"GLPK\"\n",
    "        set_optimizer(model, GLPK.Optimizer)\n",
    "    elseif data.engine == \"Cbc\"\n",
    "        set_optimizer(model, GLPK.Optimizer)\n",
    "    elseif data.engine == \"HiGHS\"\n",
    "        set_optimizer(model, HiGHS.Optimizer)\n",
    "    else\n",
    "        println( \"Unknown solver. Note that names are case sensitive.\")\n",
    "    end\n",
    "    return model\n",
    "end;"
   ]
  },
  {
   "cell_type": "code",
   "execution_count": 5,
   "id": "6c162c45-8a9c-4acd-9911-939672545d90",
   "metadata": {},
   "outputs": [],
   "source": [
    "# Reporting\n",
    "\n",
    "function variable_report(xi, report)   # Extract variable characteristics. Source: https://jump.dev/JuMP.jl/stable/tutorials/linear/lp_sensitivity\n",
    "    return (\n",
    "        name = name(xi),\n",
    "        lower_bound = has_lower_bound(xi) ? lower_bound(xi) : -Inf,\n",
    "        value = value(xi),\n",
    "        upper_bound = has_upper_bound(xi) ? upper_bound(xi) : Inf,\n",
    "        reduced_cost = reduced_cost(xi),\n",
    "        obj_coefficient = coefficient(objective_function(model), xi),\n",
    "        allowed_decrease = report[xi][1],\n",
    "        allowed_increase = report[xi][2],\n",
    "    )\n",
    "end;\n",
    "\n",
    "function constraint_report(c::ConstraintRef, report)   # Extract constraint characteristics. Source: https://jump.dev/JuMP.jl/stable/tutorials/linear/lp_sensitivity\n",
    "    return (\n",
    "        name = name(c),\n",
    "        value = value(c),\n",
    "        rhs = normalized_rhs(c),\n",
    "        slack = normalized_rhs(c) - value(c),\n",
    "        shadow_price = shadow_price(c),\n",
    "        allowed_decrease = report[c][1],\n",
    "        allowed_increase = report[c][2],\n",
    "    )\n",
    "end;\n",
    "\n",
    "function output(model, data)   #   Write output, depnding on solve status\n",
    "    println(\"\\nModel: $(data.name)\")\n",
    "    println(\"Solver: $(data.engine)\")\n",
    "    println(\"Termination status: $(termination_status(model))\")\n",
    "    duals = ConstraintRef[]\n",
    "    if termination_status(model) == MOI.OPTIMAL\n",
    "        report = lp_sensitivity_report(model)\n",
    "        @printf \"Total margin = \\$%.2f\\n\" objective_value(model)\n",
    "        variable_df = DataFrame(variable_report(xi, report) for xi in all_variables(model))\n",
    "        constraint_df = DataFrame(constraint_report(ci, report) for (F, S) in list_of_constraint_types(model) for ci in all_constraints(model, F, S) if F == AffExpr)\n",
    "        pretty_table(variable_df, nosubheader = true, formatters = ft_printf(\"%.4f\"))\n",
    "        pretty_table(constraint_df, nosubheader = true, formatters = ft_printf(\"%.4f\"))    \n",
    "    else\n",
    "        println(\"No solution\")\n",
    "    end\n",
    "    print(model)\n",
    "end;"
   ]
  },
  {
   "cell_type": "code",
   "execution_count": 6,
   "id": "022c8d22-bef2-4f04-bd47-83b29e37746a",
   "metadata": {},
   "outputs": [
    {
     "name": "stdout",
     "output_type": "stream",
     "text": [
      "Running HiGHS 1.5.1 [date: 1970-01-01, git hash: 93f1876e4]\n",
      "Copyright (c) 2023 HiGHS under MIT licence terms\n",
      "Presolving model\n",
      "3 rows, 2 cols, 6 nonzeros\n",
      "3 rows, 2 cols, 6 nonzeros\n",
      "Presolve : Reductions: rows 3(-0); columns 2(-0); elements 6(-0) - Not reduced\n",
      "Problem not reduced by presolve: solving the LP\n",
      "Using EKK dual simplex solver - serial\n",
      "  Iteration        Objective     Infeasibilities num(sum)\n",
      "          0     0.0000000000e+00 Ph1: 0(0) 0s\n",
      "          2     3.0769230769e+03 Pr: 0(0) 0s\n",
      "Model   status      : Optimal\n",
      "Simplex   iterations: 2\n",
      "Objective value     :  3.0769230769e+03\n",
      "HiGHS run time      :          0.01\n",
      "\n",
      "Model: Boutique pottery shop - Julia/JuMP\n",
      "Solver: HiGHS\n",
      "Termination status: OPTIMAL\n",
      "Total margin = $3076.92\n",
      "┌───────────────────┬─────────────┬─────────┬─────────────┬──────────────┬─────────────────┬──────────────────┬──────────────────┐\n",
      "│\u001b[1m              name \u001b[0m│\u001b[1m lower_bound \u001b[0m│\u001b[1m   value \u001b[0m│\u001b[1m upper_bound \u001b[0m│\u001b[1m reduced_cost \u001b[0m│\u001b[1m obj_coefficient \u001b[0m│\u001b[1m allowed_decrease \u001b[0m│\u001b[1m allowed_increase \u001b[0m│\n",
      "├───────────────────┼─────────────┼─────────┼─────────────┼──────────────┼─────────────────┼──────────────────┼──────────────────┤\n",
      "│ production[Discs] │      0.0000 │  6.4103 │    100.0000 │      -0.0000 │         80.0000 │        -480.0000 │          40.0000 │\n",
      "│  production[Orbs] │      0.0000 │ 12.8205 │    100.0000 │      -0.0000 │        200.0000 │         -66.6667 │              Inf │\n",
      "└───────────────────┴─────────────┴─────────┴─────────────┴──────────────┴─────────────────┴──────────────────┴──────────────────┘\n",
      "┌────────────┬──────────┬──────────┬─────────┬──────────────┬──────────────────┬──────────────────┐\n",
      "│\u001b[1m       name \u001b[0m│\u001b[1m    value \u001b[0m│\u001b[1m      rhs \u001b[0m│\u001b[1m   slack \u001b[0m│\u001b[1m shadow_price \u001b[0m│\u001b[1m allowed_decrease \u001b[0m│\u001b[1m allowed_increase \u001b[0m│\n",
      "├────────────┼──────────┼──────────┼─────────┼──────────────┼──────────────────┼──────────────────┤\n",
      "│    cpeople │ 208.3333 │ 250.0000 │ 41.6667 │      -0.0000 │         -41.6667 │              Inf │\n",
      "│ cmaterials │ 500.0000 │ 500.0000 │  0.0000 │       6.1538 │        -500.0000 │         100.0000 │\n",
      "│     csales │   0.0000 │   0.0000 │  0.0000 │      15.3846 │         -16.6667 │          16.6667 │\n",
      "└────────────┴──────────┴──────────┴─────────┴──────────────┴──────────────────┴──────────────────┘\n"
     ]
    },
    {
     "data": {
      "text/latex": [
       "$$ \\begin{aligned}\n",
       "\\max\\quad & 80 production_{Discs} + 200 production_{Orbs}\\\\\n",
       "\\text{Subject to} \\quad & 12.5 production_{Discs} + 10 production_{Orbs} \\leq 250\\\\\n",
       " & 18 production_{Discs} + 30 production_{Orbs} \\leq 500\\\\\n",
       " & -2 production_{Discs} + production_{Orbs} \\leq 0\\\\\n",
       " & production_{Discs} \\geq 0\\\\\n",
       " & production_{Orbs} \\geq 0\\\\\n",
       " & production_{Discs} \\leq 100\\\\\n",
       " & production_{Orbs} \\leq 100\\\\\n",
       "\\end{aligned} $$"
      ]
     },
     "metadata": {},
     "output_type": "display_data"
    }
   ],
   "source": [
    "# Main\n",
    "\n",
    "filedata = JSON.parsefile(filename);\n",
    "data = parsefiledata(filedata)\n",
    "model = definemodel(data)\n",
    "model = modeloptions!(model, data)\n",
    "optimize!(model)\n",
    "output(model, data)"
   ]
  },
  {
   "cell_type": "code",
   "execution_count": null,
   "id": "cec219f0-8a6d-4bf9-ad0e-3a2ed3f9fdee",
   "metadata": {
    "editable": true,
    "slideshow": {
     "slide_type": ""
    },
    "tags": []
   },
   "outputs": [],
   "source": []
  }
 ],
 "metadata": {
  "kernelspec": {
   "display_name": "Julia 1.9.0",
   "language": "julia",
   "name": "julia-1.9"
  },
  "language_info": {
   "file_extension": ".jl",
   "mimetype": "application/julia",
   "name": "julia",
   "version": "1.9.0"
  }
 },
 "nbformat": 4,
 "nbformat_minor": 5
}
