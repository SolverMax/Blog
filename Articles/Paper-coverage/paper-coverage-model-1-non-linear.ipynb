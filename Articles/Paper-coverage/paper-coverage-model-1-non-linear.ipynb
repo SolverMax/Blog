{
 "cells": [
  {
   "cell_type": "markdown",
   "id": "498043e7-560b-46f5-be2a-656b720984e2",
   "metadata": {},
   "source": [
    "# Paper coverage, Model 1\n",
    "\n",
    "This model is non-linear, with an awkward formulation. That is, we have multiplication of binary width and length variables to calculate coverage area, and multiplication of width and length variables by the binary allocation variables.\n",
    "\n",
    "We try a variety of solvers:\n",
    "- Couenne fails to solve this model.\n",
    "- Octeract can find optimal solutions for small, test data. But Octeract does not find feasible solutions for the full data, even after running for 8 hours on NEOS.\n",
    "- BARON finds feasible solutions, eventually. BARON is not available from Pyomo, so we write the model to a GAMS file and then manually run on NEOS using their web interface. With the full data, BARON finds fair to good solutions after almost 8 hours running on NEOS. Only the 1 and 2 product cases solve faster, finding an optimal solution in a few minutes.\n",
    "\n",
    "Solver options:\n",
    "- To run the model with a local solver, specify the <code>SolverName</code> and set <code>Neos</code> to <code>False</code>.\n",
    "- To run the model on NEOS Server, specify the <code>SolverName</code> and set <code>Neos</code> to <code>True</code>. You will also need to specify your email address in the <code>NEOS_EMAIL</code> environmental variable.\n",
    "\n",
    "To write the model file to disk, set <code>WriteFile</code> to <code>True</code> and specify the <code>ModelFile</code>. The model file can be manually run on NEOS Server via its web interface https://neos-server.org/neos/solvers/index.html."
   ]
  },
  {
   "cell_type": "code",
   "execution_count": 1,
   "id": "7c789501-5273-446c-a69c-3f0d48e2eed0",
   "metadata": {},
   "outputs": [],
   "source": [
    "# Include other notebooks\n",
    "\n",
    "%run ./components/imports.ipynb\n",
    "%run ./components/utilities.ipynb\n",
    "%run ./components/solver.ipynb\n",
    "%run ./components/data-model-1.ipynb\n",
    "%run ./components/formulation-model-1.ipynb\n",
    "%run ./components/output-model-1.ipynb\n",
    "%run ./components/main-model-1.ipynb"
   ]
  },
  {
   "cell_type": "code",
   "execution_count": 2,
   "id": "6e2292d2-da8e-466a-8d61-55412c78c818",
   "metadata": {},
   "outputs": [],
   "source": [
    "# Globals\n",
    "\n",
    "# Data assumptions\n",
    "ProductsMin = 2   # >= 1\n",
    "ProductsMax = 3   # <= number of items\n",
    "DataFile = os.path.join(os.getcwd() + '\\data', 'data-5-example-sorted.xlsx')\n",
    "DataWorksheet = 'Data'\n",
    "\n",
    "# Run options\n",
    "Verbose = False\n",
    "LoadSolution = True\n",
    "TimeLimit = 3600   # seconds\n",
    "\n",
    "# Solver options\n",
    "Neos = True\n",
    "SolverName = 'octeract'\n",
    "os.environ['NEOS_EMAIL'] = 'your-email@company.com'\n",
    "\n",
    "# Model file\n",
    "WriteFile = False\n",
    "ModelFile = 'model-1.gams'\n",
    "\n",
    "# Fixed\n",
    "ModelName = 'Paper coverage - Model 1'\n",
    "Checkpoints = []   # List of time checkpoints"
   ]
  },
  {
   "cell_type": "code",
   "execution_count": 3,
   "id": "410333d1-6110-4aaa-a05f-4e60eb112d2f",
   "metadata": {
    "editable": true,
    "raw_mimetype": "",
    "slideshow": {
     "slide_type": ""
    },
    "tags": []
   },
   "outputs": [
    {
     "name": "stdout",
     "output_type": "stream",
     "text": [
      "Paper coverage - Model 1, Order size 2\n",
      "\n",
      "Order size:   2\n",
      "Objective:    4,700 (26.4% of baseline)\n",
      "Products:     [ 500.0  450.0  300.0  250.0 ]\n",
      "\n",
      "Paper coverage - Model 1, Order size 3\n",
      "\n",
      "Order size:   3\n",
      "Objective:    1,950 (11.0% of baseline)\n",
      "Products:     [ 500.0  450.0  500.0  350.0  250.0  200.0 ]\n",
      "\n",
      "\n",
      "Checkpoint    Seconds\n",
      "---------------------\n",
      "Setup             0.1\n",
      "Completed 2      19.9\n",
      "Completed 3      39.3\n",
      "Finish           39.3\n"
     ]
    }
   ],
   "source": [
    "Main()"
   ]
  }
 ],
 "metadata": {
  "kernelspec": {
   "display_name": "Python 3 (ipykernel)",
   "language": "python",
   "name": "python3"
  },
  "language_info": {
   "codemirror_mode": {
    "name": "ipython",
    "version": 3
   },
   "file_extension": ".py",
   "mimetype": "text/x-python",
   "name": "python",
   "nbconvert_exporter": "python",
   "pygments_lexer": "ipython3",
   "version": "3.9.13"
  }
 },
 "nbformat": 4,
 "nbformat_minor": 5
}
