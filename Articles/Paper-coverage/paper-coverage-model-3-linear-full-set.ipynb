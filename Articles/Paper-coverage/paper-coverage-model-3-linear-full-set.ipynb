{
 "cells": [
  {
   "cell_type": "markdown",
   "id": "498043e7-560b-46f5-be2a-656b720984e2",
   "metadata": {},
   "source": [
    "# Paper coverage, Model 3\n",
    "\n",
    "Linear model with complete list of enumerated potential product sizes.\n",
    "\n",
    "The list is every combination of item width and length (independently). That is, if the data has 100 items, then there are 100 by 100 = 10,000 product combinations. We have 100 binary variables for each combination, so this model has 1,000,000 binary variables for the allocation plus another 10,000 binary variables to decide whcih combinations to use.\n",
    "\n",
    "Because this model has the full set of potential product sizes, it model can find globally optimal solutions. HiGHS solves each case to optimality in 5 to 10 minutes."
   ]
  },
  {
   "cell_type": "code",
   "execution_count": 1,
   "id": "7c789501-5273-446c-a69c-3f0d48e2eed0",
   "metadata": {},
   "outputs": [],
   "source": [
    "%run ./components/imports.ipynb\n",
    "%run ./components/utilities.ipynb\n",
    "%run ./components/solver.ipynb\n",
    "%run ./components/data-model-3.ipynb   # Only the data differs from Model 2\n",
    "%run ./components/formulation-model-2.ipynb\n",
    "%run ./components/output-model-2.ipynb\n",
    "%run ./components/main-model-2.ipynb"
   ]
  },
  {
   "cell_type": "code",
   "execution_count": 2,
   "id": "6e2292d2-da8e-466a-8d61-55412c78c818",
   "metadata": {},
   "outputs": [],
   "source": [
    "# Globals\n",
    "\n",
    "# Data assumptions\n",
    "ProductsMin = 6   # >= 1\n",
    "ProductsMax = 6   # <= number of items\n",
    "DataFile = os.path.join(os.getcwd() + '\\data', 'data-120-actual-extended-sorted.xlsx')\n",
    "DataWorksheet = 'Data'\n",
    "\n",
    "# Run options\n",
    "Verbose = True\n",
    "LoadSolution = True\n",
    "TimeLimit = 3600   # seconds\n",
    "\n",
    "# Solver options\n",
    "Neos = False\n",
    "SolverName = 'appsi_highs'\n",
    "os.environ['NEOS_EMAIL'] = 'your-email@company.com'\n",
    "\n",
    "# Model file\n",
    "WriteFile = False\n",
    "ModelFile = 'model-3.gams'\n",
    "\n",
    "# Fixed\n",
    "ModelName = 'Paper coverage - Model 3'\n",
    "Checkpoints = []   # List of time checkpoints"
   ]
  },
  {
   "cell_type": "code",
   "execution_count": 3,
   "id": "410333d1-6110-4aaa-a05f-4e60eb112d2f",
   "metadata": {
    "editable": true,
    "raw_mimetype": "",
    "slideshow": {
     "slide_type": ""
    },
    "tags": []
   },
   "outputs": [
    {
     "name": "stdout",
     "output_type": "stream",
     "text": [
      "Paper coverage - Model 3, Order size 6\n",
      "Presolving model\n",
      "1728361 rows, 1742400 cols, 8654400 nonzeros\n",
      "664811 rows, 611876 cols, 1940410 nonzeros\n"
     ]
    },
    {
     "ename": "MemoryError",
     "evalue": "bad allocation",
     "output_type": "error",
     "traceback": [
      "\u001b[1;31m---------------------------------------------------------------------------\u001b[0m",
      "\u001b[1;31mMemoryError\u001b[0m                               Traceback (most recent call last)",
      "Input \u001b[1;32mIn [3]\u001b[0m, in \u001b[0;36m<cell line: 4>\u001b[1;34m()\u001b[0m\n\u001b[0;32m      1\u001b[0m \u001b[38;5;28;01mimport\u001b[39;00m \u001b[38;5;21;01mpsutil\u001b[39;00m\n\u001b[0;32m      2\u001b[0m process \u001b[38;5;241m=\u001b[39m psutil\u001b[38;5;241m.\u001b[39mProcess()\n\u001b[1;32m----> 4\u001b[0m \u001b[43mMain\u001b[49m\u001b[43m(\u001b[49m\u001b[43m)\u001b[49m\n\u001b[0;32m      6\u001b[0m MemoryUsage \u001b[38;5;241m=\u001b[39m process\u001b[38;5;241m.\u001b[39mmemory_info()\n\u001b[0;32m      7\u001b[0m \u001b[38;5;28mprint\u001b[39m(MemoryUsage)\n",
      "File \u001b[1;32m~\\AppData\\Local\\Temp\\ipykernel_7368\\3758144029.py:6\u001b[0m, in \u001b[0;36mMain\u001b[1;34m()\u001b[0m\n\u001b[0;32m      4\u001b[0m Timer(\u001b[38;5;124m'\u001b[39m\u001b[38;5;124mSetup\u001b[39m\u001b[38;5;124m'\u001b[39m);\n\u001b[0;32m      5\u001b[0m \u001b[38;5;28;01mfor\u001b[39;00m OrderSize \u001b[38;5;129;01min\u001b[39;00m \u001b[38;5;28mrange\u001b[39m(ProductsMin, ProductsMax \u001b[38;5;241m+\u001b[39m \u001b[38;5;241m1\u001b[39m):   \u001b[38;5;66;03m# Run multiple product cases, if required\u001b[39;00m\n\u001b[1;32m----> 6\u001b[0m     \u001b[43mCase\u001b[49m\u001b[43m(\u001b[49m\u001b[43mOrderSize\u001b[49m\u001b[43m,\u001b[49m\u001b[43m \u001b[49m\u001b[43mWidth\u001b[49m\u001b[43m,\u001b[49m\u001b[43m \u001b[49m\u001b[43mLength\u001b[49m\u001b[43m,\u001b[49m\u001b[43m \u001b[49m\u001b[43mWeight\u001b[49m\u001b[43m)\u001b[49m\n\u001b[0;32m      7\u001b[0m Timer(\u001b[38;5;124m'\u001b[39m\u001b[38;5;124mSolved\u001b[39m\u001b[38;5;124m'\u001b[39m);\n\u001b[0;32m      8\u001b[0m Timer(\u001b[38;5;124m'\u001b[39m\u001b[38;5;124mFinish\u001b[39m\u001b[38;5;124m'\u001b[39m);\n",
      "File \u001b[1;32m~\\AppData\\Local\\Temp\\ipykernel_7368\\1526923261.py:11\u001b[0m, in \u001b[0;36mCase\u001b[1;34m(OrderSize, Width, Length, Weight)\u001b[0m\n\u001b[0;32m      9\u001b[0m DefineModel(Model)\n\u001b[0;32m     10\u001b[0m WriteModelToFile(WriteFile, Model)\n\u001b[1;32m---> 11\u001b[0m Results \u001b[38;5;241m=\u001b[39m \u001b[43mCallSolver\u001b[49m\u001b[43m(\u001b[49m\u001b[43mSolver\u001b[49m\u001b[43m,\u001b[49m\u001b[43m \u001b[49m\u001b[43mModel\u001b[49m\u001b[43m)\u001b[49m\n\u001b[0;32m     12\u001b[0m WriteOutput(Model, OrderSize, Results)\n",
      "File \u001b[1;32m~\\AppData\\Local\\Temp\\ipykernel_7368\\3751857889.py:9\u001b[0m, in \u001b[0;36mCallSolver\u001b[1;34m(Solver, Model)\u001b[0m\n\u001b[0;32m      7\u001b[0m         Results \u001b[38;5;241m=\u001b[39m Solver\u001b[38;5;241m.\u001b[39msolve(Model, load_solutions \u001b[38;5;241m=\u001b[39m LoadSolution, tee \u001b[38;5;241m=\u001b[39m Verbose, solver \u001b[38;5;241m=\u001b[39m Model\u001b[38;5;241m.\u001b[39mEngine, options \u001b[38;5;241m=\u001b[39m Model\u001b[38;5;241m.\u001b[39mOptions)\n\u001b[0;32m      8\u001b[0m \u001b[38;5;28;01melse\u001b[39;00m:\n\u001b[1;32m----> 9\u001b[0m     Results \u001b[38;5;241m=\u001b[39m \u001b[43mSolver\u001b[49m\u001b[38;5;241;43m.\u001b[39;49m\u001b[43msolve\u001b[49m\u001b[43m(\u001b[49m\u001b[43mModel\u001b[49m\u001b[43m,\u001b[49m\u001b[43m \u001b[49m\u001b[43mload_solutions\u001b[49m\u001b[43m \u001b[49m\u001b[38;5;241;43m=\u001b[39;49m\u001b[43m \u001b[49m\u001b[43mLoadSolution\u001b[49m\u001b[43m,\u001b[49m\u001b[43m \u001b[49m\u001b[43mtee\u001b[49m\u001b[43m \u001b[49m\u001b[38;5;241;43m=\u001b[39;49m\u001b[43m \u001b[49m\u001b[43mVerbose\u001b[49m\u001b[43m)\u001b[49m\n\u001b[0;32m     11\u001b[0m \u001b[38;5;28;01mreturn\u001b[39;00m Results, Model\n",
      "File \u001b[1;32mD:\\OneDrive\\Python\\blog\\lib\\site-packages\\pyomo\\contrib\\appsi\\base.py:1557\u001b[0m, in \u001b[0;36mLegacySolverInterface.solve\u001b[1;34m(self, model, tee, load_solutions, logfile, solnfile, timelimit, report_timing, solver_io, suffixes, options, keepfiles, symbolic_solver_labels)\u001b[0m\n\u001b[0;32m   1554\u001b[0m \u001b[38;5;28;01mif\u001b[39;00m options \u001b[38;5;129;01mis\u001b[39;00m \u001b[38;5;129;01mnot\u001b[39;00m \u001b[38;5;28;01mNone\u001b[39;00m:\n\u001b[0;32m   1555\u001b[0m     \u001b[38;5;28mself\u001b[39m\u001b[38;5;241m.\u001b[39moptions \u001b[38;5;241m=\u001b[39m options\n\u001b[1;32m-> 1557\u001b[0m results: Results \u001b[38;5;241m=\u001b[39m \u001b[38;5;28;43msuper\u001b[39;49m\u001b[43m(\u001b[49m\u001b[43mLegacySolverInterface\u001b[49m\u001b[43m,\u001b[49m\u001b[43m \u001b[49m\u001b[38;5;28;43mself\u001b[39;49m\u001b[43m)\u001b[49m\u001b[38;5;241;43m.\u001b[39;49m\u001b[43msolve\u001b[49m\u001b[43m(\u001b[49m\u001b[43mmodel\u001b[49m\u001b[43m)\u001b[49m\n\u001b[0;32m   1559\u001b[0m legacy_results \u001b[38;5;241m=\u001b[39m LegacySolverResults()\n\u001b[0;32m   1560\u001b[0m legacy_soln \u001b[38;5;241m=\u001b[39m LegacySolution()\n",
      "File \u001b[1;32mD:\\OneDrive\\Python\\blog\\lib\\site-packages\\pyomo\\contrib\\appsi\\solvers\\highs.py:250\u001b[0m, in \u001b[0;36mHighs.solve\u001b[1;34m(self, model, timer)\u001b[0m\n\u001b[0;32m    248\u001b[0m     \u001b[38;5;28mself\u001b[39m\u001b[38;5;241m.\u001b[39mupdate(timer\u001b[38;5;241m=\u001b[39mtimer)\n\u001b[0;32m    249\u001b[0m     timer\u001b[38;5;241m.\u001b[39mstop(\u001b[38;5;124m'\u001b[39m\u001b[38;5;124mupdate\u001b[39m\u001b[38;5;124m'\u001b[39m)\n\u001b[1;32m--> 250\u001b[0m res \u001b[38;5;241m=\u001b[39m \u001b[38;5;28;43mself\u001b[39;49m\u001b[38;5;241;43m.\u001b[39;49m\u001b[43m_solve\u001b[49m\u001b[43m(\u001b[49m\u001b[43mtimer\u001b[49m\u001b[43m)\u001b[49m\n\u001b[0;32m    251\u001b[0m \u001b[38;5;28mself\u001b[39m\u001b[38;5;241m.\u001b[39m_last_results_object \u001b[38;5;241m=\u001b[39m res\n\u001b[0;32m    252\u001b[0m \u001b[38;5;28;01mif\u001b[39;00m \u001b[38;5;28mself\u001b[39m\u001b[38;5;241m.\u001b[39mconfig\u001b[38;5;241m.\u001b[39mreport_timing:\n",
      "File \u001b[1;32mD:\\OneDrive\\Python\\blog\\lib\\site-packages\\pyomo\\contrib\\appsi\\solvers\\highs.py:231\u001b[0m, in \u001b[0;36mHighs._solve\u001b[1;34m(self, timer)\u001b[0m\n\u001b[0;32m    229\u001b[0m             \u001b[38;5;28mself\u001b[39m\u001b[38;5;241m.\u001b[39m_solver_model\u001b[38;5;241m.\u001b[39msetOptionValue(key, option)\n\u001b[0;32m    230\u001b[0m         timer\u001b[38;5;241m.\u001b[39mstart(\u001b[38;5;124m'\u001b[39m\u001b[38;5;124moptimize\u001b[39m\u001b[38;5;124m'\u001b[39m)\n\u001b[1;32m--> 231\u001b[0m         \u001b[38;5;28;43mself\u001b[39;49m\u001b[38;5;241;43m.\u001b[39;49m\u001b[43m_solver_model\u001b[49m\u001b[38;5;241;43m.\u001b[39;49m\u001b[43mrun\u001b[49m\u001b[43m(\u001b[49m\u001b[43m)\u001b[49m\n\u001b[0;32m    232\u001b[0m         timer\u001b[38;5;241m.\u001b[39mstop(\u001b[38;5;124m'\u001b[39m\u001b[38;5;124moptimize\u001b[39m\u001b[38;5;124m'\u001b[39m)\n\u001b[0;32m    234\u001b[0m \u001b[38;5;28;01mreturn\u001b[39;00m \u001b[38;5;28mself\u001b[39m\u001b[38;5;241m.\u001b[39m_postsolve(timer)\n",
      "\u001b[1;31mMemoryError\u001b[0m: bad allocation"
     ]
    }
   ],
   "source": [
    "import psutil\n",
    "process = psutil.Process()\n",
    "\n",
    "Main()\n",
    "\n",
    "MemoryUsage = process.memory_info()\n",
    "print(MemoryUsage)"
   ]
  }
 ],
 "metadata": {
  "kernelspec": {
   "display_name": "Python 3 (ipykernel)",
   "language": "python",
   "name": "python3"
  },
  "language_info": {
   "codemirror_mode": {
    "name": "ipython",
    "version": 3
   },
   "file_extension": ".py",
   "mimetype": "text/x-python",
   "name": "python",
   "nbconvert_exporter": "python",
   "pygments_lexer": "ipython3",
   "version": "3.9.13"
  }
 },
 "nbformat": 4,
 "nbformat_minor": 5
}
