{
 "cells": [
  {
   "cell_type": "markdown",
   "id": "498043e7-560b-46f5-be2a-656b720984e2",
   "metadata": {},
   "source": [
    "# Paper coverage, Model 4\n",
    "\n",
    "Variation of Model 2, with a baseline set of sizes plus random candidates.\n",
    "\n",
    "This model is suitable for larger sets of items, where Model 3 would have too many variables to solve to optimality.\n",
    "\n",
    "Given enough time, this model will find near optimal solutions - probably within 1%."
   ]
  },
  {
   "cell_type": "code",
   "execution_count": null,
   "id": "7c789501-5273-446c-a69c-3f0d48e2eed0",
   "metadata": {},
   "outputs": [],
   "source": [
    "%run ./components/imports.ipynb\n",
    "%run ./components/utilities.ipynb\n",
    "%run ./components/solver.ipynb\n",
    "%run ./components/data-model-4.ipynb\n",
    "%run ./components/formulation-model-2.ipynb   # Same formulation as Model 2\n",
    "%run ./components/output-model-4.ipynb\n",
    "%run ./components/main-model-4.ipynb"
   ]
  },
  {
   "cell_type": "code",
   "execution_count": null,
   "id": "6e2292d2-da8e-466a-8d61-55412c78c818",
   "metadata": {},
   "outputs": [],
   "source": [
    "# Globals\n",
    "\n",
    "# Data assumptions\n",
    "ProductsMin = 2   # >= 1\n",
    "ProductsMax = 10   # <= number of items\n",
    "DataFile = os.path.join(os.getcwd() + '\\data', 'data-200-actual-extended-sorted.xlsx')\n",
    "DataWorksheet = 'Data'\n",
    "\n",
    "# Run options\n",
    "Verbose = False\n",
    "LoadSolution = True\n",
    "TimeLimit = 3600   # seconds\n",
    "Iterations = 10\n",
    "ExtraCandidates = 800\n",
    "\n",
    "# Solver options\n",
    "Neos = False\n",
    "SolverName = 'appsi_highs'\n",
    "os.environ['NEOS_EMAIL'] = 'your-email@company.com'\n",
    "\n",
    "# Model file\n",
    "WriteFile = False\n",
    "ModelFile = 'model-4.gams'\n",
    "\n",
    "# Fixed\n",
    "ModelName = 'Paper coverage - Model 4'\n",
    "Checkpoints = []   # List of time checkpoints"
   ]
  },
  {
   "cell_type": "code",
   "execution_count": null,
   "id": "c680e77d-c394-4d5b-9507-66c418a6a54a",
   "metadata": {},
   "outputs": [],
   "source": [
    "Main()"
   ]
  }
 ],
 "metadata": {
  "kernelspec": {
   "display_name": "Python 3 (ipykernel)",
   "language": "python",
   "name": "python3"
  },
  "language_info": {
   "codemirror_mode": {
    "name": "ipython",
    "version": 3
   },
   "file_extension": ".py",
   "mimetype": "text/x-python",
   "name": "python",
   "nbconvert_exporter": "python",
   "pygments_lexer": "ipython3",
   "version": "3.9.13"
  }
 },
 "nbformat": 4,
 "nbformat_minor": 5
}
