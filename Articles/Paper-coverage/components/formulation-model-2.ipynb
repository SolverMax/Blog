{
 "cells": [
  {
   "cell_type": "code",
   "execution_count": 1,
   "id": "1ab9c709-a751-4942-9f89-622fe70a09bb",
   "metadata": {
    "editable": true,
    "slideshow": {
     "slide_type": ""
    },
    "tags": []
   },
   "outputs": [],
   "source": [
    "# Define model\n",
    "def DefineModel(Model):\n",
    "    Model.Select = pyo.Var(Model.Candidate, domain = pyo.Binary)\n",
    "    Model.Allocation = pyo.Var(Model.Item, Model.Candidate, within = pyo.Binary, initialize = 0)\n",
    "\n",
    "    def rule_LBWidth(Model, i):   # Width of allocated product must be at least width of each item it is allocated to\n",
    "        return sum(Model.Allocation[i, c] * Model.CandidateWidth[c] for c in Model.Candidate) >= Model.Width[i]\n",
    "    Model.MinWidth = pyo.Constraint(Model.Item, rule = rule_LBWidth)\n",
    "\n",
    "    def rule_LBLength(Model, i):   # Length of allocated product must be at least length of each item it is allocated to\n",
    "        return sum(Model.Allocation[i, c] * Model.CandidateLength[c] for c in Model.Candidate) >= Model.Length[i]\n",
    "    Model.MinLength = pyo.Constraint(Model.Item, rule = rule_LBLength)\n",
    "    \n",
    "    def rule_count(Model):   # Select the specified number of products that we want to order\n",
    "        return sum(Model.Select[c] for c in Model.Candidate) == Model.Orders\n",
    "    Model.NumOrders = pyo.Constraint(rule = rule_count)\n",
    "\n",
    "    def rule_only(Model, i, c):   # Allocate an item to a candidate only if that candidate is selected\n",
    "        return Model.Allocation[i, c] <= Model.Select[c]\n",
    "    Model.SelectedOnly = pyo.Constraint(Model.Item, Model.Candidate, rule = rule_only)\n",
    "    \n",
    "    def rule_once(Model, i):   # Each item is allocated to exactly one product\n",
    "        return sum(Model.Allocation[i, c] for c in Model.Candidate) == 1\n",
    "    Model.AllocateOnce = pyo.Constraint(Model.Item, rule = rule_once)\n",
    "\n",
    "    def rule_Obj(Model):   # Minimize waste = Area of allocated product minus area of item, in total for all items\n",
    "        return sum(sum(Model.Allocation[i, c] * Model.CandidateArea[c] * Model.Weight[i] for c in Model.Candidate) for i in Model.Item) \\\n",
    "               - sum(Model.Width[i] * Model.Length[i] * Model.Weight[i] for i in Model.Item)\n",
    "    Model.Obj = pyo.Objective(rule = rule_Obj, sense = pyo.minimize)"
   ]
  }
 ],
 "metadata": {
  "kernelspec": {
   "display_name": "Python 3 (ipykernel)",
   "language": "python",
   "name": "python3"
  },
  "language_info": {
   "codemirror_mode": {
    "name": "ipython",
    "version": 3
   },
   "file_extension": ".py",
   "mimetype": "text/x-python",
   "name": "python",
   "nbconvert_exporter": "python",
   "pygments_lexer": "ipython3",
   "version": "3.9.13"
  }
 },
 "nbformat": 4,
 "nbformat_minor": 5
}
