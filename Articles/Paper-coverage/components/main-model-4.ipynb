{
 "cells": [
  {
   "cell_type": "code",
   "execution_count": 1,
   "id": "59d916b3-bd63-4c3d-b917-c7800fb90cb3",
   "metadata": {},
   "outputs": [],
   "source": [
    "def Case(OrderSize, Width, Length, Weight):\n",
    "    Model = pyo.ConcreteModel(name = ModelName + ', Order size ' + str(OrderSize))\n",
    "    Model.Engine = SolverName\n",
    "    Model.TimeLimit = TimeLimit\n",
    "    Solver, Model = SetUpSolver(Model)\n",
    "    DefineModelData(Model, Width, Length, Weight)\n",
    "    Model.Orders = OrderSize\n",
    "    DefineModel(Model)\n",
    "    WriteModelToFile(WriteFile, Model)\n",
    "    Results = CallSolver(Solver, Model)\n",
    "    Obj = pyo.value(Model.Obj())\n",
    "    Products = ''\n",
    "    for c in Model.Candidate:\n",
    "        if np.isclose(pyo.value(Model.Select[c]), 1):   # Binary variable = 1, give-or-take small precision error\n",
    "            Products += str(pyo.value(Model.CandidateWidth[c])).rjust(4) + ' ' + str(pyo.value(Model.CandidateLength[c])).rjust(4) + ' '\n",
    "    return Obj, Products, pyo.value(Model.Baseline)"
   ]
  },
  {
   "cell_type": "code",
   "execution_count": 2,
   "id": "774e7f04-2366-4dd9-a7fc-464b3ce02dca",
   "metadata": {},
   "outputs": [],
   "source": [
    "def OuterLoop(Size, BestFound):   # Solve each product size multiple times, to increase chance of getting a good solution\n",
    "    Width, Length, Weight = GetData(DataFile, DataWorksheet)\n",
    "    for OrderSize in range(Size, Size + 1):\n",
    "        Result, Products, Baseline = Case(OrderSize, Width, Length, Weight)\n",
    "        Marker = ' '\n",
    "        if Result < BestFound:\n",
    "            BestFound = Result\n",
    "            Marker = '*'   # Mark each solution that is the best so far, for this number of products\n",
    "        Waste = Result / Baseline\n",
    "        WriteOutput(OrderSize, Result, Waste, Marker, Products)\n",
    "    return BestFound"
   ]
  },
  {
   "cell_type": "code",
   "execution_count": 3,
   "id": "a3c64cba-25a3-414e-bf8b-f4ca567c5362",
   "metadata": {},
   "outputs": [],
   "source": [
    "def Main():\n",
    "    Timer('Start');\n",
    "    print(ModelName)\n",
    "    print('Data file:', DataFile, '\\n')\n",
    "    print('Products  Objective      Waste      Sizes')\n",
    "    for s in range(ProductsMin, ProductsMax + 1):   # Run multiple product cases, if required\n",
    "        BestFound = np.inf\n",
    "        for i in range(0, Iterations):\n",
    "            BestFound = OuterLoop(s, BestFound)\n",
    "        print()   # Blank line between each set of product iterations\n",
    "        Timer('Completed ' + str(s));\n",
    "    Timer('Finish');\n",
    "    WriteCheckpoints()"
   ]
  }
 ],
 "metadata": {
  "kernelspec": {
   "display_name": "Python 3 (ipykernel)",
   "language": "python",
   "name": "python3"
  },
  "language_info": {
   "codemirror_mode": {
    "name": "ipython",
    "version": 3
   },
   "file_extension": ".py",
   "mimetype": "text/x-python",
   "name": "python",
   "nbconvert_exporter": "python",
   "pygments_lexer": "ipython3",
   "version": "3.9.13"
  }
 },
 "nbformat": 4,
 "nbformat_minor": 5
}
