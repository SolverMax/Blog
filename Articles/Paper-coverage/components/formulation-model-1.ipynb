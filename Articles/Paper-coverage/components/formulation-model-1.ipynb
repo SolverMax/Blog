{
 "cells": [
  {
   "cell_type": "code",
   "execution_count": 1,
   "id": "1ab9c709-a751-4942-9f89-622fe70a09bb",
   "metadata": {
    "editable": true,
    "slideshow": {
     "slide_type": ""
    },
    "tags": []
   },
   "outputs": [],
   "source": [
    "# Define model\n",
    "def DefineModel(Model):\n",
    "    Model.SelectWidth = pyo.Var(Model.Item, Model.Size, domain = pyo.Binary, initialize = 0)   # For each product size, select one of the item widths\n",
    "    Model.SelectLength = pyo.Var(Model.Item, Model.Size, domain = pyo.Binary, initialize = 0)   # For each product size, select one of the item lengths\n",
    "    Model.Allocation = pyo.Var(Model.Item, Model.Size, within = pyo.Binary, initialize = 0)   # Allocate each item to one of the products\n",
    "    \n",
    "    def rule_LBWidth(Model, i):   # Width of allocated product must be at least width of each item it is allocated to\n",
    "        return sum(Model.Allocation[i, s] * sum(Model.Width[i] * Model.SelectWidth[i, s] for i in Model.Item) for s in Model.Size) >= Model.Width[i]\n",
    "    Model.MinWidth = pyo.Constraint(Model.Item, rule = rule_LBWidth)\n",
    "\n",
    "    def rule_LBLength(Model, i):   # Length of allocated product must be at least width of each item it is allocated to\n",
    "        return sum(Model.Allocation[i, s] * sum(Model.Length[i] * Model.SelectLength[i, s] for i in Model.Item) for s in Model.Size) >= Model.Length[i]\n",
    "    Model.MinLength = pyo.Constraint(Model.Item, rule = rule_LBLength)\n",
    "    \n",
    "    def rule_once(Model, i):   # Each item is allocated to exactly one product\n",
    "        return sum(Model.Allocation[i, s] for s in Model.Size) == 1\n",
    "    Model.AllocateOnce = pyo.Constraint(Model.Item, rule = rule_once)\n",
    "\n",
    "    def rule_OneW(Model, s):   # Each product has exactly one width\n",
    "        return sum(Model.SelectWidth[i, s] for i in Model.Item) == 1\n",
    "    Model.SelectW = pyo.Constraint(Model.Size, rule = rule_OneW)\n",
    "\n",
    "    def rule_OneL(Model, s):   # Each product has exactly one length\n",
    "        return sum(Model.SelectLength[i, s] for i in Model.Item) == 1\n",
    "    Model.SelectL = pyo.Constraint(Model.Size, rule = rule_OneL)\n",
    "    \n",
    "    def rule_Obj(Model):   # Minimize waste = Area of allocated product minus area of item, in total for all items\n",
    "        return sum(sum(Model.Allocation[i, s] * (sum(Model.Width[i] * Model.SelectWidth[i, s] for i in Model.Item) \\\n",
    "               * sum(Model.Length[i] * Model.SelectLength[i, s] for i in Model.Item)) * Model.Weight[i] for s in Model.Size) for i in Model.Item) \\\n",
    "               - sum(Model.Width[i] * Model.Length[i] * Model.Weight[i] for i in Model.Item)\n",
    "    Model.Obj = pyo.Objective(rule = rule_Obj, sense = pyo.minimize)"
   ]
  }
 ],
 "metadata": {
  "kernelspec": {
   "display_name": "Python 3 (ipykernel)",
   "language": "python",
   "name": "python3"
  },
  "language_info": {
   "codemirror_mode": {
    "name": "ipython",
    "version": 3
   },
   "file_extension": ".py",
   "mimetype": "text/x-python",
   "name": "python",
   "nbconvert_exporter": "python",
   "pygments_lexer": "ipython3",
   "version": "3.9.13"
  }
 },
 "nbformat": 4,
 "nbformat_minor": 5
}
