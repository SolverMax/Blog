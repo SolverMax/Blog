{
 "cells": [
  {
   "cell_type": "code",
   "execution_count": 1,
   "id": "fb79d6af-fe90-4ec7-b077-a3eb57db0eeb",
   "metadata": {
    "editable": true,
    "slideshow": {
     "slide_type": ""
    },
    "tags": []
   },
   "outputs": [],
   "source": [
    "# Load data from Excel file\n",
    "def GetData(DataFile, DataWorksheet):\n",
    "    Width = LoadFromExcel(DataFile, DataWorksheet, 'Width')\n",
    "    Length = LoadFromExcel(DataFile, DataWorksheet, 'Length')\n",
    "    Weight = LoadFromExcel(DataFile, DataWorksheet, 'Weight')\n",
    "    Width.columns = ['Item']\n",
    "    Length.columns = ['Item']\n",
    "    Weight.columns = ['Item']\n",
    "    return Width, Length, Weight"
   ]
  },
  {
   "cell_type": "code",
   "execution_count": 2,
   "id": "c4db48f3-4884-446c-935a-644acba77432",
   "metadata": {
    "editable": true,
    "slideshow": {
     "slide_type": ""
    },
    "tags": []
   },
   "outputs": [],
   "source": [
    "# Define model data, assigning all data to the Model\n",
    "def DefineModelData(Model, Width, Length, Weight):\n",
    "    Model.Item = pyo.Set(initialize = range(0, len(Width)))\n",
    "    Model.Candidate = pyo.Set(initialize = range(0, len(Width) + 1 + ExtraCandidates))\n",
    "    Model.Width = pyo.Param(Model.Item, within = pyo.NonNegativeIntegers, mutable = True)\n",
    "    Model.Length = pyo.Param(Model.Item, within = pyo.NonNegativeIntegers, mutable = True)\n",
    "    Model.Weight = pyo.Param(Model.Item, within = pyo.NonNegativeReals, mutable = True)\n",
    "    \n",
    "    Model.Baseline = 0   # Total weighted area of all items\n",
    "    for i in Model.Item:\n",
    "        Model.Width[i] = Width['Item'][i]\n",
    "        Model.Length[i] = Length['Item'][i]\n",
    "        Model.Weight[i] = Weight['Item'][i]\n",
    "        Model.Baseline += Model.Width[i] * Model.Length[i] * Model.Weight[i]\n",
    "        \n",
    "    # Define candidate product sizes using width and length of items\n",
    "    Model.CandidateWidth = pyo.Param(Model.Candidate, within = pyo.NonNegativeIntegers, mutable = True)\n",
    "    Model.CandidateLength = pyo.Param(Model.Candidate, within = pyo.NonNegativeIntegers, mutable = True)\n",
    "    Model.CandidateArea = pyo.Param(Model.Candidate, within = pyo.NonNegativeIntegers, mutable = True)\n",
    "    MaxWidth = 0\n",
    "    MaxLength = 0\n",
    "    for i in Model.Item:\n",
    "        Model.CandidateWidth[i] = Width['Item'][i]\n",
    "        Model.CandidateLength[i] = Length['Item'][i]\n",
    "        Model.CandidateArea[i] = Width['Item'][i] * Length['Item'][i]\n",
    "        MaxWidth = max(MaxWidth, Width['Item'][i])\n",
    "        MaxLength = max(MaxLength, Length['Item'][i])\n",
    "    \n",
    "    # Extra candidate to ensure feasibility. Dimensions will depend on how the data is sorted\n",
    "    Model.CandidateWidth[len(Width)] = max(MaxWidth, MaxLength)\n",
    "    Model.CandidateLength[len(Width)] = min(MaxWidth, MaxLength)\n",
    "    Model.CandidateArea[len(Width)] = MaxWidth * MaxLength\n",
    "\n",
    "    # Plus a specified number of extra candidates, with width and length independently chosen from item widths and lengths\n",
    "    WidthOriginal = Model.CandidateWidth\n",
    "    LengthOriginal = Model.CandidateLength\n",
    "    for i in range(0, ExtraCandidates):\n",
    "        Dimension1 = rnd.choice(Width['Item'])\n",
    "        Dimension2 = rnd.choice(Length['Item'])\n",
    "        SortedWidth = max(Dimension1, Dimension2)\n",
    "        SortedLength = min(Dimension1, Dimension2)\n",
    "        Model.CandidateWidth[len(Width) + 1 + i] = SortedWidth   # Choose one from original widths\n",
    "        Model.CandidateLength[len(Width) + 1 + i] = SortedLength # Choose one from original lengths\n",
    "        Model.CandidateArea[len(Width) + 1 + i] = Model.CandidateWidth[len(Width) + 1 + i] * Model.CandidateLength[len(Width) + 1 + i]"
   ]
  }
 ],
 "metadata": {
  "kernelspec": {
   "display_name": "Python 3 (ipykernel)",
   "language": "python",
   "name": "python3"
  },
  "language_info": {
   "codemirror_mode": {
    "name": "ipython",
    "version": 3
   },
   "file_extension": ".py",
   "mimetype": "text/x-python",
   "name": "python",
   "nbconvert_exporter": "python",
   "pygments_lexer": "ipython3",
   "version": "3.9.13"
  }
 },
 "nbformat": 4,
 "nbformat_minor": 5
}
