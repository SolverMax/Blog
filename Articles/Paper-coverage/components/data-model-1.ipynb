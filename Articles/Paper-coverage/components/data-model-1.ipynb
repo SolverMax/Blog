{
 "cells": [
  {
   "cell_type": "code",
   "execution_count": 1,
   "id": "fb79d6af-fe90-4ec7-b077-a3eb57db0eeb",
   "metadata": {
    "editable": true,
    "slideshow": {
     "slide_type": ""
    },
    "tags": []
   },
   "outputs": [],
   "source": [
    "# Load data from Excel file\n",
    "def GetData(DataFile, DataWorksheet):\n",
    "    Width = LoadFromExcel(DataFile, DataWorksheet, 'Width')\n",
    "    Length = LoadFromExcel(DataFile, DataWorksheet, 'Length')\n",
    "    Weight = LoadFromExcel(DataFile, DataWorksheet, 'Weight')\n",
    "    Width.columns = ['Item']   # Input data is for each item\n",
    "    Length.columns = ['Item']\n",
    "    Weight.columns = ['Item']\n",
    "    return Width, Length, Weight"
   ]
  },
  {
   "cell_type": "code",
   "execution_count": 2,
   "id": "c4db48f3-4884-446c-935a-644acba77432",
   "metadata": {
    "editable": true,
    "slideshow": {
     "slide_type": ""
    },
    "tags": []
   },
   "outputs": [],
   "source": [
    "# Define model data, assigning all data to the Model\n",
    "def DefineModelData(Model, OrderSize, Width, Length, Weight):\n",
    "    Model.Item = pyo.Set(initialize = range(0, len(Width)))\n",
    "    Model.Size = pyo.Set(initialize = range(0, OrderSize))\n",
    "    Model.Width = pyo.Param(Model.Item, within = pyo.NonNegativeIntegers, mutable = True)\n",
    "    Model.Length = pyo.Param(Model.Item, within = pyo.NonNegativeIntegers, mutable = True)\n",
    "    Model.Weight = pyo.Param(Model.Item, within = pyo.NonNegativeReals, mutable = True)\n",
    "\n",
    "    Model.Baseline = 0   # Total weighted area of all items\n",
    "    for i in Model.Item:\n",
    "        Model.Width[i] = Width['Item'][i]\n",
    "        Model.Length[i] = Length['Item'][i]\n",
    "        Model.Weight[i] = Weight['Item'][i]\n",
    "        Model.Baseline += Model.Width[i] * Model.Length[i] * Model.Weight[i]"
   ]
  }
 ],
 "metadata": {
  "kernelspec": {
   "display_name": "Python 3 (ipykernel)",
   "language": "python",
   "name": "python3"
  },
  "language_info": {
   "codemirror_mode": {
    "name": "ipython",
    "version": 3
   },
   "file_extension": ".py",
   "mimetype": "text/x-python",
   "name": "python",
   "nbconvert_exporter": "python",
   "pygments_lexer": "ipython3",
   "version": "3.9.13"
  }
 },
 "nbformat": 4,
 "nbformat_minor": 5
}
