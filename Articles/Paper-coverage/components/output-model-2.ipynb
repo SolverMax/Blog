{
 "cells": [
  {
   "cell_type": "code",
   "execution_count": null,
   "id": "e7c51632-972c-4475-9775-cf3e6cd62d62",
   "metadata": {},
   "outputs": [],
   "source": [
    "def WriteOutput(Model, OrderSize, Results):\n",
    "    Obj = pyo.value(Model.Obj())\n",
    "    Products = '['\n",
    "    for c in Model.Candidate:   # Collate list of selected product sizes\n",
    "        if np.isclose(pyo.value(Model.Select[c]), 1):   # Binary variable = 1, give-or-take small precision error\n",
    "            Products += str(pyo.value(Model.CandidateWidth[c])).rjust(6) + ' ' + str(pyo.value(Model.CandidateLength[c])).rjust(6) + ' '\n",
    "    Products += ']'\n",
    "    print()\n",
    "    print(f'Order size:   {OrderSize:<,.0f}')\n",
    "    print(f'Objective:    {Obj:<,.0f} ({Obj / pyo.value(Model.Baseline):.1%} of baseline)')\n",
    "    print(f'Products:     {Products}\\n')\n",
    "\n",
    "    pd.options.display.float_format = '{:,.0f}'.format\n",
    "    ItemsAllocated = pd.DataFrame()\n",
    "    \n",
    "    SelectedSizes = []   # Dataframe of solution\n",
    "    for c in Model.Select:\n",
    "        if np.isclose(pyo.value(Model.Select[c]), 1):\n",
    "            SelectedSizes.append(str(pyo.value(Model.CandidateWidth[c])) + 'x' + str(pyo.value(Model.CandidateLength[c])))\n",
    "            for i in Model.Item:\n",
    "                ItemsAllocated.at[i, c] = pyo.value(Model.Allocation[i, c])\n",
    "    ItemsAllocated.columns = SelectedSizes\n",
    "\n",
    "    ItemSizes = []   # Add item sizes to solution dataframe\n",
    "    for i in Model.Item:\n",
    "        ItemSizes.append(str(pyo.value(Model.Width[i])) + 'x' + str(pyo.value(Model.Length[i])))\n",
    "    ItemsAllocated['Item'] = ItemSizes\n",
    "    pd.set_option('display.max_rows', None)\n",
    "    display(ItemsAllocated)"
   ]
  }
 ],
 "metadata": {
  "kernelspec": {
   "display_name": "Python 3 (ipykernel)",
   "language": "python",
   "name": "python3"
  },
  "language_info": {
   "codemirror_mode": {
    "name": "ipython",
    "version": 3
   },
   "file_extension": ".py",
   "mimetype": "text/x-python",
   "name": "python",
   "nbconvert_exporter": "python",
   "pygments_lexer": "ipython3",
   "version": "3.9.13"
  }
 },
 "nbformat": 4,
 "nbformat_minor": 5
}
