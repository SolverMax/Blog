{
 "cells": [
  {
   "cell_type": "code",
   "execution_count": 1,
   "id": "fb79d6af-fe90-4ec7-b077-a3eb57db0eeb",
   "metadata": {
    "editable": true,
    "slideshow": {
     "slide_type": ""
    },
    "tags": []
   },
   "outputs": [],
   "source": [
    "# Load data from Excel file\n",
    "def GetData(DataFile, DataWorksheet):\n",
    "    Width = LoadFromExcel(DataFile, DataWorksheet, 'Width')\n",
    "    Length = LoadFromExcel(DataFile, DataWorksheet, 'Length')\n",
    "    Weight = LoadFromExcel(DataFile, DataWorksheet, 'Weight')\n",
    "    Width.columns = ['Item']\n",
    "    Length.columns = ['Item']\n",
    "    Weight.columns = ['Item']\n",
    "    return Width, Length, Weight"
   ]
  },
  {
   "cell_type": "code",
   "execution_count": 2,
   "id": "c4db48f3-4884-446c-935a-644acba77432",
   "metadata": {
    "editable": true,
    "slideshow": {
     "slide_type": ""
    },
    "tags": []
   },
   "outputs": [],
   "source": [
    "# Define model data, assigning all data to the Model\n",
    "def DefineModelData(Model, Width, Length, Weight):\n",
    "    Model.Item = pyo.Set(initialize = range(0, len(Width)))\n",
    "    Model.Candidate = pyo.Set(initialize = range(0, 3 * len(Width) * len(Width)))\n",
    "    Model.Width = pyo.Param(Model.Item, within = pyo.NonNegativeIntegers, mutable = True)\n",
    "    Model.Length = pyo.Param(Model.Item, within = pyo.NonNegativeIntegers, mutable = True)\n",
    "    Model.Weight = pyo.Param(Model.Item, within = pyo.NonNegativeReals, mutable = True)\n",
    "    Model.BigM = pyo.Param(Model.Item, within = pyo.NonPositiveReals, mutable = True)   # Note domain reflects expectation of negative value\n",
    "\n",
    "    Model.Baseline = 0   # Total weighted area of all items\n",
    "    for i in Model.Item:\n",
    "        Model.Width[i] = Width['Item'][i]\n",
    "        Model.Length[i] = Length['Item'][i]\n",
    "        Model.Weight[i] = Weight['Item'][i]\n",
    "        Model.Baseline += Model.Width[i] * Model.Length[i] * Model.Weight[i]\n",
    "        \n",
    "    # Define candidate product sizes using width and length of items, taking item width and lengths independently to enumerate all combinations\n",
    "    Model.CandidateWidth = pyo.Param(Model.Candidate, within = pyo.NonNegativeIntegers, mutable = True)\n",
    "    Model.CandidateLength = pyo.Param(Model.Candidate, within = pyo.NonNegativeIntegers, mutable = True)\n",
    "    Model.CandidateArea = pyo.Param(Model.Candidate, within = pyo.NonNegativeIntegers, mutable = True)\n",
    "    for i in Model.Item:   # All widths x lengths\n",
    "        for j in Model.Item:\n",
    "            Model.CandidateWidth[i * len(Width) + j] = Width['Item'][i]\n",
    "            Model.CandidateLength[i * len(Width) + j] = Length['Item'][j]\n",
    "            Model.CandidateArea[i * len(Width) + j] = Width['Item'][i] * Length['Item'][j]\n",
    "    for i in Model.Item:   # All widths x widths\n",
    "        for j in Model.Item:\n",
    "            Model.CandidateWidth[(len(Width) * len(Width)) + i * len(Width) + j] = Width['Item'][i]\n",
    "            Model.CandidateLength[(len(Width) * len(Width)) + i * len(Width) + j] = Width['Item'][j]\n",
    "            Model.CandidateArea[(len(Width) * len(Width)) + i * len(Width) + j] = Width['Item'][j] * Width['Item'][i]\n",
    "    for i in Model.Item:   # All lengths x lengths\n",
    "        for j in Model.Item:\n",
    "            Model.CandidateWidth[(2 * len(Width) * len(Width)) + i * len(Width) + j] = Length['Item'][i]\n",
    "            Model.CandidateLength[(2 * len(Width) * len(Width)) + i * len(Width) + j] = Length['Item'][j]\n",
    "            Model.CandidateArea[2 * (len(Width) * len(Width)) + i * len(Width) + j] = Length['Item'][j] * Length['Item'][i]\n",
    "            \n",
    "    for i in Model.Item:\n",
    "        Model.BigM[i] = -abs(Width['Item'][i] - Length['Item'][i])  # Individual Big M for each item. Note the negative sign"
   ]
  }
 ],
 "metadata": {
  "kernelspec": {
   "display_name": "Python 3 (ipykernel)",
   "language": "python",
   "name": "python3"
  },
  "language_info": {
   "codemirror_mode": {
    "name": "ipython",
    "version": 3
   },
   "file_extension": ".py",
   "mimetype": "text/x-python",
   "name": "python",
   "nbconvert_exporter": "python",
   "pygments_lexer": "ipython3",
   "version": "3.9.13"
  }
 },
 "nbformat": 4,
 "nbformat_minor": 5
}
