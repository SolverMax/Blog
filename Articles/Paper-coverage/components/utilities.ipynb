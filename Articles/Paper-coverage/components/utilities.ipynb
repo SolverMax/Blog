{
 "cells": [
  {
   "cell_type": "code",
   "execution_count": 1,
   "id": "ab1d11b1-6b18-4141-a7d2-b94bbbc54051",
   "metadata": {
    "editable": true,
    "slideshow": {
     "slide_type": ""
    },
    "tags": []
   },
   "outputs": [],
   "source": [
    "# Record time checkpoints\n",
    "# Requires global variable: Checkpoints = []\n",
    "def Timer(Point):   # String label for current checkpoint\n",
    "    Checkpoints.append([Point, tm.perf_counter()])"
   ]
  },
  {
   "cell_type": "code",
   "execution_count": 2,
   "id": "700fcc70-15c8-458d-b897-687db1cbf9c2",
   "metadata": {
    "editable": true,
    "slideshow": {
     "slide_type": ""
    },
    "tags": []
   },
   "outputs": [],
   "source": [
    "# Output list of checkpoint labels and times\n",
    "def WriteCheckpoints():\n",
    "    print('\\nCheckpoint    Seconds')\n",
    "    print('---------------------')\n",
    "    Start = Checkpoints[0][1]\n",
    "    for i in range(1, len(Checkpoints)):\n",
    "        Point = Checkpoints[i][0]\n",
    "        TimeStep = Checkpoints[i][1] - Start\n",
    "        print(f'{Point:12}{TimeStep:9,.1f}')"
   ]
  },
  {
   "cell_type": "code",
   "execution_count": 3,
   "id": "1f6a82cc-7ac3-4446-bd7d-1d1ad86eadc4",
   "metadata": {
    "editable": true,
    "slideshow": {
     "slide_type": ""
    },
    "tags": []
   },
   "outputs": [],
   "source": [
    "# Generic loader from Excel file, given worksheet and named range\n",
    "def LoadFromExcel(ExcelFile, Worksheet, Range):\n",
    "    wb = load_workbook(filename=ExcelFile, read_only = True)\n",
    "    ws = wb[Worksheet]\n",
    "    dests = wb.defined_names[Range].destinations\n",
    "    for title, coord in dests:\n",
    "        min_col, min_row, max_col, max_row = range_boundaries(coord)\n",
    "        data = ws.iter_rows(min_row, max_row, min_col, max_col, values_only = True)\n",
    "    df = pd.DataFrame(data)\n",
    "    return df"
   ]
  },
  {
   "cell_type": "code",
   "execution_count": null,
   "id": "6cc58099-1915-4cf4-92aa-7b096fce4a36",
   "metadata": {
    "editable": true,
    "slideshow": {
     "slide_type": ""
    },
    "tags": []
   },
   "outputs": [],
   "source": [
    "# Write model to file, if required. The format will be inferred by Pyomo from the file extension, e.g. .gams or .nl\n",
    "def WriteModelToFile(WriteFile, Model):\n",
    "    if WriteFile:\n",
    "        Model.write(ModelFile, io_options={'symbolic_solver_labels': False})   # symbolic_solver_labels of True is easier to read, but a longer file"
   ]
  }
 ],
 "metadata": {
  "kernelspec": {
   "display_name": "Python 3 (ipykernel)",
   "language": "python",
   "name": "python3"
  },
  "language_info": {
   "codemirror_mode": {
    "name": "ipython",
    "version": 3
   },
   "file_extension": ".py",
   "mimetype": "text/x-python",
   "name": "python",
   "nbconvert_exporter": "python",
   "pygments_lexer": "ipython3",
   "version": "3.9.13"
  }
 },
 "nbformat": 4,
 "nbformat_minor": 5
}
