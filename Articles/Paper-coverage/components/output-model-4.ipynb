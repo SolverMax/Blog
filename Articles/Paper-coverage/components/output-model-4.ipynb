{
 "cells": [
  {
   "cell_type": "code",
   "execution_count": null,
   "id": "e7c51632-972c-4475-9775-cf3e6cd62d62",
   "metadata": {},
   "outputs": [],
   "source": [
    "def WriteOutput(OrderSize, Result, Waste, Marker, Products):\n",
    "    print(f'{OrderSize:4,.0f}      {Result:<10,.0f}   {Waste:>7.2%} {Marker}   {Products}')"
   ]
  }
 ],
 "metadata": {
  "kernelspec": {
   "display_name": "Python 3 (ipykernel)",
   "language": "python",
   "name": "python3"
  },
  "language_info": {
   "codemirror_mode": {
    "name": "ipython",
    "version": 3
   },
   "file_extension": ".py",
   "mimetype": "text/x-python",
   "name": "python",
   "nbconvert_exporter": "python",
   "pygments_lexer": "ipython3",
   "version": "3.9.13"
  }
 },
 "nbformat": 4,
 "nbformat_minor": 5
}
