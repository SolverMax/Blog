{
 "cells": [
  {
   "cell_type": "code",
   "execution_count": null,
   "id": "e7c51632-972c-4475-9775-cf3e6cd62d62",
   "metadata": {},
   "outputs": [],
   "source": [
    "def WriteOutput(Model, OrderSize, Results):\n",
    "    Obj = pyo.value(Model.Obj())\n",
    "    Products = '['\n",
    "    for s in Model.Size:   # Collate list of selected product sizes\n",
    "        Width = str(sum(pyo.value(Model.Width[i]) * round(pyo.value(Model.SelectWidth[i, s]), 0) for i in Model.Item))\n",
    "        Length = str(sum(pyo.value(Model.Length[i]) * round(pyo.value(Model.SelectLength[i, s]), 0) for i in Model.Item))\n",
    "        Products += Width.rjust(6) + ' ' + Length.rjust(6) + ' '    \n",
    "    Products += ']'\n",
    "    print()\n",
    "    print(f'Order size:   {OrderSize:<,.0f}')\n",
    "    print(f'Objective:    {Obj:<,.0f} ({Obj / pyo.value(Model.Baseline):.1%} of baseline)')\n",
    "    print(f'Products:     {Products}\\n')"
   ]
  }
 ],
 "metadata": {
  "kernelspec": {
   "display_name": "Python 3 (ipykernel)",
   "language": "python",
   "name": "python3"
  },
  "language_info": {
   "codemirror_mode": {
    "name": "ipython",
    "version": 3
   },
   "file_extension": ".py",
   "mimetype": "text/x-python",
   "name": "python",
   "nbconvert_exporter": "python",
   "pygments_lexer": "ipython3",
   "version": "3.9.13"
  }
 },
 "nbformat": 4,
 "nbformat_minor": 5
}
