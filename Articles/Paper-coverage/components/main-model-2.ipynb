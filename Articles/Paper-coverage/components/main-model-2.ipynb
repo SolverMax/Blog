{
 "cells": [
  {
   "cell_type": "code",
   "execution_count": 1,
   "id": "fc84e37b-de78-4d6d-ad0c-4cc42070136a",
   "metadata": {},
   "outputs": [],
   "source": [
    "def Case(OrderSize, Width, Length, Weight):\n",
    "    Model = pyo.ConcreteModel(name = ModelName + ', Order size ' + str(OrderSize))\n",
    "    print(Model.name.strip('\\''))\n",
    "    Model.Engine = SolverName\n",
    "    Model.TimeLimit = TimeLimit\n",
    "    Solver, Model = SetUpSolver(Model)\n",
    "    DefineModelData(Model, Width, Length, Weight)\n",
    "    Model.Orders = OrderSize\n",
    "    DefineModel(Model)\n",
    "    WriteModelToFile(WriteFile, Model)\n",
    "    Results = CallSolver(Solver, Model)\n",
    "    WriteOutput(Model, OrderSize, Results)"
   ]
  },
  {
   "cell_type": "code",
   "execution_count": null,
   "id": "cc1e25ad-b407-4c46-8d55-a4ed5c447123",
   "metadata": {},
   "outputs": [],
   "source": [
    "def Main():\n",
    "    Timer('Start');\n",
    "    Width, Length, Weight = GetData(DataFile, DataWorksheet)\n",
    "    Timer('Setup');\n",
    "    for OrderSize in range(ProductsMin, ProductsMax + 1):   # Run multiple product cases, if required\n",
    "        Case(OrderSize, Width, Length, Weight)\n",
    "    Timer('Solved');\n",
    "    Timer('Finish');\n",
    "    WriteCheckpoints()"
   ]
  }
 ],
 "metadata": {
  "kernelspec": {
   "display_name": "Python 3 (ipykernel)",
   "language": "python",
   "name": "python3"
  },
  "language_info": {
   "codemirror_mode": {
    "name": "ipython",
    "version": 3
   },
   "file_extension": ".py",
   "mimetype": "text/x-python",
   "name": "python",
   "nbconvert_exporter": "python",
   "pygments_lexer": "ipython3",
   "version": "3.9.13"
  }
 },
 "nbformat": 4,
 "nbformat_minor": 5
}
